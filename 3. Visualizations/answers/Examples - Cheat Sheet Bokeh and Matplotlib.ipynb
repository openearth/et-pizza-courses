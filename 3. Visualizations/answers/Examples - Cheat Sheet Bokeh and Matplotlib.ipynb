{
 "cells": [
  {
   "cell_type": "code",
   "execution_count": 1,
   "metadata": {},
   "outputs": [
    {
     "data": {
      "text/html": [
       "\n",
       "    <div class=\"bk-root\">\n",
       "        <a href=\"https://bokeh.pydata.org\" target=\"_blank\" class=\"bk-logo bk-logo-small bk-logo-notebook\"></a>\n",
       "        <span id=\"1001\">Loading BokehJS ...</span>\n",
       "    </div>"
      ]
     },
     "metadata": {},
     "output_type": "display_data"
    },
    {
     "data": {
      "application/javascript": [
       "\n",
       "(function(root) {\n",
       "  function now() {\n",
       "    return new Date();\n",
       "  }\n",
       "\n",
       "  var force = true;\n",
       "\n",
       "  if (typeof root._bokeh_onload_callbacks === \"undefined\" || force === true) {\n",
       "    root._bokeh_onload_callbacks = [];\n",
       "    root._bokeh_is_loading = undefined;\n",
       "  }\n",
       "\n",
       "  var JS_MIME_TYPE = 'application/javascript';\n",
       "  var HTML_MIME_TYPE = 'text/html';\n",
       "  var EXEC_MIME_TYPE = 'application/vnd.bokehjs_exec.v0+json';\n",
       "  var CLASS_NAME = 'output_bokeh rendered_html';\n",
       "\n",
       "  /**\n",
       "   * Render data to the DOM node\n",
       "   */\n",
       "  function render(props, node) {\n",
       "    var script = document.createElement(\"script\");\n",
       "    node.appendChild(script);\n",
       "  }\n",
       "\n",
       "  /**\n",
       "   * Handle when an output is cleared or removed\n",
       "   */\n",
       "  function handleClearOutput(event, handle) {\n",
       "    var cell = handle.cell;\n",
       "\n",
       "    var id = cell.output_area._bokeh_element_id;\n",
       "    var server_id = cell.output_area._bokeh_server_id;\n",
       "    // Clean up Bokeh references\n",
       "    if (id != null && id in Bokeh.index) {\n",
       "      Bokeh.index[id].model.document.clear();\n",
       "      delete Bokeh.index[id];\n",
       "    }\n",
       "\n",
       "    if (server_id !== undefined) {\n",
       "      // Clean up Bokeh references\n",
       "      var cmd = \"from bokeh.io.state import curstate; print(curstate().uuid_to_server['\" + server_id + \"'].get_sessions()[0].document.roots[0]._id)\";\n",
       "      cell.notebook.kernel.execute(cmd, {\n",
       "        iopub: {\n",
       "          output: function(msg) {\n",
       "            var id = msg.content.text.trim();\n",
       "            if (id in Bokeh.index) {\n",
       "              Bokeh.index[id].model.document.clear();\n",
       "              delete Bokeh.index[id];\n",
       "            }\n",
       "          }\n",
       "        }\n",
       "      });\n",
       "      // Destroy server and session\n",
       "      var cmd = \"import bokeh.io.notebook as ion; ion.destroy_server('\" + server_id + \"')\";\n",
       "      cell.notebook.kernel.execute(cmd);\n",
       "    }\n",
       "  }\n",
       "\n",
       "  /**\n",
       "   * Handle when a new output is added\n",
       "   */\n",
       "  function handleAddOutput(event, handle) {\n",
       "    var output_area = handle.output_area;\n",
       "    var output = handle.output;\n",
       "\n",
       "    // limit handleAddOutput to display_data with EXEC_MIME_TYPE content only\n",
       "    if ((output.output_type != \"display_data\") || (!output.data.hasOwnProperty(EXEC_MIME_TYPE))) {\n",
       "      return\n",
       "    }\n",
       "\n",
       "    var toinsert = output_area.element.find(\".\" + CLASS_NAME.split(' ')[0]);\n",
       "\n",
       "    if (output.metadata[EXEC_MIME_TYPE][\"id\"] !== undefined) {\n",
       "      toinsert[toinsert.length - 1].firstChild.textContent = output.data[JS_MIME_TYPE];\n",
       "      // store reference to embed id on output_area\n",
       "      output_area._bokeh_element_id = output.metadata[EXEC_MIME_TYPE][\"id\"];\n",
       "    }\n",
       "    if (output.metadata[EXEC_MIME_TYPE][\"server_id\"] !== undefined) {\n",
       "      var bk_div = document.createElement(\"div\");\n",
       "      bk_div.innerHTML = output.data[HTML_MIME_TYPE];\n",
       "      var script_attrs = bk_div.children[0].attributes;\n",
       "      for (var i = 0; i < script_attrs.length; i++) {\n",
       "        toinsert[toinsert.length - 1].firstChild.setAttribute(script_attrs[i].name, script_attrs[i].value);\n",
       "      }\n",
       "      // store reference to server id on output_area\n",
       "      output_area._bokeh_server_id = output.metadata[EXEC_MIME_TYPE][\"server_id\"];\n",
       "    }\n",
       "  }\n",
       "\n",
       "  function register_renderer(events, OutputArea) {\n",
       "\n",
       "    function append_mime(data, metadata, element) {\n",
       "      // create a DOM node to render to\n",
       "      var toinsert = this.create_output_subarea(\n",
       "        metadata,\n",
       "        CLASS_NAME,\n",
       "        EXEC_MIME_TYPE\n",
       "      );\n",
       "      this.keyboard_manager.register_events(toinsert);\n",
       "      // Render to node\n",
       "      var props = {data: data, metadata: metadata[EXEC_MIME_TYPE]};\n",
       "      render(props, toinsert[toinsert.length - 1]);\n",
       "      element.append(toinsert);\n",
       "      return toinsert\n",
       "    }\n",
       "\n",
       "    /* Handle when an output is cleared or removed */\n",
       "    events.on('clear_output.CodeCell', handleClearOutput);\n",
       "    events.on('delete.Cell', handleClearOutput);\n",
       "\n",
       "    /* Handle when a new output is added */\n",
       "    events.on('output_added.OutputArea', handleAddOutput);\n",
       "\n",
       "    /**\n",
       "     * Register the mime type and append_mime function with output_area\n",
       "     */\n",
       "    OutputArea.prototype.register_mime_type(EXEC_MIME_TYPE, append_mime, {\n",
       "      /* Is output safe? */\n",
       "      safe: true,\n",
       "      /* Index of renderer in `output_area.display_order` */\n",
       "      index: 0\n",
       "    });\n",
       "  }\n",
       "\n",
       "  // register the mime type if in Jupyter Notebook environment and previously unregistered\n",
       "  if (root.Jupyter !== undefined) {\n",
       "    var events = require('base/js/events');\n",
       "    var OutputArea = require('notebook/js/outputarea').OutputArea;\n",
       "\n",
       "    if (OutputArea.prototype.mime_types().indexOf(EXEC_MIME_TYPE) == -1) {\n",
       "      register_renderer(events, OutputArea);\n",
       "    }\n",
       "  }\n",
       "\n",
       "  \n",
       "  if (typeof (root._bokeh_timeout) === \"undefined\" || force === true) {\n",
       "    root._bokeh_timeout = Date.now() + 5000;\n",
       "    root._bokeh_failed_load = false;\n",
       "  }\n",
       "\n",
       "  var NB_LOAD_WARNING = {'data': {'text/html':\n",
       "     \"<div style='background-color: #fdd'>\\n\"+\n",
       "     \"<p>\\n\"+\n",
       "     \"BokehJS does not appear to have successfully loaded. If loading BokehJS from CDN, this \\n\"+\n",
       "     \"may be due to a slow or bad network connection. Possible fixes:\\n\"+\n",
       "     \"</p>\\n\"+\n",
       "     \"<ul>\\n\"+\n",
       "     \"<li>re-rerun `output_notebook()` to attempt to load from CDN again, or</li>\\n\"+\n",
       "     \"<li>use INLINE resources instead, as so:</li>\\n\"+\n",
       "     \"</ul>\\n\"+\n",
       "     \"<code>\\n\"+\n",
       "     \"from bokeh.resources import INLINE\\n\"+\n",
       "     \"output_notebook(resources=INLINE)\\n\"+\n",
       "     \"</code>\\n\"+\n",
       "     \"</div>\"}};\n",
       "\n",
       "  function display_loaded() {\n",
       "    var el = document.getElementById(\"1001\");\n",
       "    if (el != null) {\n",
       "      el.textContent = \"BokehJS is loading...\";\n",
       "    }\n",
       "    if (root.Bokeh !== undefined) {\n",
       "      if (el != null) {\n",
       "        el.textContent = \"BokehJS \" + root.Bokeh.version + \" successfully loaded.\";\n",
       "      }\n",
       "    } else if (Date.now() < root._bokeh_timeout) {\n",
       "      setTimeout(display_loaded, 100)\n",
       "    }\n",
       "  }\n",
       "\n",
       "\n",
       "  function run_callbacks() {\n",
       "    try {\n",
       "      root._bokeh_onload_callbacks.forEach(function(callback) {\n",
       "        if (callback != null)\n",
       "          callback();\n",
       "      });\n",
       "    } finally {\n",
       "      delete root._bokeh_onload_callbacks\n",
       "    }\n",
       "    console.debug(\"Bokeh: all callbacks have finished\");\n",
       "  }\n",
       "\n",
       "  function load_libs(css_urls, js_urls, callback) {\n",
       "    if (css_urls == null) css_urls = [];\n",
       "    if (js_urls == null) js_urls = [];\n",
       "\n",
       "    root._bokeh_onload_callbacks.push(callback);\n",
       "    if (root._bokeh_is_loading > 0) {\n",
       "      console.debug(\"Bokeh: BokehJS is being loaded, scheduling callback at\", now());\n",
       "      return null;\n",
       "    }\n",
       "    if (js_urls == null || js_urls.length === 0) {\n",
       "      run_callbacks();\n",
       "      return null;\n",
       "    }\n",
       "    console.debug(\"Bokeh: BokehJS not loaded, scheduling load and callback at\", now());\n",
       "    root._bokeh_is_loading = css_urls.length + js_urls.length;\n",
       "\n",
       "    function on_load() {\n",
       "      root._bokeh_is_loading--;\n",
       "      if (root._bokeh_is_loading === 0) {\n",
       "        console.debug(\"Bokeh: all BokehJS libraries/stylesheets loaded\");\n",
       "        run_callbacks()\n",
       "      }\n",
       "    }\n",
       "\n",
       "    function on_error() {\n",
       "      console.error(\"failed to load \" + url);\n",
       "    }\n",
       "\n",
       "    for (var i = 0; i < css_urls.length; i++) {\n",
       "      var url = css_urls[i];\n",
       "      const element = document.createElement(\"link\");\n",
       "      element.onload = on_load;\n",
       "      element.onerror = on_error;\n",
       "      element.rel = \"stylesheet\";\n",
       "      element.type = \"text/css\";\n",
       "      element.href = url;\n",
       "      console.debug(\"Bokeh: injecting link tag for BokehJS stylesheet: \", url);\n",
       "      document.body.appendChild(element);\n",
       "    }\n",
       "\n",
       "    for (var i = 0; i < js_urls.length; i++) {\n",
       "      var url = js_urls[i];\n",
       "      var element = document.createElement('script');\n",
       "      element.onload = on_load;\n",
       "      element.onerror = on_error;\n",
       "      element.async = false;\n",
       "      element.src = url;\n",
       "      console.debug(\"Bokeh: injecting script tag for BokehJS library: \", url);\n",
       "      document.head.appendChild(element);\n",
       "    }\n",
       "  };var element = document.getElementById(\"1001\");\n",
       "  if (element == null) {\n",
       "    console.error(\"Bokeh: ERROR: autoload.js configured with elementid '1001' but no matching script tag was found. \")\n",
       "    return false;\n",
       "  }\n",
       "\n",
       "  function inject_raw_css(css) {\n",
       "    const element = document.createElement(\"style\");\n",
       "    element.appendChild(document.createTextNode(css));\n",
       "    document.body.appendChild(element);\n",
       "  }\n",
       "\n",
       "  var js_urls = [\"https://cdn.pydata.org/bokeh/release/bokeh-1.1.0.min.js\", \"https://cdn.pydata.org/bokeh/release/bokeh-widgets-1.1.0.min.js\", \"https://cdn.pydata.org/bokeh/release/bokeh-tables-1.1.0.min.js\", \"https://cdn.pydata.org/bokeh/release/bokeh-gl-1.1.0.min.js\"];\n",
       "  var css_urls = [\"https://cdn.pydata.org/bokeh/release/bokeh-1.1.0.min.css\", \"https://cdn.pydata.org/bokeh/release/bokeh-widgets-1.1.0.min.css\", \"https://cdn.pydata.org/bokeh/release/bokeh-tables-1.1.0.min.css\"];\n",
       "\n",
       "  var inline_js = [\n",
       "    function(Bokeh) {\n",
       "      Bokeh.set_log_level(\"info\");\n",
       "    },\n",
       "    \n",
       "    function(Bokeh) {\n",
       "      \n",
       "    },\n",
       "    function(Bokeh) {} // ensure no trailing comma for IE\n",
       "  ];\n",
       "\n",
       "  function run_inline_js() {\n",
       "    \n",
       "    if ((root.Bokeh !== undefined) || (force === true)) {\n",
       "      for (var i = 0; i < inline_js.length; i++) {\n",
       "        inline_js[i].call(root, root.Bokeh);\n",
       "      }if (force === true) {\n",
       "        display_loaded();\n",
       "      }} else if (Date.now() < root._bokeh_timeout) {\n",
       "      setTimeout(run_inline_js, 100);\n",
       "    } else if (!root._bokeh_failed_load) {\n",
       "      console.log(\"Bokeh: BokehJS failed to load within specified timeout.\");\n",
       "      root._bokeh_failed_load = true;\n",
       "    } else if (force !== true) {\n",
       "      var cell = $(document.getElementById(\"1001\")).parents('.cell').data().cell;\n",
       "      cell.output_area.append_execute_result(NB_LOAD_WARNING)\n",
       "    }\n",
       "\n",
       "  }\n",
       "\n",
       "  if (root._bokeh_is_loading === 0) {\n",
       "    console.debug(\"Bokeh: BokehJS loaded, going straight to plotting\");\n",
       "    run_inline_js();\n",
       "  } else {\n",
       "    load_libs(css_urls, js_urls, function() {\n",
       "      console.debug(\"Bokeh: BokehJS plotting callback run at\", now());\n",
       "      run_inline_js();\n",
       "    });\n",
       "  }\n",
       "}(window));"
      ],
      "application/vnd.bokehjs_load.v0+json": "\n(function(root) {\n  function now() {\n    return new Date();\n  }\n\n  var force = true;\n\n  if (typeof root._bokeh_onload_callbacks === \"undefined\" || force === true) {\n    root._bokeh_onload_callbacks = [];\n    root._bokeh_is_loading = undefined;\n  }\n\n  \n\n  \n  if (typeof (root._bokeh_timeout) === \"undefined\" || force === true) {\n    root._bokeh_timeout = Date.now() + 5000;\n    root._bokeh_failed_load = false;\n  }\n\n  var NB_LOAD_WARNING = {'data': {'text/html':\n     \"<div style='background-color: #fdd'>\\n\"+\n     \"<p>\\n\"+\n     \"BokehJS does not appear to have successfully loaded. If loading BokehJS from CDN, this \\n\"+\n     \"may be due to a slow or bad network connection. Possible fixes:\\n\"+\n     \"</p>\\n\"+\n     \"<ul>\\n\"+\n     \"<li>re-rerun `output_notebook()` to attempt to load from CDN again, or</li>\\n\"+\n     \"<li>use INLINE resources instead, as so:</li>\\n\"+\n     \"</ul>\\n\"+\n     \"<code>\\n\"+\n     \"from bokeh.resources import INLINE\\n\"+\n     \"output_notebook(resources=INLINE)\\n\"+\n     \"</code>\\n\"+\n     \"</div>\"}};\n\n  function display_loaded() {\n    var el = document.getElementById(\"1001\");\n    if (el != null) {\n      el.textContent = \"BokehJS is loading...\";\n    }\n    if (root.Bokeh !== undefined) {\n      if (el != null) {\n        el.textContent = \"BokehJS \" + root.Bokeh.version + \" successfully loaded.\";\n      }\n    } else if (Date.now() < root._bokeh_timeout) {\n      setTimeout(display_loaded, 100)\n    }\n  }\n\n\n  function run_callbacks() {\n    try {\n      root._bokeh_onload_callbacks.forEach(function(callback) {\n        if (callback != null)\n          callback();\n      });\n    } finally {\n      delete root._bokeh_onload_callbacks\n    }\n    console.debug(\"Bokeh: all callbacks have finished\");\n  }\n\n  function load_libs(css_urls, js_urls, callback) {\n    if (css_urls == null) css_urls = [];\n    if (js_urls == null) js_urls = [];\n\n    root._bokeh_onload_callbacks.push(callback);\n    if (root._bokeh_is_loading > 0) {\n      console.debug(\"Bokeh: BokehJS is being loaded, scheduling callback at\", now());\n      return null;\n    }\n    if (js_urls == null || js_urls.length === 0) {\n      run_callbacks();\n      return null;\n    }\n    console.debug(\"Bokeh: BokehJS not loaded, scheduling load and callback at\", now());\n    root._bokeh_is_loading = css_urls.length + js_urls.length;\n\n    function on_load() {\n      root._bokeh_is_loading--;\n      if (root._bokeh_is_loading === 0) {\n        console.debug(\"Bokeh: all BokehJS libraries/stylesheets loaded\");\n        run_callbacks()\n      }\n    }\n\n    function on_error() {\n      console.error(\"failed to load \" + url);\n    }\n\n    for (var i = 0; i < css_urls.length; i++) {\n      var url = css_urls[i];\n      const element = document.createElement(\"link\");\n      element.onload = on_load;\n      element.onerror = on_error;\n      element.rel = \"stylesheet\";\n      element.type = \"text/css\";\n      element.href = url;\n      console.debug(\"Bokeh: injecting link tag for BokehJS stylesheet: \", url);\n      document.body.appendChild(element);\n    }\n\n    for (var i = 0; i < js_urls.length; i++) {\n      var url = js_urls[i];\n      var element = document.createElement('script');\n      element.onload = on_load;\n      element.onerror = on_error;\n      element.async = false;\n      element.src = url;\n      console.debug(\"Bokeh: injecting script tag for BokehJS library: \", url);\n      document.head.appendChild(element);\n    }\n  };var element = document.getElementById(\"1001\");\n  if (element == null) {\n    console.error(\"Bokeh: ERROR: autoload.js configured with elementid '1001' but no matching script tag was found. \")\n    return false;\n  }\n\n  function inject_raw_css(css) {\n    const element = document.createElement(\"style\");\n    element.appendChild(document.createTextNode(css));\n    document.body.appendChild(element);\n  }\n\n  var js_urls = [\"https://cdn.pydata.org/bokeh/release/bokeh-1.1.0.min.js\", \"https://cdn.pydata.org/bokeh/release/bokeh-widgets-1.1.0.min.js\", \"https://cdn.pydata.org/bokeh/release/bokeh-tables-1.1.0.min.js\", \"https://cdn.pydata.org/bokeh/release/bokeh-gl-1.1.0.min.js\"];\n  var css_urls = [\"https://cdn.pydata.org/bokeh/release/bokeh-1.1.0.min.css\", \"https://cdn.pydata.org/bokeh/release/bokeh-widgets-1.1.0.min.css\", \"https://cdn.pydata.org/bokeh/release/bokeh-tables-1.1.0.min.css\"];\n\n  var inline_js = [\n    function(Bokeh) {\n      Bokeh.set_log_level(\"info\");\n    },\n    \n    function(Bokeh) {\n      \n    },\n    function(Bokeh) {} // ensure no trailing comma for IE\n  ];\n\n  function run_inline_js() {\n    \n    if ((root.Bokeh !== undefined) || (force === true)) {\n      for (var i = 0; i < inline_js.length; i++) {\n        inline_js[i].call(root, root.Bokeh);\n      }if (force === true) {\n        display_loaded();\n      }} else if (Date.now() < root._bokeh_timeout) {\n      setTimeout(run_inline_js, 100);\n    } else if (!root._bokeh_failed_load) {\n      console.log(\"Bokeh: BokehJS failed to load within specified timeout.\");\n      root._bokeh_failed_load = true;\n    } else if (force !== true) {\n      var cell = $(document.getElementById(\"1001\")).parents('.cell').data().cell;\n      cell.output_area.append_execute_result(NB_LOAD_WARNING)\n    }\n\n  }\n\n  if (root._bokeh_is_loading === 0) {\n    console.debug(\"Bokeh: BokehJS loaded, going straight to plotting\");\n    run_inline_js();\n  } else {\n    load_libs(css_urls, js_urls, function() {\n      console.debug(\"Bokeh: BokehJS plotting callback run at\", now());\n      run_inline_js();\n    });\n  }\n}(window));"
     },
     "metadata": {},
     "output_type": "display_data"
    }
   ],
   "source": [
    "import pandas as pd\n",
    "\n",
    "import matplotlib.pyplot as plt\n",
    "\n",
    "from bokeh.io import output_notebook\n",
    "from bokeh.plotting import show, figure\n",
    "from bokeh.models import Range1d, ColumnDataSource\n",
    "from bokeh.layouts import column\n",
    "\n",
    "# Allowing bokeh to be interactive in the notebook\n",
    "output_notebook()\n",
    "\n",
    "# Allowing matplotlib to be interactive in the notebook\n",
    "%matplotlib notebook"
   ]
  },
  {
   "cell_type": "markdown",
   "metadata": {},
   "source": [
    "## Overview matplotlib and bokeh cheat sheet\n",
    "https://s3.amazonaws.com/assets.datacamp.com/blog_assets/Python_Bokeh_Cheat_Sheet.pdf\n",
    "https://s3.amazonaws.com/assets.datacamp.com/blog_assets/Python_Matplotlib_Cheat_Sheet.pdf\n",
    "\n",
    "| Action              | Matplotlib                                                                | Bokeh                                                              |\n",
    "|---------------------|---------------------------------------------------------------------------|--------------------------------------------------------------------|\n",
    "| Create figure       | plt.figure()                                                              | figure()                                                           |\n",
    "| Create line plot    | plt.plot()                                                                | p.line()                                                           |\n",
    "| Create scatter plot | plt.scatter()                                                             | p.scatter()                                                         |\n",
    "| Create bar plot     | plt.bar()                                                                 | p.vbar(x, width, top)                                                         |\n",
    "| Set axis limits     | plt.xlim([-5, 5]), plt.ylim([0, 10]), ax.set_ylim(0, 10)                  | fig.x_range=Range1d(left, right), fig.y_range=Range1d(bottom, top) |\n",
    "| Set axis labels     | plt.ylabel('Y label'), ax.set_ylabel('Y label')                           | figure(x_axis_label='X Label'), p.xaxis.axis_label = 'X Label'     |\n",
    "| Set plot title      | plt.title('Title'), ax.set_title('axes title'), fig.suptitle('Main title) | figure(title='Title')                                              |\n",
    "| Add subplots        | plt.subplots(2, 1, 2)                                                     | row(fig1, fig2)                                                    |\n",
    "| Add legend          | plt.legend()                                                              | automatic                                                          |\n",
    "| Add legend items    | plt.plot(label='Legend item')                                             | p.line(legend='Legend item')                                       |"
   ]
  },
  {
   "cell_type": "code",
   "execution_count": 2,
   "metadata": {},
   "outputs": [],
   "source": [
    "df = pd.DataFrame(data={'x': [1, 2, 3, 4, 5], 'y': [2.3, 2.6, 2, 3, 3.2]}, columns=['x', 'y'])\n",
    "source = ColumnDataSource(df)"
   ]
  },
  {
   "cell_type": "markdown",
   "metadata": {},
   "source": [
    "# Creating figure"
   ]
  },
  {
   "cell_type": "markdown",
   "metadata": {},
   "source": [
    "## Matplotlib"
   ]
  },
  {
   "cell_type": "code",
   "execution_count": 3,
   "metadata": {},
   "outputs": [
    {
     "data": {
      "text/plain": [
       "<Figure size 432x288 with 0 Axes>"
      ]
     },
     "metadata": {},
     "output_type": "display_data"
    }
   ],
   "source": [
    "fig = plt.figure()\n",
    "plt.show()"
   ]
  },
  {
   "cell_type": "markdown",
   "metadata": {},
   "source": [
    "## Bokeh"
   ]
  },
  {
   "cell_type": "code",
   "execution_count": 4,
   "metadata": {},
   "outputs": [
    {
     "name": "stderr",
     "output_type": "stream",
     "text": [
      "WARNING:bokeh.core.validation.check:W-1000 (MISSING_RENDERERS): Plot has no renderers: Figure(id='1003', ...)\n"
     ]
    },
    {
     "data": {
      "text/html": [
       "\n",
       "\n",
       "\n",
       "\n",
       "\n",
       "\n",
       "  <div class=\"bk-root\" id=\"34ed31aa-347c-4773-90cd-7f9d0915079b\" data-root-id=\"1003\"></div>\n"
      ]
     },
     "metadata": {},
     "output_type": "display_data"
    },
    {
     "data": {
      "application/javascript": [
       "(function(root) {\n",
       "  function embed_document(root) {\n",
       "    \n",
       "  var docs_json = {\"ce540651-e517-46c0-a0eb-bc385d46f330\":{\"roots\":{\"references\":[{\"attributes\":{\"below\":[{\"id\":\"1012\",\"type\":\"LinearAxis\"}],\"center\":[{\"id\":\"1016\",\"type\":\"Grid\"},{\"id\":\"1021\",\"type\":\"Grid\"}],\"left\":[{\"id\":\"1017\",\"type\":\"LinearAxis\"}],\"title\":{\"id\":\"1036\",\"type\":\"Title\"},\"toolbar\":{\"id\":\"1028\",\"type\":\"Toolbar\"},\"x_range\":{\"id\":\"1004\",\"type\":\"DataRange1d\"},\"x_scale\":{\"id\":\"1008\",\"type\":\"LinearScale\"},\"y_range\":{\"id\":\"1006\",\"type\":\"DataRange1d\"},\"y_scale\":{\"id\":\"1010\",\"type\":\"LinearScale\"}},\"id\":\"1003\",\"subtype\":\"Figure\",\"type\":\"Plot\"},{\"attributes\":{\"callback\":null},\"id\":\"1004\",\"type\":\"DataRange1d\"},{\"attributes\":{},\"id\":\"1037\",\"type\":\"BasicTickFormatter\"},{\"attributes\":{\"text\":\"\"},\"id\":\"1036\",\"type\":\"Title\"},{\"attributes\":{},\"id\":\"1022\",\"type\":\"PanTool\"},{\"attributes\":{\"bottom_units\":\"screen\",\"fill_alpha\":{\"value\":0.5},\"fill_color\":{\"value\":\"lightgrey\"},\"left_units\":\"screen\",\"level\":\"overlay\",\"line_alpha\":{\"value\":1.0},\"line_color\":{\"value\":\"black\"},\"line_dash\":[4,4],\"line_width\":{\"value\":2},\"render_mode\":\"css\",\"right_units\":\"screen\",\"top_units\":\"screen\"},\"id\":\"1041\",\"type\":\"BoxAnnotation\"},{\"attributes\":{},\"id\":\"1023\",\"type\":\"WheelZoomTool\"},{\"attributes\":{},\"id\":\"1039\",\"type\":\"BasicTickFormatter\"},{\"attributes\":{\"overlay\":{\"id\":\"1041\",\"type\":\"BoxAnnotation\"}},\"id\":\"1024\",\"type\":\"BoxZoomTool\"},{\"attributes\":{},\"id\":\"1010\",\"type\":\"LinearScale\"},{\"attributes\":{},\"id\":\"1025\",\"type\":\"SaveTool\"},{\"attributes\":{},\"id\":\"1008\",\"type\":\"LinearScale\"},{\"attributes\":{},\"id\":\"1026\",\"type\":\"ResetTool\"},{\"attributes\":{\"callback\":null},\"id\":\"1006\",\"type\":\"DataRange1d\"},{\"attributes\":{},\"id\":\"1027\",\"type\":\"HelpTool\"},{\"attributes\":{\"active_drag\":\"auto\",\"active_inspect\":\"auto\",\"active_multi\":null,\"active_scroll\":\"auto\",\"active_tap\":\"auto\",\"tools\":[{\"id\":\"1022\",\"type\":\"PanTool\"},{\"id\":\"1023\",\"type\":\"WheelZoomTool\"},{\"id\":\"1024\",\"type\":\"BoxZoomTool\"},{\"id\":\"1025\",\"type\":\"SaveTool\"},{\"id\":\"1026\",\"type\":\"ResetTool\"},{\"id\":\"1027\",\"type\":\"HelpTool\"}]},\"id\":\"1028\",\"type\":\"Toolbar\"},{\"attributes\":{\"formatter\":{\"id\":\"1037\",\"type\":\"BasicTickFormatter\"},\"ticker\":{\"id\":\"1013\",\"type\":\"BasicTicker\"}},\"id\":\"1012\",\"type\":\"LinearAxis\"},{\"attributes\":{},\"id\":\"1013\",\"type\":\"BasicTicker\"},{\"attributes\":{\"ticker\":{\"id\":\"1013\",\"type\":\"BasicTicker\"}},\"id\":\"1016\",\"type\":\"Grid\"},{\"attributes\":{\"formatter\":{\"id\":\"1039\",\"type\":\"BasicTickFormatter\"},\"ticker\":{\"id\":\"1018\",\"type\":\"BasicTicker\"}},\"id\":\"1017\",\"type\":\"LinearAxis\"},{\"attributes\":{},\"id\":\"1018\",\"type\":\"BasicTicker\"},{\"attributes\":{\"dimension\":1,\"ticker\":{\"id\":\"1018\",\"type\":\"BasicTicker\"}},\"id\":\"1021\",\"type\":\"Grid\"}],\"root_ids\":[\"1003\"]},\"title\":\"Bokeh Application\",\"version\":\"1.1.0\"}};\n",
       "  var render_items = [{\"docid\":\"ce540651-e517-46c0-a0eb-bc385d46f330\",\"roots\":{\"1003\":\"34ed31aa-347c-4773-90cd-7f9d0915079b\"}}];\n",
       "  root.Bokeh.embed.embed_items_notebook(docs_json, render_items);\n",
       "\n",
       "  }\n",
       "  if (root.Bokeh !== undefined) {\n",
       "    embed_document(root);\n",
       "  } else {\n",
       "    var attempts = 0;\n",
       "    var timer = setInterval(function(root) {\n",
       "      if (root.Bokeh !== undefined) {\n",
       "        embed_document(root);\n",
       "        clearInterval(timer);\n",
       "      }\n",
       "      attempts++;\n",
       "      if (attempts > 100) {\n",
       "        console.log(\"Bokeh: ERROR: Unable to run BokehJS code because BokehJS library is missing\");\n",
       "        clearInterval(timer);\n",
       "      }\n",
       "    }, 10, root)\n",
       "  }\n",
       "})(window);"
      ],
      "application/vnd.bokehjs_exec.v0+json": ""
     },
     "metadata": {
      "application/vnd.bokehjs_exec.v0+json": {
       "id": "1003"
      }
     },
     "output_type": "display_data"
    }
   ],
   "source": [
    "fig = figure()\n",
    "show(fig)"
   ]
  },
  {
   "cell_type": "markdown",
   "metadata": {},
   "source": [
    "# Creating a line plot"
   ]
  },
  {
   "cell_type": "markdown",
   "metadata": {},
   "source": [
    "## Matplotlib"
   ]
  },
  {
   "cell_type": "code",
   "execution_count": 5,
   "metadata": {},
   "outputs": [
    {
     "data": {
      "image/png": "[encoded data removed]",
      "text/plain": [
       "<Figure size 432x288 with 1 Axes>"
      ]
     },
     "metadata": {
      "needs_background": "light"
     },
     "output_type": "display_data"
    }
   ],
   "source": [
    "fig = plt.figure()\n",
    "plt.plot(df['x'], df['y'])\n",
    "plt.show()"
   ]
  },
  {
   "cell_type": "markdown",
   "metadata": {},
   "source": [
    "## Bokeh"
   ]
  },
  {
   "cell_type": "code",
   "execution_count": 6,
   "metadata": {
    "scrolled": false
   },
   "outputs": [
    {
     "data": {
      "text/html": [
       "\n",
       "\n",
       "\n",
       "\n",
       "\n",
       "\n",
       "  <div class=\"bk-root\" id=\"7e28e6a1-370d-4671-99ae-74247c435f90\" data-root-id=\"1084\"></div>\n"
      ]
     },
     "metadata": {},
     "output_type": "display_data"
    },
    {
     "data": {
      "application/javascript": [
       "(function(root) {\n",
       "  function embed_document(root) {\n",
       "    \n",
       "  var docs_json = {\"3613fc2d-11a8-4bd1-ae42-3fa16c3dea04\":{\"roots\":{\"references\":[{\"attributes\":{\"below\":[{\"id\":\"1093\",\"type\":\"LinearAxis\"}],\"center\":[{\"id\":\"1097\",\"type\":\"Grid\"},{\"id\":\"1102\",\"type\":\"Grid\"}],\"left\":[{\"id\":\"1098\",\"type\":\"LinearAxis\"}],\"renderers\":[{\"id\":\"1119\",\"type\":\"GlyphRenderer\"}],\"title\":{\"id\":\"1129\",\"type\":\"Title\"},\"toolbar\":{\"id\":\"1109\",\"type\":\"Toolbar\"},\"x_range\":{\"id\":\"1085\",\"type\":\"DataRange1d\"},\"x_scale\":{\"id\":\"1089\",\"type\":\"LinearScale\"},\"y_range\":{\"id\":\"1087\",\"type\":\"DataRange1d\"},\"y_scale\":{\"id\":\"1091\",\"type\":\"LinearScale\"}},\"id\":\"1084\",\"subtype\":\"Figure\",\"type\":\"Plot\"},{\"attributes\":{\"data_source\":{\"id\":\"1116\",\"type\":\"ColumnDataSource\"},\"glyph\":{\"id\":\"1117\",\"type\":\"Line\"},\"hover_glyph\":null,\"muted_glyph\":null,\"nonselection_glyph\":{\"id\":\"1118\",\"type\":\"Line\"},\"selection_glyph\":null,\"view\":{\"id\":\"1120\",\"type\":\"CDSView\"}},\"id\":\"1119\",\"type\":\"GlyphRenderer\"},{\"attributes\":{},\"id\":\"1104\",\"type\":\"WheelZoomTool\"},{\"attributes\":{},\"id\":\"1135\",\"type\":\"UnionRenderers\"},{\"attributes\":{},\"id\":\"1107\",\"type\":\"ResetTool\"},{\"attributes\":{},\"id\":\"1103\",\"type\":\"PanTool\"},{\"attributes\":{\"bottom_units\":\"screen\",\"fill_alpha\":{\"value\":0.5},\"fill_color\":{\"value\":\"lightgrey\"},\"left_units\":\"screen\",\"level\":\"overlay\",\"line_alpha\":{\"value\":1.0},\"line_color\":{\"value\":\"black\"},\"line_dash\":[4,4],\"line_width\":{\"value\":2},\"render_mode\":\"css\",\"right_units\":\"screen\",\"top_units\":\"screen\"},\"id\":\"1136\",\"type\":\"BoxAnnotation\"},{\"attributes\":{\"active_drag\":\"auto\",\"active_inspect\":\"auto\",\"active_multi\":null,\"active_scroll\":\"auto\",\"active_tap\":\"auto\",\"tools\":[{\"id\":\"1103\",\"type\":\"PanTool\"},{\"id\":\"1104\",\"type\":\"WheelZoomTool\"},{\"id\":\"1105\",\"type\":\"BoxZoomTool\"},{\"id\":\"1106\",\"type\":\"SaveTool\"},{\"id\":\"1107\",\"type\":\"ResetTool\"},{\"id\":\"1108\",\"type\":\"HelpTool\"}]},\"id\":\"1109\",\"type\":\"Toolbar\"},{\"attributes\":{},\"id\":\"1091\",\"type\":\"LinearScale\"},{\"attributes\":{\"line_color\":\"#1f77b4\",\"x\":{\"field\":\"x\"},\"y\":{\"field\":\"y\"}},\"id\":\"1117\",\"type\":\"Line\"},{\"attributes\":{\"source\":{\"id\":\"1116\",\"type\":\"ColumnDataSource\"}},\"id\":\"1120\",\"type\":\"CDSView\"},{\"attributes\":{\"callback\":null},\"id\":\"1085\",\"type\":\"DataRange1d\"},{\"attributes\":{\"ticker\":{\"id\":\"1094\",\"type\":\"BasicTicker\"}},\"id\":\"1097\",\"type\":\"Grid\"},{\"attributes\":{\"line_alpha\":0.1,\"line_color\":\"#1f77b4\",\"x\":{\"field\":\"x\"},\"y\":{\"field\":\"y\"}},\"id\":\"1118\",\"type\":\"Line\"},{\"attributes\":{\"text\":\"\"},\"id\":\"1129\",\"type\":\"Title\"},{\"attributes\":{},\"id\":\"1134\",\"type\":\"Selection\"},{\"attributes\":{\"formatter\":{\"id\":\"1132\",\"type\":\"BasicTickFormatter\"},\"ticker\":{\"id\":\"1099\",\"type\":\"BasicTicker\"}},\"id\":\"1098\",\"type\":\"LinearAxis\"},{\"attributes\":{\"overlay\":{\"id\":\"1136\",\"type\":\"BoxAnnotation\"}},\"id\":\"1105\",\"type\":\"BoxZoomTool\"},{\"attributes\":{},\"id\":\"1089\",\"type\":\"LinearScale\"},{\"attributes\":{},\"id\":\"1132\",\"type\":\"BasicTickFormatter\"},{\"attributes\":{\"callback\":null,\"data\":{\"x\":[1,2,3,4,5],\"y\":{\"__ndarray__\":\"ZmZmZmZmAkDNzMzMzMwEQAAAAAAAAABAAAAAAAAACECamZmZmZkJQA==\",\"dtype\":\"float64\",\"shape\":[5]}},\"selected\":{\"id\":\"1134\",\"type\":\"Selection\"},\"selection_policy\":{\"id\":\"1135\",\"type\":\"UnionRenderers\"}},\"id\":\"1116\",\"type\":\"ColumnDataSource\"},{\"attributes\":{\"dimension\":1,\"ticker\":{\"id\":\"1099\",\"type\":\"BasicTicker\"}},\"id\":\"1102\",\"type\":\"Grid\"},{\"attributes\":{},\"id\":\"1094\",\"type\":\"BasicTicker\"},{\"attributes\":{},\"id\":\"1108\",\"type\":\"HelpTool\"},{\"attributes\":{},\"id\":\"1130\",\"type\":\"BasicTickFormatter\"},{\"attributes\":{},\"id\":\"1106\",\"type\":\"SaveTool\"},{\"attributes\":{\"formatter\":{\"id\":\"1130\",\"type\":\"BasicTickFormatter\"},\"ticker\":{\"id\":\"1094\",\"type\":\"BasicTicker\"}},\"id\":\"1093\",\"type\":\"LinearAxis\"},{\"attributes\":{},\"id\":\"1099\",\"type\":\"BasicTicker\"},{\"attributes\":{\"callback\":null},\"id\":\"1087\",\"type\":\"DataRange1d\"}],\"root_ids\":[\"1084\"]},\"title\":\"Bokeh Application\",\"version\":\"1.1.0\"}};\n",
       "  var render_items = [{\"docid\":\"3613fc2d-11a8-4bd1-ae42-3fa16c3dea04\",\"roots\":{\"1084\":\"7e28e6a1-370d-4671-99ae-74247c435f90\"}}];\n",
       "  root.Bokeh.embed.embed_items_notebook(docs_json, render_items);\n",
       "\n",
       "  }\n",
       "  if (root.Bokeh !== undefined) {\n",
       "    embed_document(root);\n",
       "  } else {\n",
       "    var attempts = 0;\n",
       "    var timer = setInterval(function(root) {\n",
       "      if (root.Bokeh !== undefined) {\n",
       "        embed_document(root);\n",
       "        clearInterval(timer);\n",
       "      }\n",
       "      attempts++;\n",
       "      if (attempts > 100) {\n",
       "        console.log(\"Bokeh: ERROR: Unable to run BokehJS code because BokehJS library is missing\");\n",
       "        clearInterval(timer);\n",
       "      }\n",
       "    }, 10, root)\n",
       "  }\n",
       "})(window);"
      ],
      "application/vnd.bokehjs_exec.v0+json": ""
     },
     "metadata": {
      "application/vnd.bokehjs_exec.v0+json": {
       "id": "1084"
      }
     },
     "output_type": "display_data"
    }
   ],
   "source": [
    "fig = figure()\n",
    "fig.line(df['x'], df['y'])\n",
    "show(fig)"
   ]
  },
  {
   "cell_type": "markdown",
   "metadata": {},
   "source": [
    "# Creating a scatter plot"
   ]
  },
  {
   "cell_type": "markdown",
   "metadata": {},
   "source": [
    "## Matplotlib"
   ]
  },
  {
   "cell_type": "code",
   "execution_count": 7,
   "metadata": {},
   "outputs": [
    {
     "data": {
      "image/png": "[encoded data removed]",
      "text/plain": [
       "<Figure size 432x288 with 1 Axes>"
      ]
     },
     "metadata": {
      "needs_background": "light"
     },
     "output_type": "display_data"
    }
   ],
   "source": [
    "fig = plt.figure()\n",
    "plt.scatter(df['x'], df['y'])\n",
    "plt.show()"
   ]
  },
  {
   "cell_type": "markdown",
   "metadata": {},
   "source": [
    "## Bokeh"
   ]
  },
  {
   "cell_type": "code",
   "execution_count": 8,
   "metadata": {},
   "outputs": [
    {
     "data": {
      "text/html": [
       "\n",
       "\n",
       "\n",
       "\n",
       "\n",
       "\n",
       "  <div class=\"bk-root\" id=\"c0bfa358-9005-43a9-9e65-419af343a9a1\" data-root-id=\"1191\"></div>\n"
      ]
     },
     "metadata": {},
     "output_type": "display_data"
    },
    {
     "data": {
      "application/javascript": [
       "(function(root) {\n",
       "  function embed_document(root) {\n",
       "    \n",
       "  var docs_json = {\"5d74079e-a139-425e-9c50-b0f74d7d95b6\":{\"roots\":{\"references\":[{\"attributes\":{\"below\":[{\"id\":\"1200\",\"type\":\"LinearAxis\"}],\"center\":[{\"id\":\"1204\",\"type\":\"Grid\"},{\"id\":\"1209\",\"type\":\"Grid\"}],\"left\":[{\"id\":\"1205\",\"type\":\"LinearAxis\"}],\"renderers\":[{\"id\":\"1226\",\"type\":\"GlyphRenderer\"}],\"title\":{\"id\":\"1245\",\"type\":\"Title\"},\"toolbar\":{\"id\":\"1216\",\"type\":\"Toolbar\"},\"x_range\":{\"id\":\"1192\",\"type\":\"DataRange1d\"},\"x_scale\":{\"id\":\"1196\",\"type\":\"LinearScale\"},\"y_range\":{\"id\":\"1194\",\"type\":\"DataRange1d\"},\"y_scale\":{\"id\":\"1198\",\"type\":\"LinearScale\"}},\"id\":\"1191\",\"subtype\":\"Figure\",\"type\":\"Plot\"},{\"attributes\":{\"active_drag\":\"auto\",\"active_inspect\":\"auto\",\"active_multi\":null,\"active_scroll\":\"auto\",\"active_tap\":\"auto\",\"tools\":[{\"id\":\"1210\",\"type\":\"PanTool\"},{\"id\":\"1211\",\"type\":\"WheelZoomTool\"},{\"id\":\"1212\",\"type\":\"BoxZoomTool\"},{\"id\":\"1213\",\"type\":\"SaveTool\"},{\"id\":\"1214\",\"type\":\"ResetTool\"},{\"id\":\"1215\",\"type\":\"HelpTool\"}]},\"id\":\"1216\",\"type\":\"Toolbar\"},{\"attributes\":{},\"id\":\"1211\",\"type\":\"WheelZoomTool\"},{\"attributes\":{\"fill_color\":{\"value\":\"#1f77b4\"},\"line_color\":{\"value\":\"#1f77b4\"},\"x\":{\"field\":\"x\"},\"y\":{\"field\":\"y\"}},\"id\":\"1224\",\"type\":\"Scatter\"},{\"attributes\":{\"callback\":null},\"id\":\"1192\",\"type\":\"DataRange1d\"},{\"attributes\":{\"dimension\":1,\"ticker\":{\"id\":\"1206\",\"type\":\"BasicTicker\"}},\"id\":\"1209\",\"type\":\"Grid\"},{\"attributes\":{},\"id\":\"1214\",\"type\":\"ResetTool\"},{\"attributes\":{\"callback\":null,\"data\":{\"x\":[1,2,3,4,5],\"y\":{\"__ndarray__\":\"ZmZmZmZmAkDNzMzMzMwEQAAAAAAAAABAAAAAAAAACECamZmZmZkJQA==\",\"dtype\":\"float64\",\"shape\":[5]}},\"selected\":{\"id\":\"1250\",\"type\":\"Selection\"},\"selection_policy\":{\"id\":\"1251\",\"type\":\"UnionRenderers\"}},\"id\":\"1223\",\"type\":\"ColumnDataSource\"},{\"attributes\":{},\"id\":\"1213\",\"type\":\"SaveTool\"},{\"attributes\":{},\"id\":\"1196\",\"type\":\"LinearScale\"},{\"attributes\":{},\"id\":\"1250\",\"type\":\"Selection\"},{\"attributes\":{\"overlay\":{\"id\":\"1252\",\"type\":\"BoxAnnotation\"}},\"id\":\"1212\",\"type\":\"BoxZoomTool\"},{\"attributes\":{\"callback\":null},\"id\":\"1194\",\"type\":\"DataRange1d\"},{\"attributes\":{\"bottom_units\":\"screen\",\"fill_alpha\":{\"value\":0.5},\"fill_color\":{\"value\":\"lightgrey\"},\"left_units\":\"screen\",\"level\":\"overlay\",\"line_alpha\":{\"value\":1.0},\"line_color\":{\"value\":\"black\"},\"line_dash\":[4,4],\"line_width\":{\"value\":2},\"render_mode\":\"css\",\"right_units\":\"screen\",\"top_units\":\"screen\"},\"id\":\"1252\",\"type\":\"BoxAnnotation\"},{\"attributes\":{\"data_source\":{\"id\":\"1223\",\"type\":\"ColumnDataSource\"},\"glyph\":{\"id\":\"1224\",\"type\":\"Scatter\"},\"hover_glyph\":null,\"muted_glyph\":null,\"nonselection_glyph\":{\"id\":\"1225\",\"type\":\"Scatter\"},\"selection_glyph\":null,\"view\":{\"id\":\"1227\",\"type\":\"CDSView\"}},\"id\":\"1226\",\"type\":\"GlyphRenderer\"},{\"attributes\":{},\"id\":\"1210\",\"type\":\"PanTool\"},{\"attributes\":{\"source\":{\"id\":\"1223\",\"type\":\"ColumnDataSource\"}},\"id\":\"1227\",\"type\":\"CDSView\"},{\"attributes\":{},\"id\":\"1251\",\"type\":\"UnionRenderers\"},{\"attributes\":{},\"id\":\"1206\",\"type\":\"BasicTicker\"},{\"attributes\":{\"formatter\":{\"id\":\"1246\",\"type\":\"BasicTickFormatter\"},\"ticker\":{\"id\":\"1201\",\"type\":\"BasicTicker\"}},\"id\":\"1200\",\"type\":\"LinearAxis\"},{\"attributes\":{},\"id\":\"1248\",\"type\":\"BasicTickFormatter\"},{\"attributes\":{\"text\":\"\"},\"id\":\"1245\",\"type\":\"Title\"},{\"attributes\":{},\"id\":\"1201\",\"type\":\"BasicTicker\"},{\"attributes\":{\"formatter\":{\"id\":\"1248\",\"type\":\"BasicTickFormatter\"},\"ticker\":{\"id\":\"1206\",\"type\":\"BasicTicker\"}},\"id\":\"1205\",\"type\":\"LinearAxis\"},{\"attributes\":{},\"id\":\"1246\",\"type\":\"BasicTickFormatter\"},{\"attributes\":{},\"id\":\"1215\",\"type\":\"HelpTool\"},{\"attributes\":{\"ticker\":{\"id\":\"1201\",\"type\":\"BasicTicker\"}},\"id\":\"1204\",\"type\":\"Grid\"},{\"attributes\":{\"fill_alpha\":{\"value\":0.1},\"fill_color\":{\"value\":\"#1f77b4\"},\"line_alpha\":{\"value\":0.1},\"line_color\":{\"value\":\"#1f77b4\"},\"x\":{\"field\":\"x\"},\"y\":{\"field\":\"y\"}},\"id\":\"1225\",\"type\":\"Scatter\"},{\"attributes\":{},\"id\":\"1198\",\"type\":\"LinearScale\"}],\"root_ids\":[\"1191\"]},\"title\":\"Bokeh Application\",\"version\":\"1.1.0\"}};\n",
       "  var render_items = [{\"docid\":\"5d74079e-a139-425e-9c50-b0f74d7d95b6\",\"roots\":{\"1191\":\"c0bfa358-9005-43a9-9e65-419af343a9a1\"}}];\n",
       "  root.Bokeh.embed.embed_items_notebook(docs_json, render_items);\n",
       "\n",
       "  }\n",
       "  if (root.Bokeh !== undefined) {\n",
       "    embed_document(root);\n",
       "  } else {\n",
       "    var attempts = 0;\n",
       "    var timer = setInterval(function(root) {\n",
       "      if (root.Bokeh !== undefined) {\n",
       "        embed_document(root);\n",
       "        clearInterval(timer);\n",
       "      }\n",
       "      attempts++;\n",
       "      if (attempts > 100) {\n",
       "        console.log(\"Bokeh: ERROR: Unable to run BokehJS code because BokehJS library is missing\");\n",
       "        clearInterval(timer);\n",
       "      }\n",
       "    }, 10, root)\n",
       "  }\n",
       "})(window);"
      ],
      "application/vnd.bokehjs_exec.v0+json": ""
     },
     "metadata": {
      "application/vnd.bokehjs_exec.v0+json": {
       "id": "1191"
      }
     },
     "output_type": "display_data"
    }
   ],
   "source": [
    "fig = figure()\n",
    "fig.scatter(df['x'], df['y'])\n",
    "show(fig)"
   ]
  },
  {
   "cell_type": "markdown",
   "metadata": {},
   "source": [
    "# Creating a bar plot"
   ]
  },
  {
   "cell_type": "markdown",
   "metadata": {},
   "source": [
    "## Matplotlib"
   ]
  },
  {
   "cell_type": "code",
   "execution_count": 9,
   "metadata": {},
   "outputs": [
    {
     "data": {
      "image/png": "[encoded data removed]",
      "text/plain": [
       "<Figure size 432x288 with 1 Axes>"
      ]
     },
     "metadata": {
      "needs_background": "light"
     },
     "output_type": "display_data"
    }
   ],
   "source": [
    "fig = plt.figure()\n",
    "plt.bar(df['x'], df['y'])\n",
    "plt.show()"
   ]
  },
  {
   "cell_type": "markdown",
   "metadata": {},
   "source": [
    "## Bokeh"
   ]
  },
  {
   "cell_type": "code",
   "execution_count": 10,
   "metadata": {
    "scrolled": true
   },
   "outputs": [
    {
     "data": {
      "text/html": [
       "\n",
       "\n",
       "\n",
       "\n",
       "\n",
       "\n",
       "  <div class=\"bk-root\" id=\"f6839246-5828-4491-8a43-0628edbd8157\" data-root-id=\"1307\"></div>\n"
      ]
     },
     "metadata": {},
     "output_type": "display_data"
    },
    {
     "data": {
      "application/javascript": [
       "(function(root) {\n",
       "  function embed_document(root) {\n",
       "    \n",
       "  var docs_json = {\"8d6dcc05-d9a8-4110-bd14-a4caecc5775b\":{\"roots\":{\"references\":[{\"attributes\":{\"below\":[{\"id\":\"1316\",\"type\":\"LinearAxis\"}],\"center\":[{\"id\":\"1320\",\"type\":\"Grid\"},{\"id\":\"1325\",\"type\":\"Grid\"}],\"left\":[{\"id\":\"1321\",\"type\":\"LinearAxis\"}],\"renderers\":[{\"id\":\"1342\",\"type\":\"GlyphRenderer\"}],\"title\":{\"id\":\"1370\",\"type\":\"Title\"},\"toolbar\":{\"id\":\"1332\",\"type\":\"Toolbar\"},\"x_range\":{\"id\":\"1308\",\"type\":\"DataRange1d\"},\"x_scale\":{\"id\":\"1312\",\"type\":\"LinearScale\"},\"y_range\":{\"id\":\"1310\",\"type\":\"DataRange1d\"},\"y_scale\":{\"id\":\"1314\",\"type\":\"LinearScale\"}},\"id\":\"1307\",\"subtype\":\"Figure\",\"type\":\"Plot\"},{\"attributes\":{\"data_source\":{\"id\":\"1339\",\"type\":\"ColumnDataSource\"},\"glyph\":{\"id\":\"1340\",\"type\":\"VBar\"},\"hover_glyph\":null,\"muted_glyph\":null,\"nonselection_glyph\":{\"id\":\"1341\",\"type\":\"VBar\"},\"selection_glyph\":null,\"view\":{\"id\":\"1343\",\"type\":\"CDSView\"}},\"id\":\"1342\",\"type\":\"GlyphRenderer\"},{\"attributes\":{\"source\":{\"id\":\"1339\",\"type\":\"ColumnDataSource\"}},\"id\":\"1343\",\"type\":\"CDSView\"},{\"attributes\":{\"fill_color\":{\"value\":\"#1f77b4\"},\"line_color\":{\"value\":\"#1f77b4\"},\"top\":{\"field\":\"top\"},\"width\":{\"value\":0.7},\"x\":{\"field\":\"x\"}},\"id\":\"1340\",\"type\":\"VBar\"},{\"attributes\":{\"overlay\":{\"id\":\"1377\",\"type\":\"BoxAnnotation\"}},\"id\":\"1328\",\"type\":\"BoxZoomTool\"},{\"attributes\":{\"dimension\":1,\"ticker\":{\"id\":\"1322\",\"type\":\"BasicTicker\"}},\"id\":\"1325\",\"type\":\"Grid\"},{\"attributes\":{\"bottom_units\":\"screen\",\"fill_alpha\":{\"value\":0.5},\"fill_color\":{\"value\":\"lightgrey\"},\"left_units\":\"screen\",\"level\":\"overlay\",\"line_alpha\":{\"value\":1.0},\"line_color\":{\"value\":\"black\"},\"line_dash\":[4,4],\"line_width\":{\"value\":2},\"render_mode\":\"css\",\"right_units\":\"screen\",\"top_units\":\"screen\"},\"id\":\"1377\",\"type\":\"BoxAnnotation\"},{\"attributes\":{\"formatter\":{\"id\":\"1371\",\"type\":\"BasicTickFormatter\"},\"ticker\":{\"id\":\"1317\",\"type\":\"BasicTicker\"}},\"id\":\"1316\",\"type\":\"LinearAxis\"},{\"attributes\":{\"callback\":null},\"id\":\"1308\",\"type\":\"DataRange1d\"},{\"attributes\":{},\"id\":\"1376\",\"type\":\"UnionRenderers\"},{\"attributes\":{},\"id\":\"1375\",\"type\":\"Selection\"},{\"attributes\":{},\"id\":\"1373\",\"type\":\"BasicTickFormatter\"},{\"attributes\":{},\"id\":\"1322\",\"type\":\"BasicTicker\"},{\"attributes\":{},\"id\":\"1329\",\"type\":\"SaveTool\"},{\"attributes\":{\"ticker\":{\"id\":\"1317\",\"type\":\"BasicTicker\"}},\"id\":\"1320\",\"type\":\"Grid\"},{\"attributes\":{\"callback\":null},\"id\":\"1310\",\"type\":\"DataRange1d\"},{\"attributes\":{\"fill_alpha\":{\"value\":0.1},\"fill_color\":{\"value\":\"#1f77b4\"},\"line_alpha\":{\"value\":0.1},\"line_color\":{\"value\":\"#1f77b4\"},\"top\":{\"field\":\"top\"},\"width\":{\"value\":0.7},\"x\":{\"field\":\"x\"}},\"id\":\"1341\",\"type\":\"VBar\"},{\"attributes\":{},\"id\":\"1317\",\"type\":\"BasicTicker\"},{\"attributes\":{},\"id\":\"1371\",\"type\":\"BasicTickFormatter\"},{\"attributes\":{\"formatter\":{\"id\":\"1373\",\"type\":\"BasicTickFormatter\"},\"ticker\":{\"id\":\"1322\",\"type\":\"BasicTicker\"}},\"id\":\"1321\",\"type\":\"LinearAxis\"},{\"attributes\":{},\"id\":\"1331\",\"type\":\"HelpTool\"},{\"attributes\":{},\"id\":\"1327\",\"type\":\"WheelZoomTool\"},{\"attributes\":{\"callback\":null,\"data\":{\"top\":{\"__ndarray__\":\"ZmZmZmZmAkDNzMzMzMwEQAAAAAAAAABAAAAAAAAACECamZmZmZkJQA==\",\"dtype\":\"float64\",\"shape\":[5]},\"x\":[1,2,3,4,5]},\"selected\":{\"id\":\"1375\",\"type\":\"Selection\"},\"selection_policy\":{\"id\":\"1376\",\"type\":\"UnionRenderers\"}},\"id\":\"1339\",\"type\":\"ColumnDataSource\"},{\"attributes\":{},\"id\":\"1326\",\"type\":\"PanTool\"},{\"attributes\":{\"text\":\"\"},\"id\":\"1370\",\"type\":\"Title\"},{\"attributes\":{\"active_drag\":\"auto\",\"active_inspect\":\"auto\",\"active_multi\":null,\"active_scroll\":\"auto\",\"active_tap\":\"auto\",\"tools\":[{\"id\":\"1326\",\"type\":\"PanTool\"},{\"id\":\"1327\",\"type\":\"WheelZoomTool\"},{\"id\":\"1328\",\"type\":\"BoxZoomTool\"},{\"id\":\"1329\",\"type\":\"SaveTool\"},{\"id\":\"1330\",\"type\":\"ResetTool\"},{\"id\":\"1331\",\"type\":\"HelpTool\"}]},\"id\":\"1332\",\"type\":\"Toolbar\"},{\"attributes\":{},\"id\":\"1312\",\"type\":\"LinearScale\"},{\"attributes\":{},\"id\":\"1314\",\"type\":\"LinearScale\"},{\"attributes\":{},\"id\":\"1330\",\"type\":\"ResetTool\"}],\"root_ids\":[\"1307\"]},\"title\":\"Bokeh Application\",\"version\":\"1.1.0\"}};\n",
       "  var render_items = [{\"docid\":\"8d6dcc05-d9a8-4110-bd14-a4caecc5775b\",\"roots\":{\"1307\":\"f6839246-5828-4491-8a43-0628edbd8157\"}}];\n",
       "  root.Bokeh.embed.embed_items_notebook(docs_json, render_items);\n",
       "\n",
       "  }\n",
       "  if (root.Bokeh !== undefined) {\n",
       "    embed_document(root);\n",
       "  } else {\n",
       "    var attempts = 0;\n",
       "    var timer = setInterval(function(root) {\n",
       "      if (root.Bokeh !== undefined) {\n",
       "        embed_document(root);\n",
       "        clearInterval(timer);\n",
       "      }\n",
       "      attempts++;\n",
       "      if (attempts > 100) {\n",
       "        console.log(\"Bokeh: ERROR: Unable to run BokehJS code because BokehJS library is missing\");\n",
       "        clearInterval(timer);\n",
       "      }\n",
       "    }, 10, root)\n",
       "  }\n",
       "})(window);"
      ],
      "application/vnd.bokehjs_exec.v0+json": ""
     },
     "metadata": {
      "application/vnd.bokehjs_exec.v0+json": {
       "id": "1307"
      }
     },
     "output_type": "display_data"
    }
   ],
   "source": [
    "fig = figure()\n",
    "fig.vbar(x=df['x'], width=0.7, top=df['y'])\n",
    "show(fig)"
   ]
  },
  {
   "cell_type": "markdown",
   "metadata": {},
   "source": [
    "# Adjusting the axes"
   ]
  },
  {
   "cell_type": "markdown",
   "metadata": {},
   "source": [
    "## Matplotlib"
   ]
  },
  {
   "cell_type": "code",
   "execution_count": 11,
   "metadata": {},
   "outputs": [
    {
     "data": {
      "image/png": "[encoded data removed]",
      "text/plain": [
       "<Figure size 432x288 with 1 Axes>"
      ]
     },
     "metadata": {
      "needs_background": "light"
     },
     "output_type": "display_data"
    }
   ],
   "source": [
    "fig = plt.figure()\n",
    "plt.plot(df['x'], df['y'])\n",
    "plt.xlim([0, 5.5])\n",
    "plt.ylim([1.5, 3.5])\n",
    "plt.show()"
   ]
  },
  {
   "cell_type": "markdown",
   "metadata": {},
   "source": [
    "## Bokeh"
   ]
  },
  {
   "cell_type": "code",
   "execution_count": 12,
   "metadata": {
    "scrolled": false
   },
   "outputs": [
    {
     "data": {
      "text/html": [
       "\n",
       "\n",
       "\n",
       "\n",
       "\n",
       "\n",
       "  <div class=\"bk-root\" id=\"6e67bde2-ce96-4d25-9a23-48e3cdf35a58\" data-root-id=\"1432\"></div>\n"
      ]
     },
     "metadata": {},
     "output_type": "display_data"
    },
    {
     "data": {
      "application/javascript": [
       "(function(root) {\n",
       "  function embed_document(root) {\n",
       "    \n",
       "  var docs_json = {\"5d59900f-c714-413a-b721-fcca7c5cbd5b\":{\"roots\":{\"references\":[{\"attributes\":{\"below\":[{\"id\":\"1441\",\"type\":\"LinearAxis\"}],\"center\":[{\"id\":\"1445\",\"type\":\"Grid\"},{\"id\":\"1450\",\"type\":\"Grid\"}],\"left\":[{\"id\":\"1446\",\"type\":\"LinearAxis\"}],\"renderers\":[{\"id\":\"1467\",\"type\":\"GlyphRenderer\"}],\"title\":{\"id\":\"1506\",\"type\":\"Title\"},\"toolbar\":{\"id\":\"1457\",\"type\":\"Toolbar\"},\"x_range\":{\"id\":\"1469\",\"type\":\"Range1d\"},\"x_scale\":{\"id\":\"1437\",\"type\":\"LinearScale\"},\"y_range\":{\"id\":\"1470\",\"type\":\"Range1d\"},\"y_scale\":{\"id\":\"1439\",\"type\":\"LinearScale\"}},\"id\":\"1432\",\"subtype\":\"Figure\",\"type\":\"Plot\"},{\"attributes\":{\"ticker\":{\"id\":\"1442\",\"type\":\"BasicTicker\"}},\"id\":\"1445\",\"type\":\"Grid\"},{\"attributes\":{},\"id\":\"1451\",\"type\":\"PanTool\"},{\"attributes\":{},\"id\":\"1437\",\"type\":\"LinearScale\"},{\"attributes\":{},\"id\":\"1507\",\"type\":\"BasicTickFormatter\"},{\"attributes\":{\"overlay\":{\"id\":\"1513\",\"type\":\"BoxAnnotation\"}},\"id\":\"1453\",\"type\":\"BoxZoomTool\"},{\"attributes\":{\"formatter\":{\"id\":\"1509\",\"type\":\"BasicTickFormatter\"},\"ticker\":{\"id\":\"1447\",\"type\":\"BasicTicker\"}},\"id\":\"1446\",\"type\":\"LinearAxis\"},{\"attributes\":{\"callback\":null,\"end\":3.5,\"start\":1.5},\"id\":\"1470\",\"type\":\"Range1d\"},{\"attributes\":{},\"id\":\"1455\",\"type\":\"ResetTool\"},{\"attributes\":{\"line_alpha\":0.1,\"line_color\":\"#1f77b4\",\"x\":{\"field\":\"x\"},\"y\":{\"field\":\"y\"}},\"id\":\"1466\",\"type\":\"Line\"},{\"attributes\":{\"formatter\":{\"id\":\"1507\",\"type\":\"BasicTickFormatter\"},\"ticker\":{\"id\":\"1442\",\"type\":\"BasicTicker\"}},\"id\":\"1441\",\"type\":\"LinearAxis\"},{\"attributes\":{},\"id\":\"1452\",\"type\":\"WheelZoomTool\"},{\"attributes\":{},\"id\":\"1456\",\"type\":\"HelpTool\"},{\"attributes\":{\"source\":{\"id\":\"1464\",\"type\":\"ColumnDataSource\"}},\"id\":\"1468\",\"type\":\"CDSView\"},{\"attributes\":{},\"id\":\"1442\",\"type\":\"BasicTicker\"},{\"attributes\":{},\"id\":\"1454\",\"type\":\"SaveTool\"},{\"attributes\":{\"text\":\"\"},\"id\":\"1506\",\"type\":\"Title\"},{\"attributes\":{},\"id\":\"1439\",\"type\":\"LinearScale\"},{\"attributes\":{\"data_source\":{\"id\":\"1464\",\"type\":\"ColumnDataSource\"},\"glyph\":{\"id\":\"1465\",\"type\":\"Line\"},\"hover_glyph\":null,\"muted_glyph\":null,\"nonselection_glyph\":{\"id\":\"1466\",\"type\":\"Line\"},\"selection_glyph\":null,\"view\":{\"id\":\"1468\",\"type\":\"CDSView\"}},\"id\":\"1467\",\"type\":\"GlyphRenderer\"},{\"attributes\":{\"active_drag\":\"auto\",\"active_inspect\":\"auto\",\"active_multi\":null,\"active_scroll\":\"auto\",\"active_tap\":\"auto\",\"tools\":[{\"id\":\"1451\",\"type\":\"PanTool\"},{\"id\":\"1452\",\"type\":\"WheelZoomTool\"},{\"id\":\"1453\",\"type\":\"BoxZoomTool\"},{\"id\":\"1454\",\"type\":\"SaveTool\"},{\"id\":\"1455\",\"type\":\"ResetTool\"},{\"id\":\"1456\",\"type\":\"HelpTool\"}]},\"id\":\"1457\",\"type\":\"Toolbar\"},{\"attributes\":{},\"id\":\"1512\",\"type\":\"UnionRenderers\"},{\"attributes\":{\"dimension\":1,\"ticker\":{\"id\":\"1447\",\"type\":\"BasicTicker\"}},\"id\":\"1450\",\"type\":\"Grid\"},{\"attributes\":{\"bottom_units\":\"screen\",\"fill_alpha\":{\"value\":0.5},\"fill_color\":{\"value\":\"lightgrey\"},\"left_units\":\"screen\",\"level\":\"overlay\",\"line_alpha\":{\"value\":1.0},\"line_color\":{\"value\":\"black\"},\"line_dash\":[4,4],\"line_width\":{\"value\":2},\"render_mode\":\"css\",\"right_units\":\"screen\",\"top_units\":\"screen\"},\"id\":\"1513\",\"type\":\"BoxAnnotation\"},{\"attributes\":{\"callback\":null,\"end\":5.5},\"id\":\"1469\",\"type\":\"Range1d\"},{\"attributes\":{\"callback\":null,\"data\":{\"x\":[1,2,3,4,5],\"y\":{\"__ndarray__\":\"ZmZmZmZmAkDNzMzMzMwEQAAAAAAAAABAAAAAAAAACECamZmZmZkJQA==\",\"dtype\":\"float64\",\"shape\":[5]}},\"selected\":{\"id\":\"1511\",\"type\":\"Selection\"},\"selection_policy\":{\"id\":\"1512\",\"type\":\"UnionRenderers\"}},\"id\":\"1464\",\"type\":\"ColumnDataSource\"},{\"attributes\":{\"line_color\":\"#1f77b4\",\"x\":{\"field\":\"x\"},\"y\":{\"field\":\"y\"}},\"id\":\"1465\",\"type\":\"Line\"},{\"attributes\":{},\"id\":\"1447\",\"type\":\"BasicTicker\"},{\"attributes\":{},\"id\":\"1511\",\"type\":\"Selection\"},{\"attributes\":{},\"id\":\"1509\",\"type\":\"BasicTickFormatter\"}],\"root_ids\":[\"1432\"]},\"title\":\"Bokeh Application\",\"version\":\"1.1.0\"}};\n",
       "  var render_items = [{\"docid\":\"5d59900f-c714-413a-b721-fcca7c5cbd5b\",\"roots\":{\"1432\":\"6e67bde2-ce96-4d25-9a23-48e3cdf35a58\"}}];\n",
       "  root.Bokeh.embed.embed_items_notebook(docs_json, render_items);\n",
       "\n",
       "  }\n",
       "  if (root.Bokeh !== undefined) {\n",
       "    embed_document(root);\n",
       "  } else {\n",
       "    var attempts = 0;\n",
       "    var timer = setInterval(function(root) {\n",
       "      if (root.Bokeh !== undefined) {\n",
       "        embed_document(root);\n",
       "        clearInterval(timer);\n",
       "      }\n",
       "      attempts++;\n",
       "      if (attempts > 100) {\n",
       "        console.log(\"Bokeh: ERROR: Unable to run BokehJS code because BokehJS library is missing\");\n",
       "        clearInterval(timer);\n",
       "      }\n",
       "    }, 10, root)\n",
       "  }\n",
       "})(window);"
      ],
      "application/vnd.bokehjs_exec.v0+json": ""
     },
     "metadata": {
      "application/vnd.bokehjs_exec.v0+json": {
       "id": "1432"
      }
     },
     "output_type": "display_data"
    }
   ],
   "source": [
    "fig = figure()\n",
    "fig.line(df['x'], df['y'])\n",
    "fig.x_range=Range1d(0, 5.5)\n",
    "fig.y_range=Range1d(1.5, 3.5)\n",
    "show(fig)"
   ]
  },
  {
   "cell_type": "markdown",
   "metadata": {},
   "source": [
    "# Adjusting axes titles"
   ]
  },
  {
   "cell_type": "markdown",
   "metadata": {},
   "source": [
    "## Matplotlib"
   ]
  },
  {
   "cell_type": "code",
   "execution_count": 13,
   "metadata": {},
   "outputs": [
    {
     "data": {
      "image/png": "[encoded data removed]",
      "text/plain": [
       "<Figure size 432x288 with 1 Axes>"
      ]
     },
     "metadata": {
      "needs_background": "light"
     },
     "output_type": "display_data"
    }
   ],
   "source": [
    "fig = plt.figure()\n",
    "plt.plot(df['x'], df['y'])\n",
    "plt.xlim([0, 5.5])\n",
    "plt.ylim([1.5, 3.5])\n",
    "\n",
    "plt.xlabel('X label')\n",
    "plt.ylabel('Y label')\n",
    "\n",
    "plt.show()"
   ]
  },
  {
   "cell_type": "markdown",
   "metadata": {},
   "source": [
    "## Bokeh"
   ]
  },
  {
   "cell_type": "code",
   "execution_count": 14,
   "metadata": {
    "scrolled": false
   },
   "outputs": [
    {
     "data": {
      "text/html": [
       "\n",
       "\n",
       "\n",
       "\n",
       "\n",
       "\n",
       "  <div class=\"bk-root\" id=\"1d09dba5-9e3f-4f31-9b5b-8735d99c4f2a\" data-root-id=\"1568\"></div>\n"
      ]
     },
     "metadata": {},
     "output_type": "display_data"
    },
    {
     "data": {
      "application/javascript": [
       "(function(root) {\n",
       "  function embed_document(root) {\n",
       "    \n",
       "  var docs_json = {\"620ec84e-3597-4951-85c9-628bf4ba3084\":{\"roots\":{\"references\":[{\"attributes\":{\"below\":[{\"id\":\"1577\",\"type\":\"LinearAxis\"}],\"center\":[{\"id\":\"1581\",\"type\":\"Grid\"},{\"id\":\"1586\",\"type\":\"Grid\"}],\"left\":[{\"id\":\"1582\",\"type\":\"LinearAxis\"}],\"renderers\":[{\"id\":\"1603\",\"type\":\"GlyphRenderer\"}],\"title\":{\"id\":\"1651\",\"type\":\"Title\"},\"toolbar\":{\"id\":\"1593\",\"type\":\"Toolbar\"},\"x_range\":{\"id\":\"1605\",\"type\":\"Range1d\"},\"x_scale\":{\"id\":\"1573\",\"type\":\"LinearScale\"},\"y_range\":{\"id\":\"1606\",\"type\":\"Range1d\"},\"y_scale\":{\"id\":\"1575\",\"type\":\"LinearScale\"}},\"id\":\"1568\",\"subtype\":\"Figure\",\"type\":\"Plot\"},{\"attributes\":{},\"id\":\"1583\",\"type\":\"BasicTicker\"},{\"attributes\":{\"axis_label\":\"Y label\",\"formatter\":{\"id\":\"1654\",\"type\":\"BasicTickFormatter\"},\"ticker\":{\"id\":\"1583\",\"type\":\"BasicTicker\"}},\"id\":\"1582\",\"type\":\"LinearAxis\"},{\"attributes\":{\"callback\":null,\"data\":{\"x\":[1,2,3,4,5],\"y\":{\"__ndarray__\":\"ZmZmZmZmAkDNzMzMzMwEQAAAAAAAAABAAAAAAAAACECamZmZmZkJQA==\",\"dtype\":\"float64\",\"shape\":[5]}},\"selected\":{\"id\":\"1656\",\"type\":\"Selection\"},\"selection_policy\":{\"id\":\"1657\",\"type\":\"UnionRenderers\"}},\"id\":\"1600\",\"type\":\"ColumnDataSource\"},{\"attributes\":{\"text\":\"\"},\"id\":\"1651\",\"type\":\"Title\"},{\"attributes\":{},\"id\":\"1654\",\"type\":\"BasicTickFormatter\"},{\"attributes\":{},\"id\":\"1578\",\"type\":\"BasicTicker\"},{\"attributes\":{\"ticker\":{\"id\":\"1578\",\"type\":\"BasicTicker\"}},\"id\":\"1581\",\"type\":\"Grid\"},{\"attributes\":{},\"id\":\"1587\",\"type\":\"PanTool\"},{\"attributes\":{},\"id\":\"1656\",\"type\":\"Selection\"},{\"attributes\":{\"line_alpha\":0.1,\"line_color\":\"#1f77b4\",\"x\":{\"field\":\"x\"},\"y\":{\"field\":\"y\"}},\"id\":\"1602\",\"type\":\"Line\"},{\"attributes\":{},\"id\":\"1592\",\"type\":\"HelpTool\"},{\"attributes\":{\"data_source\":{\"id\":\"1600\",\"type\":\"ColumnDataSource\"},\"glyph\":{\"id\":\"1601\",\"type\":\"Line\"},\"hover_glyph\":null,\"muted_glyph\":null,\"nonselection_glyph\":{\"id\":\"1602\",\"type\":\"Line\"},\"selection_glyph\":null,\"view\":{\"id\":\"1604\",\"type\":\"CDSView\"}},\"id\":\"1603\",\"type\":\"GlyphRenderer\"},{\"attributes\":{\"line_color\":\"#1f77b4\",\"x\":{\"field\":\"x\"},\"y\":{\"field\":\"y\"}},\"id\":\"1601\",\"type\":\"Line\"},{\"attributes\":{\"bottom_units\":\"screen\",\"fill_alpha\":{\"value\":0.5},\"fill_color\":{\"value\":\"lightgrey\"},\"left_units\":\"screen\",\"level\":\"overlay\",\"line_alpha\":{\"value\":1.0},\"line_color\":{\"value\":\"black\"},\"line_dash\":[4,4],\"line_width\":{\"value\":2},\"render_mode\":\"css\",\"right_units\":\"screen\",\"top_units\":\"screen\"},\"id\":\"1658\",\"type\":\"BoxAnnotation\"},{\"attributes\":{},\"id\":\"1657\",\"type\":\"UnionRenderers\"},{\"attributes\":{},\"id\":\"1591\",\"type\":\"ResetTool\"},{\"attributes\":{},\"id\":\"1588\",\"type\":\"WheelZoomTool\"},{\"attributes\":{\"callback\":null,\"end\":5.5},\"id\":\"1605\",\"type\":\"Range1d\"},{\"attributes\":{\"axis_label\":\"X label\",\"formatter\":{\"id\":\"1652\",\"type\":\"BasicTickFormatter\"},\"ticker\":{\"id\":\"1578\",\"type\":\"BasicTicker\"}},\"id\":\"1577\",\"type\":\"LinearAxis\"},{\"attributes\":{\"overlay\":{\"id\":\"1658\",\"type\":\"BoxAnnotation\"}},\"id\":\"1589\",\"type\":\"BoxZoomTool\"},{\"attributes\":{},\"id\":\"1590\",\"type\":\"SaveTool\"},{\"attributes\":{\"dimension\":1,\"ticker\":{\"id\":\"1583\",\"type\":\"BasicTicker\"}},\"id\":\"1586\",\"type\":\"Grid\"},{\"attributes\":{\"active_drag\":\"auto\",\"active_inspect\":\"auto\",\"active_multi\":null,\"active_scroll\":\"auto\",\"active_tap\":\"auto\",\"tools\":[{\"id\":\"1587\",\"type\":\"PanTool\"},{\"id\":\"1588\",\"type\":\"WheelZoomTool\"},{\"id\":\"1589\",\"type\":\"BoxZoomTool\"},{\"id\":\"1590\",\"type\":\"SaveTool\"},{\"id\":\"1591\",\"type\":\"ResetTool\"},{\"id\":\"1592\",\"type\":\"HelpTool\"}]},\"id\":\"1593\",\"type\":\"Toolbar\"},{\"attributes\":{\"source\":{\"id\":\"1600\",\"type\":\"ColumnDataSource\"}},\"id\":\"1604\",\"type\":\"CDSView\"},{\"attributes\":{},\"id\":\"1652\",\"type\":\"BasicTickFormatter\"},{\"attributes\":{},\"id\":\"1573\",\"type\":\"LinearScale\"},{\"attributes\":{},\"id\":\"1575\",\"type\":\"LinearScale\"},{\"attributes\":{\"callback\":null,\"end\":3.5,\"start\":1.5},\"id\":\"1606\",\"type\":\"Range1d\"}],\"root_ids\":[\"1568\"]},\"title\":\"Bokeh Application\",\"version\":\"1.1.0\"}};\n",
       "  var render_items = [{\"docid\":\"620ec84e-3597-4951-85c9-628bf4ba3084\",\"roots\":{\"1568\":\"1d09dba5-9e3f-4f31-9b5b-8735d99c4f2a\"}}];\n",
       "  root.Bokeh.embed.embed_items_notebook(docs_json, render_items);\n",
       "\n",
       "  }\n",
       "  if (root.Bokeh !== undefined) {\n",
       "    embed_document(root);\n",
       "  } else {\n",
       "    var attempts = 0;\n",
       "    var timer = setInterval(function(root) {\n",
       "      if (root.Bokeh !== undefined) {\n",
       "        embed_document(root);\n",
       "        clearInterval(timer);\n",
       "      }\n",
       "      attempts++;\n",
       "      if (attempts > 100) {\n",
       "        console.log(\"Bokeh: ERROR: Unable to run BokehJS code because BokehJS library is missing\");\n",
       "        clearInterval(timer);\n",
       "      }\n",
       "    }, 10, root)\n",
       "  }\n",
       "})(window);"
      ],
      "application/vnd.bokehjs_exec.v0+json": ""
     },
     "metadata": {
      "application/vnd.bokehjs_exec.v0+json": {
       "id": "1568"
      }
     },
     "output_type": "display_data"
    }
   ],
   "source": [
    "fig = figure()\n",
    "fig.line(df['x'], df['y'])\n",
    "fig.x_range=Range1d(0, 5.5)\n",
    "fig.y_range=Range1d(1.5, 3.5)\n",
    "\n",
    "fig.xaxis.axis_label = \"X label\"\n",
    "fig.yaxis.axis_label = \"Y label\"\n",
    "\n",
    "show(fig)\n"
   ]
  },
  {
   "cell_type": "markdown",
   "metadata": {},
   "source": [
    "# Adjusting plot title"
   ]
  },
  {
   "cell_type": "markdown",
   "metadata": {},
   "source": [
    "## Matplotlib"
   ]
  },
  {
   "cell_type": "code",
   "execution_count": 15,
   "metadata": {},
   "outputs": [
    {
     "data": {
      "image/png": "[encoded data removed]",
      "text/plain": [
       "<Figure size 432x288 with 1 Axes>"
      ]
     },
     "metadata": {
      "needs_background": "light"
     },
     "output_type": "display_data"
    }
   ],
   "source": [
    "fig = plt.figure()\n",
    "plt.plot(df['x'], df['y'])\n",
    "plt.xlim([0, 5.5])\n",
    "plt.ylim([1.5, 3.5])\n",
    "\n",
    "plt.xlabel('X label')\n",
    "plt.ylabel('Y label')\n",
    "\n",
    "plt.title(\"Example plot\")\n",
    "\n",
    "plt.show()"
   ]
  },
  {
   "cell_type": "markdown",
   "metadata": {},
   "source": [
    "## Bokeh"
   ]
  },
  {
   "cell_type": "code",
   "execution_count": 16,
   "metadata": {
    "scrolled": false
   },
   "outputs": [
    {
     "data": {
      "text/html": [
       "\n",
       "\n",
       "\n",
       "\n",
       "\n",
       "\n",
       "  <div class=\"bk-root\" id=\"ee077ff5-103d-42cb-a76b-d0fb423e43b4\" data-root-id=\"1713\"></div>\n"
      ]
     },
     "metadata": {},
     "output_type": "display_data"
    },
    {
     "data": {
      "application/javascript": [
       "(function(root) {\n",
       "  function embed_document(root) {\n",
       "    \n",
       "  var docs_json = {\"572306f2-ea62-45c5-810c-ed1967d8c71c\":{\"roots\":{\"references\":[{\"attributes\":{\"below\":[{\"id\":\"1724\",\"type\":\"LinearAxis\"}],\"center\":[{\"id\":\"1728\",\"type\":\"Grid\"},{\"id\":\"1733\",\"type\":\"Grid\"}],\"left\":[{\"id\":\"1729\",\"type\":\"LinearAxis\"}],\"renderers\":[{\"id\":\"1750\",\"type\":\"GlyphRenderer\"}],\"title\":{\"id\":\"1714\",\"type\":\"Title\"},\"toolbar\":{\"id\":\"1740\",\"type\":\"Toolbar\"},\"x_range\":{\"id\":\"1752\",\"type\":\"Range1d\"},\"x_scale\":{\"id\":\"1720\",\"type\":\"LinearScale\"},\"y_range\":{\"id\":\"1753\",\"type\":\"Range1d\"},\"y_scale\":{\"id\":\"1722\",\"type\":\"LinearScale\"}},\"id\":\"1713\",\"subtype\":\"Figure\",\"type\":\"Plot\"},{\"attributes\":{},\"id\":\"1739\",\"type\":\"HelpTool\"},{\"attributes\":{\"dimension\":1,\"ticker\":{\"id\":\"1730\",\"type\":\"BasicTicker\"}},\"id\":\"1733\",\"type\":\"Grid\"},{\"attributes\":{\"callback\":null,\"data\":{\"x\":[1,2,3,4,5],\"y\":{\"__ndarray__\":\"ZmZmZmZmAkDNzMzMzMwEQAAAAAAAAABAAAAAAAAACECamZmZmZkJQA==\",\"dtype\":\"float64\",\"shape\":[5]}},\"selected\":{\"id\":\"1811\",\"type\":\"Selection\"},\"selection_policy\":{\"id\":\"1812\",\"type\":\"UnionRenderers\"}},\"id\":\"1747\",\"type\":\"ColumnDataSource\"},{\"attributes\":{},\"id\":\"1722\",\"type\":\"LinearScale\"},{\"attributes\":{},\"id\":\"1734\",\"type\":\"PanTool\"},{\"attributes\":{\"overlay\":{\"id\":\"1813\",\"type\":\"BoxAnnotation\"}},\"id\":\"1736\",\"type\":\"BoxZoomTool\"},{\"attributes\":{},\"id\":\"1807\",\"type\":\"BasicTickFormatter\"},{\"attributes\":{\"active_drag\":\"auto\",\"active_inspect\":\"auto\",\"active_multi\":null,\"active_scroll\":\"auto\",\"active_tap\":\"auto\",\"tools\":[{\"id\":\"1734\",\"type\":\"PanTool\"},{\"id\":\"1735\",\"type\":\"WheelZoomTool\"},{\"id\":\"1736\",\"type\":\"BoxZoomTool\"},{\"id\":\"1737\",\"type\":\"SaveTool\"},{\"id\":\"1738\",\"type\":\"ResetTool\"},{\"id\":\"1739\",\"type\":\"HelpTool\"}]},\"id\":\"1740\",\"type\":\"Toolbar\"},{\"attributes\":{},\"id\":\"1812\",\"type\":\"UnionRenderers\"},{\"attributes\":{\"axis_label\":\"Y label\",\"formatter\":{\"id\":\"1809\",\"type\":\"BasicTickFormatter\"},\"ticker\":{\"id\":\"1730\",\"type\":\"BasicTicker\"}},\"id\":\"1729\",\"type\":\"LinearAxis\"},{\"attributes\":{\"axis_label\":\"X label\",\"formatter\":{\"id\":\"1807\",\"type\":\"BasicTickFormatter\"},\"ticker\":{\"id\":\"1725\",\"type\":\"BasicTicker\"}},\"id\":\"1724\",\"type\":\"LinearAxis\"},{\"attributes\":{\"line_alpha\":0.1,\"line_color\":\"#1f77b4\",\"x\":{\"field\":\"x\"},\"y\":{\"field\":\"y\"}},\"id\":\"1749\",\"type\":\"Line\"},{\"attributes\":{},\"id\":\"1811\",\"type\":\"Selection\"},{\"attributes\":{},\"id\":\"1737\",\"type\":\"SaveTool\"},{\"attributes\":{},\"id\":\"1720\",\"type\":\"LinearScale\"},{\"attributes\":{},\"id\":\"1730\",\"type\":\"BasicTicker\"},{\"attributes\":{},\"id\":\"1738\",\"type\":\"ResetTool\"},{\"attributes\":{},\"id\":\"1725\",\"type\":\"BasicTicker\"},{\"attributes\":{\"callback\":null,\"end\":5.5},\"id\":\"1752\",\"type\":\"Range1d\"},{\"attributes\":{},\"id\":\"1809\",\"type\":\"BasicTickFormatter\"},{\"attributes\":{\"line_color\":\"#1f77b4\",\"x\":{\"field\":\"x\"},\"y\":{\"field\":\"y\"}},\"id\":\"1748\",\"type\":\"Line\"},{\"attributes\":{\"callback\":null,\"end\":3.5,\"start\":1.5},\"id\":\"1753\",\"type\":\"Range1d\"},{\"attributes\":{},\"id\":\"1735\",\"type\":\"WheelZoomTool\"},{\"attributes\":{\"ticker\":{\"id\":\"1725\",\"type\":\"BasicTicker\"}},\"id\":\"1728\",\"type\":\"Grid\"},{\"attributes\":{\"source\":{\"id\":\"1747\",\"type\":\"ColumnDataSource\"}},\"id\":\"1751\",\"type\":\"CDSView\"},{\"attributes\":{\"bottom_units\":\"screen\",\"fill_alpha\":{\"value\":0.5},\"fill_color\":{\"value\":\"lightgrey\"},\"left_units\":\"screen\",\"level\":\"overlay\",\"line_alpha\":{\"value\":1.0},\"line_color\":{\"value\":\"black\"},\"line_dash\":[4,4],\"line_width\":{\"value\":2},\"render_mode\":\"css\",\"right_units\":\"screen\",\"top_units\":\"screen\"},\"id\":\"1813\",\"type\":\"BoxAnnotation\"},{\"attributes\":{\"data_source\":{\"id\":\"1747\",\"type\":\"ColumnDataSource\"},\"glyph\":{\"id\":\"1748\",\"type\":\"Line\"},\"hover_glyph\":null,\"muted_glyph\":null,\"nonselection_glyph\":{\"id\":\"1749\",\"type\":\"Line\"},\"selection_glyph\":null,\"view\":{\"id\":\"1751\",\"type\":\"CDSView\"}},\"id\":\"1750\",\"type\":\"GlyphRenderer\"},{\"attributes\":{\"text\":\"Example plot\"},\"id\":\"1714\",\"type\":\"Title\"}],\"root_ids\":[\"1713\"]},\"title\":\"Bokeh Application\",\"version\":\"1.1.0\"}};\n",
       "  var render_items = [{\"docid\":\"572306f2-ea62-45c5-810c-ed1967d8c71c\",\"roots\":{\"1713\":\"ee077ff5-103d-42cb-a76b-d0fb423e43b4\"}}];\n",
       "  root.Bokeh.embed.embed_items_notebook(docs_json, render_items);\n",
       "\n",
       "  }\n",
       "  if (root.Bokeh !== undefined) {\n",
       "    embed_document(root);\n",
       "  } else {\n",
       "    var attempts = 0;\n",
       "    var timer = setInterval(function(root) {\n",
       "      if (root.Bokeh !== undefined) {\n",
       "        embed_document(root);\n",
       "        clearInterval(timer);\n",
       "      }\n",
       "      attempts++;\n",
       "      if (attempts > 100) {\n",
       "        console.log(\"Bokeh: ERROR: Unable to run BokehJS code because BokehJS library is missing\");\n",
       "        clearInterval(timer);\n",
       "      }\n",
       "    }, 10, root)\n",
       "  }\n",
       "})(window);"
      ],
      "application/vnd.bokehjs_exec.v0+json": ""
     },
     "metadata": {
      "application/vnd.bokehjs_exec.v0+json": {
       "id": "1713"
      }
     },
     "output_type": "display_data"
    }
   ],
   "source": [
    "fig = figure(title=\"Example plot\")\n",
    "fig.line(df['x'], df['y'])\n",
    "fig.x_range=Range1d(0, 5.5)\n",
    "fig.y_range=Range1d(1.5, 3.5)\n",
    "\n",
    "fig.xaxis.axis_label = \"X label\"\n",
    "fig.yaxis.axis_label = \"Y label\"\n",
    "\n",
    "show(fig)\n"
   ]
  },
  {
   "cell_type": "markdown",
   "metadata": {},
   "source": [
    "# Adding legend"
   ]
  },
  {
   "cell_type": "markdown",
   "metadata": {},
   "source": [
    "## Matplotlib"
   ]
  },
  {
   "cell_type": "code",
   "execution_count": 17,
   "metadata": {},
   "outputs": [
    {
     "data": {
      "image/png": "[encoded data removed]",
      "text/plain": [
       "<Figure size 432x288 with 1 Axes>"
      ]
     },
     "metadata": {
      "needs_background": "light"
     },
     "output_type": "display_data"
    }
   ],
   "source": [
    "fig = plt.figure()\n",
    "plt.plot(df['x'], df['y'], label=\"Legend item\")\n",
    "plt.xlim([0, 5.5])\n",
    "plt.ylim([1.5, 3.5])\n",
    "\n",
    "plt.xlabel('X label')\n",
    "plt.ylabel('Y label')\n",
    "\n",
    "plt.title(\"Example plot\")\n",
    "\n",
    "plt.legend()\n",
    "\n",
    "plt.show()"
   ]
  },
  {
   "cell_type": "markdown",
   "metadata": {},
   "source": [
    "## Bokeh"
   ]
  },
  {
   "cell_type": "code",
   "execution_count": 18,
   "metadata": {
    "scrolled": false
   },
   "outputs": [
    {
     "data": {
      "text/html": [
       "\n",
       "\n",
       "\n",
       "\n",
       "\n",
       "\n",
       "  <div class=\"bk-root\" id=\"b794ae14-cf70-4609-8695-732f30a44ac7\" data-root-id=\"1862\"></div>\n"
      ]
     },
     "metadata": {},
     "output_type": "display_data"
    },
    {
     "data": {
      "application/javascript": [
       "(function(root) {\n",
       "  function embed_document(root) {\n",
       "    \n",
       "  var docs_json = {\"d0001c95-0861-49d2-9227-42e29776bc14\":{\"roots\":{\"references\":[{\"attributes\":{\"below\":[{\"id\":\"1873\",\"type\":\"LinearAxis\"}],\"center\":[{\"id\":\"1877\",\"type\":\"Grid\"},{\"id\":\"1882\",\"type\":\"Grid\"},{\"id\":\"1907\",\"type\":\"Legend\"}],\"left\":[{\"id\":\"1878\",\"type\":\"LinearAxis\"}],\"renderers\":[{\"id\":\"1899\",\"type\":\"GlyphRenderer\"}],\"title\":{\"id\":\"1863\",\"type\":\"Title\"},\"toolbar\":{\"id\":\"1889\",\"type\":\"Toolbar\"},\"x_range\":{\"id\":\"1909\",\"type\":\"Range1d\"},\"x_scale\":{\"id\":\"1869\",\"type\":\"LinearScale\"},\"y_range\":{\"id\":\"1910\",\"type\":\"Range1d\"},\"y_scale\":{\"id\":\"1871\",\"type\":\"LinearScale\"}},\"id\":\"1862\",\"subtype\":\"Figure\",\"type\":\"Plot\"},{\"attributes\":{},\"id\":\"1888\",\"type\":\"HelpTool\"},{\"attributes\":{\"data_source\":{\"id\":\"1896\",\"type\":\"ColumnDataSource\"},\"glyph\":{\"id\":\"1897\",\"type\":\"Line\"},\"hover_glyph\":null,\"muted_glyph\":null,\"nonselection_glyph\":{\"id\":\"1898\",\"type\":\"Line\"},\"selection_glyph\":null,\"view\":{\"id\":\"1900\",\"type\":\"CDSView\"}},\"id\":\"1899\",\"type\":\"GlyphRenderer\"},{\"attributes\":{},\"id\":\"1883\",\"type\":\"PanTool\"},{\"attributes\":{\"label\":{\"value\":\"Legend item\"},\"renderers\":[{\"id\":\"1899\",\"type\":\"GlyphRenderer\"}]},\"id\":\"1908\",\"type\":\"LegendItem\"},{\"attributes\":{},\"id\":\"1977\",\"type\":\"UnionRenderers\"},{\"attributes\":{\"overlay\":{\"id\":\"1906\",\"type\":\"BoxAnnotation\"}},\"id\":\"1885\",\"type\":\"BoxZoomTool\"},{\"attributes\":{},\"id\":\"1976\",\"type\":\"Selection\"},{\"attributes\":{\"axis_label\":\"X label\",\"formatter\":{\"id\":\"1902\",\"type\":\"BasicTickFormatter\"},\"ticker\":{\"id\":\"1874\",\"type\":\"BasicTicker\"}},\"id\":\"1873\",\"type\":\"LinearAxis\"},{\"attributes\":{\"callback\":null,\"data\":{\"x\":[1,2,3,4,5],\"y\":{\"__ndarray__\":\"ZmZmZmZmAkDNzMzMzMwEQAAAAAAAAABAAAAAAAAACECamZmZmZkJQA==\",\"dtype\":\"float64\",\"shape\":[5]}},\"selected\":{\"id\":\"1976\",\"type\":\"Selection\"},\"selection_policy\":{\"id\":\"1977\",\"type\":\"UnionRenderers\"}},\"id\":\"1896\",\"type\":\"ColumnDataSource\"},{\"attributes\":{\"line_alpha\":0.1,\"line_color\":\"#1f77b4\",\"x\":{\"field\":\"x\"},\"y\":{\"field\":\"y\"}},\"id\":\"1898\",\"type\":\"Line\"},{\"attributes\":{},\"id\":\"1869\",\"type\":\"LinearScale\"},{\"attributes\":{\"ticker\":{\"id\":\"1874\",\"type\":\"BasicTicker\"}},\"id\":\"1877\",\"type\":\"Grid\"},{\"attributes\":{\"callback\":null,\"end\":3.5,\"start\":1.5},\"id\":\"1910\",\"type\":\"Range1d\"},{\"attributes\":{},\"id\":\"1887\",\"type\":\"ResetTool\"},{\"attributes\":{},\"id\":\"1879\",\"type\":\"BasicTicker\"},{\"attributes\":{},\"id\":\"1902\",\"type\":\"BasicTickFormatter\"},{\"attributes\":{\"source\":{\"id\":\"1896\",\"type\":\"ColumnDataSource\"}},\"id\":\"1900\",\"type\":\"CDSView\"},{\"attributes\":{},\"id\":\"1886\",\"type\":\"SaveTool\"},{\"attributes\":{},\"id\":\"1874\",\"type\":\"BasicTicker\"},{\"attributes\":{\"callback\":null,\"end\":5.5},\"id\":\"1909\",\"type\":\"Range1d\"},{\"attributes\":{},\"id\":\"1871\",\"type\":\"LinearScale\"},{\"attributes\":{},\"id\":\"1904\",\"type\":\"BasicTickFormatter\"},{\"attributes\":{},\"id\":\"1884\",\"type\":\"WheelZoomTool\"},{\"attributes\":{\"dimension\":1,\"ticker\":{\"id\":\"1879\",\"type\":\"BasicTicker\"}},\"id\":\"1882\",\"type\":\"Grid\"},{\"attributes\":{\"text\":\"Example plot\"},\"id\":\"1863\",\"type\":\"Title\"},{\"attributes\":{\"axis_label\":\"Y label\",\"formatter\":{\"id\":\"1904\",\"type\":\"BasicTickFormatter\"},\"ticker\":{\"id\":\"1879\",\"type\":\"BasicTicker\"}},\"id\":\"1878\",\"type\":\"LinearAxis\"},{\"attributes\":{\"items\":[{\"id\":\"1908\",\"type\":\"LegendItem\"}]},\"id\":\"1907\",\"type\":\"Legend\"},{\"attributes\":{\"active_drag\":\"auto\",\"active_inspect\":\"auto\",\"active_multi\":null,\"active_scroll\":\"auto\",\"active_tap\":\"auto\",\"tools\":[{\"id\":\"1883\",\"type\":\"PanTool\"},{\"id\":\"1884\",\"type\":\"WheelZoomTool\"},{\"id\":\"1885\",\"type\":\"BoxZoomTool\"},{\"id\":\"1886\",\"type\":\"SaveTool\"},{\"id\":\"1887\",\"type\":\"ResetTool\"},{\"id\":\"1888\",\"type\":\"HelpTool\"}]},\"id\":\"1889\",\"type\":\"Toolbar\"},{\"attributes\":{\"bottom_units\":\"screen\",\"fill_alpha\":{\"value\":0.5},\"fill_color\":{\"value\":\"lightgrey\"},\"left_units\":\"screen\",\"level\":\"overlay\",\"line_alpha\":{\"value\":1.0},\"line_color\":{\"value\":\"black\"},\"line_dash\":[4,4],\"line_width\":{\"value\":2},\"render_mode\":\"css\",\"right_units\":\"screen\",\"top_units\":\"screen\"},\"id\":\"1906\",\"type\":\"BoxAnnotation\"},{\"attributes\":{\"line_color\":\"#1f77b4\",\"x\":{\"field\":\"x\"},\"y\":{\"field\":\"y\"}},\"id\":\"1897\",\"type\":\"Line\"}],\"root_ids\":[\"1862\"]},\"title\":\"Bokeh Application\",\"version\":\"1.1.0\"}};\n",
       "  var render_items = [{\"docid\":\"d0001c95-0861-49d2-9227-42e29776bc14\",\"roots\":{\"1862\":\"b794ae14-cf70-4609-8695-732f30a44ac7\"}}];\n",
       "  root.Bokeh.embed.embed_items_notebook(docs_json, render_items);\n",
       "\n",
       "  }\n",
       "  if (root.Bokeh !== undefined) {\n",
       "    embed_document(root);\n",
       "  } else {\n",
       "    var attempts = 0;\n",
       "    var timer = setInterval(function(root) {\n",
       "      if (root.Bokeh !== undefined) {\n",
       "        embed_document(root);\n",
       "        clearInterval(timer);\n",
       "      }\n",
       "      attempts++;\n",
       "      if (attempts > 100) {\n",
       "        console.log(\"Bokeh: ERROR: Unable to run BokehJS code because BokehJS library is missing\");\n",
       "        clearInterval(timer);\n",
       "      }\n",
       "    }, 10, root)\n",
       "  }\n",
       "})(window);"
      ],
      "application/vnd.bokehjs_exec.v0+json": ""
     },
     "metadata": {
      "application/vnd.bokehjs_exec.v0+json": {
       "id": "1862"
      }
     },
     "output_type": "display_data"
    }
   ],
   "source": [
    "fig = figure(title=\"Example plot\")\n",
    "fig.line(df['x'], df['y'], legend=\"Legend item\")\n",
    "fig.x_range=Range1d(0, 5.5)\n",
    "fig.y_range=Range1d(1.5, 3.5)\n",
    "\n",
    "fig.xaxis.axis_label = \"X label\"\n",
    "fig.yaxis.axis_label = \"Y label\"\n",
    "\n",
    "show(fig)\n"
   ]
  },
  {
   "cell_type": "markdown",
   "metadata": {},
   "source": [
    "# Subplots"
   ]
  },
  {
   "cell_type": "code",
   "execution_count": 19,
   "metadata": {},
   "outputs": [
    {
     "data": {
      "text/plain": [
       "<matplotlib.collections.PathCollection at 0x2bd1fb31630>"
      ]
     },
     "execution_count": 19,
     "metadata": {},
     "output_type": "execute_result"
    },
    {
     "data": {
      "image/png": "[encoded data removed]",
      "text/plain": [
       "<Figure size 432x288 with 2 Axes>"
      ]
     },
     "metadata": {
      "needs_background": "light"
     },
     "output_type": "display_data"
    }
   ],
   "source": [
    "fig, axes = plt.subplots(2, 1)\n",
    "\n",
    "axes[0].plot(df['x'], df['y'])\n",
    "axes[1].scatter(df['x'], df['y'])\n"
   ]
  },
  {
   "cell_type": "code",
   "execution_count": 20,
   "metadata": {},
   "outputs": [
    {
     "data": {
      "text/html": [
       "\n",
       "\n",
       "\n",
       "\n",
       "\n",
       "\n",
       "  <div class=\"bk-root\" id=\"558c926c-6d8b-403a-a4cc-59758cb248f2\" data-root-id=\"2101\"></div>\n"
      ]
     },
     "metadata": {},
     "output_type": "display_data"
    },
    {
     "data": {
      "application/javascript": [
       "(function(root) {\n",
       "  function embed_document(root) {\n",
       "    \n",
       "  var docs_json = {\"210f9484-3742-4672-957b-dfafde27b302\":{\"roots\":{\"references\":[{\"attributes\":{\"children\":[{\"id\":\"2027\",\"subtype\":\"Figure\",\"type\":\"Plot\"},{\"id\":\"2059\",\"subtype\":\"Figure\",\"type\":\"Plot\"}]},\"id\":\"2101\",\"type\":\"Column\"},{\"attributes\":{\"callback\":null,\"data\":{\"x\":[1,2,3,4,5],\"y\":{\"__ndarray__\":\"ZmZmZmZmAkDNzMzMzMwEQAAAAAAAAABAAAAAAAAACECamZmZmZkJQA==\",\"dtype\":\"float64\",\"shape\":[5]}},\"selected\":{\"id\":\"2185\",\"type\":\"Selection\"},\"selection_policy\":{\"id\":\"2186\",\"type\":\"UnionRenderers\"}},\"id\":\"2096\",\"type\":\"ColumnDataSource\"},{\"attributes\":{\"active_drag\":\"auto\",\"active_inspect\":\"auto\",\"active_multi\":null,\"active_scroll\":\"auto\",\"active_tap\":\"auto\",\"tools\":[{\"id\":\"2078\",\"type\":\"PanTool\"},{\"id\":\"2079\",\"type\":\"WheelZoomTool\"},{\"id\":\"2080\",\"type\":\"BoxZoomTool\"},{\"id\":\"2081\",\"type\":\"SaveTool\"},{\"id\":\"2082\",\"type\":\"ResetTool\"},{\"id\":\"2083\",\"type\":\"HelpTool\"}]},\"id\":\"2084\",\"type\":\"Toolbar\"},{\"attributes\":{\"text\":\"\"},\"id\":\"2173\",\"type\":\"Title\"},{\"attributes\":{\"data_source\":{\"id\":\"2091\",\"type\":\"ColumnDataSource\"},\"glyph\":{\"id\":\"2092\",\"type\":\"Line\"},\"hover_glyph\":null,\"muted_glyph\":null,\"nonselection_glyph\":{\"id\":\"2093\",\"type\":\"Line\"},\"selection_glyph\":null,\"view\":{\"id\":\"2095\",\"type\":\"CDSView\"}},\"id\":\"2094\",\"type\":\"GlyphRenderer\"},{\"attributes\":{\"dimension\":1,\"ticker\":{\"id\":\"2074\",\"type\":\"BasicTicker\"}},\"id\":\"2077\",\"type\":\"Grid\"},{\"attributes\":{\"callback\":null,\"data\":{\"x\":[1,2,3,4,5],\"y\":{\"__ndarray__\":\"ZmZmZmZmAkDNzMzMzMwEQAAAAAAAAABAAAAAAAAACECamZmZmZkJQA==\",\"dtype\":\"float64\",\"shape\":[5]}},\"selected\":{\"id\":\"2182\",\"type\":\"Selection\"},\"selection_policy\":{\"id\":\"2183\",\"type\":\"UnionRenderers\"}},\"id\":\"2091\",\"type\":\"ColumnDataSource\"},{\"attributes\":{},\"id\":\"2047\",\"type\":\"WheelZoomTool\"},{\"attributes\":{},\"id\":\"2178\",\"type\":\"BasicTickFormatter\"},{\"attributes\":{},\"id\":\"2046\",\"type\":\"PanTool\"},{\"attributes\":{\"ticker\":{\"id\":\"2069\",\"type\":\"BasicTicker\"}},\"id\":\"2072\",\"type\":\"Grid\"},{\"attributes\":{\"fill_color\":{\"value\":\"#1f77b4\"},\"line_color\":{\"value\":\"#1f77b4\"},\"x\":{\"field\":\"x\"},\"y\":{\"field\":\"y\"}},\"id\":\"2097\",\"type\":\"Scatter\"},{\"attributes\":{\"callback\":null},\"id\":\"2030\",\"type\":\"DataRange1d\"},{\"attributes\":{\"text\":\"\"},\"id\":\"2171\",\"type\":\"Title\"},{\"attributes\":{\"fill_alpha\":{\"value\":0.1},\"fill_color\":{\"value\":\"#1f77b4\"},\"line_alpha\":{\"value\":0.1},\"line_color\":{\"value\":\"#1f77b4\"},\"x\":{\"field\":\"x\"},\"y\":{\"field\":\"y\"}},\"id\":\"2098\",\"type\":\"Scatter\"},{\"attributes\":{},\"id\":\"2079\",\"type\":\"WheelZoomTool\"},{\"attributes\":{},\"id\":\"2050\",\"type\":\"ResetTool\"},{\"attributes\":{\"below\":[{\"id\":\"2036\",\"type\":\"LinearAxis\"}],\"center\":[{\"id\":\"2040\",\"type\":\"Grid\"},{\"id\":\"2045\",\"type\":\"Grid\"}],\"left\":[{\"id\":\"2041\",\"type\":\"LinearAxis\"}],\"plot_height\":250,\"plot_width\":500,\"renderers\":[{\"id\":\"2094\",\"type\":\"GlyphRenderer\"}],\"title\":{\"id\":\"2171\",\"type\":\"Title\"},\"toolbar\":{\"id\":\"2052\",\"type\":\"Toolbar\"},\"x_range\":{\"id\":\"2028\",\"type\":\"DataRange1d\"},\"x_scale\":{\"id\":\"2032\",\"type\":\"LinearScale\"},\"y_range\":{\"id\":\"2030\",\"type\":\"DataRange1d\"},\"y_scale\":{\"id\":\"2034\",\"type\":\"LinearScale\"}},\"id\":\"2027\",\"subtype\":\"Figure\",\"type\":\"Plot\"},{\"attributes\":{\"data_source\":{\"id\":\"2096\",\"type\":\"ColumnDataSource\"},\"glyph\":{\"id\":\"2097\",\"type\":\"Scatter\"},\"hover_glyph\":null,\"muted_glyph\":null,\"nonselection_glyph\":{\"id\":\"2098\",\"type\":\"Scatter\"},\"selection_glyph\":null,\"view\":{\"id\":\"2100\",\"type\":\"CDSView\"}},\"id\":\"2099\",\"type\":\"GlyphRenderer\"},{\"attributes\":{},\"id\":\"2037\",\"type\":\"BasicTicker\"},{\"attributes\":{},\"id\":\"2083\",\"type\":\"HelpTool\"},{\"attributes\":{},\"id\":\"2082\",\"type\":\"ResetTool\"},{\"attributes\":{\"source\":{\"id\":\"2096\",\"type\":\"ColumnDataSource\"}},\"id\":\"2100\",\"type\":\"CDSView\"},{\"attributes\":{\"formatter\":{\"id\":\"2178\",\"type\":\"BasicTickFormatter\"},\"ticker\":{\"id\":\"2069\",\"type\":\"BasicTicker\"}},\"id\":\"2068\",\"type\":\"LinearAxis\"},{\"attributes\":{\"below\":[{\"id\":\"2068\",\"type\":\"LinearAxis\"}],\"center\":[{\"id\":\"2072\",\"type\":\"Grid\"},{\"id\":\"2077\",\"type\":\"Grid\"}],\"left\":[{\"id\":\"2073\",\"type\":\"LinearAxis\"}],\"plot_height\":250,\"plot_width\":500,\"renderers\":[{\"id\":\"2099\",\"type\":\"GlyphRenderer\"}],\"title\":{\"id\":\"2173\",\"type\":\"Title\"},\"toolbar\":{\"id\":\"2084\",\"type\":\"Toolbar\"},\"x_range\":{\"id\":\"2060\",\"type\":\"DataRange1d\"},\"x_scale\":{\"id\":\"2064\",\"type\":\"LinearScale\"},\"y_range\":{\"id\":\"2062\",\"type\":\"DataRange1d\"},\"y_scale\":{\"id\":\"2066\",\"type\":\"LinearScale\"}},\"id\":\"2059\",\"subtype\":\"Figure\",\"type\":\"Plot\"},{\"attributes\":{\"formatter\":{\"id\":\"2180\",\"type\":\"BasicTickFormatter\"},\"ticker\":{\"id\":\"2074\",\"type\":\"BasicTicker\"}},\"id\":\"2073\",\"type\":\"LinearAxis\"},{\"attributes\":{\"overlay\":{\"id\":\"2187\",\"type\":\"BoxAnnotation\"}},\"id\":\"2080\",\"type\":\"BoxZoomTool\"},{\"attributes\":{},\"id\":\"2180\",\"type\":\"BasicTickFormatter\"},{\"attributes\":{\"callback\":null},\"id\":\"2060\",\"type\":\"DataRange1d\"},{\"attributes\":{},\"id\":\"2049\",\"type\":\"SaveTool\"},{\"attributes\":{},\"id\":\"2182\",\"type\":\"Selection\"},{\"attributes\":{},\"id\":\"2032\",\"type\":\"LinearScale\"},{\"attributes\":{},\"id\":\"2066\",\"type\":\"LinearScale\"},{\"attributes\":{},\"id\":\"2183\",\"type\":\"UnionRenderers\"},{\"attributes\":{\"callback\":null},\"id\":\"2028\",\"type\":\"DataRange1d\"},{\"attributes\":{\"line_color\":\"#1f77b4\",\"x\":{\"field\":\"x\"},\"y\":{\"field\":\"y\"}},\"id\":\"2092\",\"type\":\"Line\"},{\"attributes\":{},\"id\":\"2051\",\"type\":\"HelpTool\"},{\"attributes\":{},\"id\":\"2078\",\"type\":\"PanTool\"},{\"attributes\":{},\"id\":\"2034\",\"type\":\"LinearScale\"},{\"attributes\":{\"bottom_units\":\"screen\",\"fill_alpha\":{\"value\":0.5},\"fill_color\":{\"value\":\"lightgrey\"},\"left_units\":\"screen\",\"level\":\"overlay\",\"line_alpha\":{\"value\":1.0},\"line_color\":{\"value\":\"black\"},\"line_dash\":[4,4],\"line_width\":{\"value\":2},\"render_mode\":\"css\",\"right_units\":\"screen\",\"top_units\":\"screen\"},\"id\":\"2184\",\"type\":\"BoxAnnotation\"},{\"attributes\":{\"callback\":null},\"id\":\"2062\",\"type\":\"DataRange1d\"},{\"attributes\":{},\"id\":\"2081\",\"type\":\"SaveTool\"},{\"attributes\":{},\"id\":\"2042\",\"type\":\"BasicTicker\"},{\"attributes\":{},\"id\":\"2185\",\"type\":\"Selection\"},{\"attributes\":{\"overlay\":{\"id\":\"2184\",\"type\":\"BoxAnnotation\"}},\"id\":\"2048\",\"type\":\"BoxZoomTool\"},{\"attributes\":{\"ticker\":{\"id\":\"2037\",\"type\":\"BasicTicker\"}},\"id\":\"2040\",\"type\":\"Grid\"},{\"attributes\":{},\"id\":\"2069\",\"type\":\"BasicTicker\"},{\"attributes\":{},\"id\":\"2186\",\"type\":\"UnionRenderers\"},{\"attributes\":{\"formatter\":{\"id\":\"2174\",\"type\":\"BasicTickFormatter\"},\"ticker\":{\"id\":\"2037\",\"type\":\"BasicTicker\"}},\"id\":\"2036\",\"type\":\"LinearAxis\"},{\"attributes\":{},\"id\":\"2176\",\"type\":\"BasicTickFormatter\"},{\"attributes\":{\"bottom_units\":\"screen\",\"fill_alpha\":{\"value\":0.5},\"fill_color\":{\"value\":\"lightgrey\"},\"left_units\":\"screen\",\"level\":\"overlay\",\"line_alpha\":{\"value\":1.0},\"line_color\":{\"value\":\"black\"},\"line_dash\":[4,4],\"line_width\":{\"value\":2},\"render_mode\":\"css\",\"right_units\":\"screen\",\"top_units\":\"screen\"},\"id\":\"2187\",\"type\":\"BoxAnnotation\"},{\"attributes\":{},\"id\":\"2074\",\"type\":\"BasicTicker\"},{\"attributes\":{\"active_drag\":\"auto\",\"active_inspect\":\"auto\",\"active_multi\":null,\"active_scroll\":\"auto\",\"active_tap\":\"auto\",\"tools\":[{\"id\":\"2046\",\"type\":\"PanTool\"},{\"id\":\"2047\",\"type\":\"WheelZoomTool\"},{\"id\":\"2048\",\"type\":\"BoxZoomTool\"},{\"id\":\"2049\",\"type\":\"SaveTool\"},{\"id\":\"2050\",\"type\":\"ResetTool\"},{\"id\":\"2051\",\"type\":\"HelpTool\"}]},\"id\":\"2052\",\"type\":\"Toolbar\"},{\"attributes\":{\"source\":{\"id\":\"2091\",\"type\":\"ColumnDataSource\"}},\"id\":\"2095\",\"type\":\"CDSView\"},{\"attributes\":{\"line_alpha\":0.1,\"line_color\":\"#1f77b4\",\"x\":{\"field\":\"x\"},\"y\":{\"field\":\"y\"}},\"id\":\"2093\",\"type\":\"Line\"},{\"attributes\":{\"formatter\":{\"id\":\"2176\",\"type\":\"BasicTickFormatter\"},\"ticker\":{\"id\":\"2042\",\"type\":\"BasicTicker\"}},\"id\":\"2041\",\"type\":\"LinearAxis\"},{\"attributes\":{\"dimension\":1,\"ticker\":{\"id\":\"2042\",\"type\":\"BasicTicker\"}},\"id\":\"2045\",\"type\":\"Grid\"},{\"attributes\":{},\"id\":\"2174\",\"type\":\"BasicTickFormatter\"},{\"attributes\":{},\"id\":\"2064\",\"type\":\"LinearScale\"}],\"root_ids\":[\"2101\"]},\"title\":\"Bokeh Application\",\"version\":\"1.1.0\"}};\n",
       "  var render_items = [{\"docid\":\"210f9484-3742-4672-957b-dfafde27b302\",\"roots\":{\"2101\":\"558c926c-6d8b-403a-a4cc-59758cb248f2\"}}];\n",
       "  root.Bokeh.embed.embed_items_notebook(docs_json, render_items);\n",
       "\n",
       "  }\n",
       "  if (root.Bokeh !== undefined) {\n",
       "    embed_document(root);\n",
       "  } else {\n",
       "    var attempts = 0;\n",
       "    var timer = setInterval(function(root) {\n",
       "      if (root.Bokeh !== undefined) {\n",
       "        embed_document(root);\n",
       "        clearInterval(timer);\n",
       "      }\n",
       "      attempts++;\n",
       "      if (attempts > 100) {\n",
       "        console.log(\"Bokeh: ERROR: Unable to run BokehJS code because BokehJS library is missing\");\n",
       "        clearInterval(timer);\n",
       "      }\n",
       "    }, 10, root)\n",
       "  }\n",
       "})(window);"
      ],
      "application/vnd.bokehjs_exec.v0+json": ""
     },
     "metadata": {
      "application/vnd.bokehjs_exec.v0+json": {
       "id": "2101"
      }
     },
     "output_type": "display_data"
    }
   ],
   "source": [
    "p1 = figure(width=500, height=250)\n",
    "p2 = figure(width=500, height=250)\n",
    "\n",
    "p1.line(df['x'], df['y'])\n",
    "p2.scatter(df['x'], df['y'])\n",
    "\n",
    "fig = column(p1, p2)\n",
    "\n",
    "show(fig)"
   ]
  },
  {
   "cell_type": "code",
   "execution_count": 21,
   "metadata": {},
   "outputs": [
    {
     "data": {
      "text/html": [
       "\n",
       "\n",
       "\n",
       "\n",
       "\n",
       "\n",
       "  <div class=\"bk-root\" id=\"473be1c0-33ac-4f3e-9312-71bb104f9670\" data-root-id=\"2370\"></div>\n"
      ]
     },
     "metadata": {},
     "output_type": "display_data"
    },
    {
     "data": {
      "application/javascript": [
       "(function(root) {\n",
       "  function embed_document(root) {\n",
       "    \n",
       "  var docs_json = {\"f9f8a2b7-ac54-4917-b5bd-a0eef50294c1\":{\"roots\":{\"references\":[{\"attributes\":{\"children\":[{\"id\":\"2296\",\"subtype\":\"Figure\",\"type\":\"Plot\"},{\"id\":\"2328\",\"subtype\":\"Figure\",\"type\":\"Plot\"}]},\"id\":\"2370\",\"type\":\"Column\"},{\"attributes\":{\"data_source\":{\"id\":\"1002\",\"type\":\"ColumnDataSource\"},\"glyph\":{\"id\":\"2361\",\"type\":\"Line\"},\"hover_glyph\":null,\"muted_glyph\":null,\"nonselection_glyph\":{\"id\":\"2362\",\"type\":\"Line\"},\"selection_glyph\":null,\"view\":{\"id\":\"2364\",\"type\":\"CDSView\"}},\"id\":\"2363\",\"type\":\"GlyphRenderer\"},{\"attributes\":{},\"id\":\"2316\",\"type\":\"WheelZoomTool\"},{\"attributes\":{\"callback\":null,\"data\":{\"index\":[0,1,2,3,4],\"x\":[1,2,3,4,5],\"y\":{\"__ndarray__\":\"ZmZmZmZmAkDNzMzMzMwEQAAAAAAAAABAAAAAAAAACECamZmZmZkJQA==\",\"dtype\":\"float64\",\"shape\":[5]}},\"selected\":{\"id\":\"2469\",\"type\":\"Selection\"},\"selection_policy\":{\"id\":\"2470\",\"type\":\"UnionRenderers\"}},\"id\":\"1002\",\"type\":\"ColumnDataSource\"},{\"attributes\":{},\"id\":\"2347\",\"type\":\"PanTool\"},{\"attributes\":{},\"id\":\"2461\",\"type\":\"BasicTickFormatter\"},{\"attributes\":{},\"id\":\"2348\",\"type\":\"WheelZoomTool\"},{\"attributes\":{\"overlay\":{\"id\":\"2471\",\"type\":\"BoxAnnotation\"}},\"id\":\"2317\",\"type\":\"BoxZoomTool\"},{\"attributes\":{\"callback\":null},\"id\":\"2331\",\"type\":\"DataRange1d\"},{\"attributes\":{},\"id\":\"2301\",\"type\":\"LinearScale\"},{\"attributes\":{\"overlay\":{\"id\":\"2472\",\"type\":\"BoxAnnotation\"}},\"id\":\"2349\",\"type\":\"BoxZoomTool\"},{\"attributes\":{\"text\":\"\"},\"id\":\"2458\",\"type\":\"Title\"},{\"attributes\":{},\"id\":\"2350\",\"type\":\"SaveTool\"},{\"attributes\":{},\"id\":\"2469\",\"type\":\"Selection\"},{\"attributes\":{},\"id\":\"2463\",\"type\":\"BasicTickFormatter\"},{\"attributes\":{},\"id\":\"2315\",\"type\":\"PanTool\"},{\"attributes\":{},\"id\":\"2318\",\"type\":\"SaveTool\"},{\"attributes\":{},\"id\":\"2351\",\"type\":\"ResetTool\"},{\"attributes\":{},\"id\":\"2319\",\"type\":\"ResetTool\"},{\"attributes\":{\"below\":[{\"id\":\"2305\",\"type\":\"LinearAxis\"}],\"center\":[{\"id\":\"2309\",\"type\":\"Grid\"},{\"id\":\"2314\",\"type\":\"Grid\"}],\"left\":[{\"id\":\"2310\",\"type\":\"LinearAxis\"}],\"plot_height\":250,\"plot_width\":500,\"renderers\":[{\"id\":\"2363\",\"type\":\"GlyphRenderer\"}],\"title\":{\"id\":\"2458\",\"type\":\"Title\"},\"toolbar\":{\"id\":\"2321\",\"type\":\"Toolbar\"},\"x_range\":{\"id\":\"2297\",\"type\":\"DataRange1d\"},\"x_scale\":{\"id\":\"2301\",\"type\":\"LinearScale\"},\"y_range\":{\"id\":\"2299\",\"type\":\"DataRange1d\"},\"y_scale\":{\"id\":\"2303\",\"type\":\"LinearScale\"}},\"id\":\"2296\",\"subtype\":\"Figure\",\"type\":\"Plot\"},{\"attributes\":{},\"id\":\"2352\",\"type\":\"HelpTool\"},{\"attributes\":{},\"id\":\"2320\",\"type\":\"HelpTool\"},{\"attributes\":{\"active_drag\":\"auto\",\"active_inspect\":\"auto\",\"active_multi\":null,\"active_scroll\":\"auto\",\"active_tap\":\"auto\",\"tools\":[{\"id\":\"2347\",\"type\":\"PanTool\"},{\"id\":\"2348\",\"type\":\"WheelZoomTool\"},{\"id\":\"2349\",\"type\":\"BoxZoomTool\"},{\"id\":\"2350\",\"type\":\"SaveTool\"},{\"id\":\"2351\",\"type\":\"ResetTool\"},{\"id\":\"2352\",\"type\":\"HelpTool\"}]},\"id\":\"2353\",\"type\":\"Toolbar\"},{\"attributes\":{\"line_color\":\"#1f77b4\",\"x\":{\"field\":\"x\"},\"y\":{\"field\":\"y\"}},\"id\":\"2361\",\"type\":\"Line\"},{\"attributes\":{\"active_drag\":\"auto\",\"active_inspect\":\"auto\",\"active_multi\":null,\"active_scroll\":\"auto\",\"active_tap\":\"auto\",\"tools\":[{\"id\":\"2315\",\"type\":\"PanTool\"},{\"id\":\"2316\",\"type\":\"WheelZoomTool\"},{\"id\":\"2317\",\"type\":\"BoxZoomTool\"},{\"id\":\"2318\",\"type\":\"SaveTool\"},{\"id\":\"2319\",\"type\":\"ResetTool\"},{\"id\":\"2320\",\"type\":\"HelpTool\"}]},\"id\":\"2321\",\"type\":\"Toolbar\"},{\"attributes\":{\"callback\":null},\"id\":\"2299\",\"type\":\"DataRange1d\"},{\"attributes\":{},\"id\":\"2333\",\"type\":\"LinearScale\"},{\"attributes\":{\"source\":{\"id\":\"1002\",\"type\":\"ColumnDataSource\"}},\"id\":\"2364\",\"type\":\"CDSView\"},{\"attributes\":{},\"id\":\"2335\",\"type\":\"LinearScale\"},{\"attributes\":{\"callback\":null},\"id\":\"2297\",\"type\":\"DataRange1d\"},{\"attributes\":{\"fill_color\":{\"value\":\"#1f77b4\"},\"line_color\":{\"value\":\"#1f77b4\"},\"x\":{\"field\":\"x\"},\"y\":{\"field\":\"y\"}},\"id\":\"2366\",\"type\":\"Scatter\"},{\"attributes\":{\"below\":[{\"id\":\"2337\",\"type\":\"LinearAxis\"}],\"center\":[{\"id\":\"2341\",\"type\":\"Grid\"},{\"id\":\"2346\",\"type\":\"Grid\"}],\"left\":[{\"id\":\"2342\",\"type\":\"LinearAxis\"}],\"plot_height\":250,\"plot_width\":500,\"renderers\":[{\"id\":\"2368\",\"type\":\"GlyphRenderer\"}],\"title\":{\"id\":\"2460\",\"type\":\"Title\"},\"toolbar\":{\"id\":\"2353\",\"type\":\"Toolbar\"},\"x_range\":{\"id\":\"2329\",\"type\":\"DataRange1d\"},\"x_scale\":{\"id\":\"2333\",\"type\":\"LinearScale\"},\"y_range\":{\"id\":\"2331\",\"type\":\"DataRange1d\"},\"y_scale\":{\"id\":\"2335\",\"type\":\"LinearScale\"}},\"id\":\"2328\",\"subtype\":\"Figure\",\"type\":\"Plot\"},{\"attributes\":{\"formatter\":{\"id\":\"2465\",\"type\":\"BasicTickFormatter\"},\"ticker\":{\"id\":\"2338\",\"type\":\"BasicTicker\"}},\"id\":\"2337\",\"type\":\"LinearAxis\"},{\"attributes\":{\"dimension\":1,\"ticker\":{\"id\":\"2311\",\"type\":\"BasicTicker\"}},\"id\":\"2314\",\"type\":\"Grid\"},{\"attributes\":{\"fill_alpha\":{\"value\":0.1},\"fill_color\":{\"value\":\"#1f77b4\"},\"line_alpha\":{\"value\":0.1},\"line_color\":{\"value\":\"#1f77b4\"},\"x\":{\"field\":\"x\"},\"y\":{\"field\":\"y\"}},\"id\":\"2367\",\"type\":\"Scatter\"},{\"attributes\":{},\"id\":\"2338\",\"type\":\"BasicTicker\"},{\"attributes\":{},\"id\":\"2311\",\"type\":\"BasicTicker\"},{\"attributes\":{\"data_source\":{\"id\":\"1002\",\"type\":\"ColumnDataSource\"},\"glyph\":{\"id\":\"2366\",\"type\":\"Scatter\"},\"hover_glyph\":null,\"muted_glyph\":null,\"nonselection_glyph\":{\"id\":\"2367\",\"type\":\"Scatter\"},\"selection_glyph\":null,\"view\":{\"id\":\"2369\",\"type\":\"CDSView\"}},\"id\":\"2368\",\"type\":\"GlyphRenderer\"},{\"attributes\":{\"ticker\":{\"id\":\"2338\",\"type\":\"BasicTicker\"}},\"id\":\"2341\",\"type\":\"Grid\"},{\"attributes\":{\"formatter\":{\"id\":\"2463\",\"type\":\"BasicTickFormatter\"},\"ticker\":{\"id\":\"2311\",\"type\":\"BasicTicker\"}},\"id\":\"2310\",\"type\":\"LinearAxis\"},{\"attributes\":{\"source\":{\"id\":\"1002\",\"type\":\"ColumnDataSource\"}},\"id\":\"2369\",\"type\":\"CDSView\"},{\"attributes\":{\"formatter\":{\"id\":\"2467\",\"type\":\"BasicTickFormatter\"},\"ticker\":{\"id\":\"2343\",\"type\":\"BasicTicker\"}},\"id\":\"2342\",\"type\":\"LinearAxis\"},{\"attributes\":{\"formatter\":{\"id\":\"2461\",\"type\":\"BasicTickFormatter\"},\"ticker\":{\"id\":\"2306\",\"type\":\"BasicTicker\"}},\"id\":\"2305\",\"type\":\"LinearAxis\"},{\"attributes\":{},\"id\":\"2343\",\"type\":\"BasicTicker\"},{\"attributes\":{},\"id\":\"2306\",\"type\":\"BasicTicker\"},{\"attributes\":{\"dimension\":1,\"ticker\":{\"id\":\"2343\",\"type\":\"BasicTicker\"}},\"id\":\"2346\",\"type\":\"Grid\"},{\"attributes\":{},\"id\":\"2465\",\"type\":\"BasicTickFormatter\"},{\"attributes\":{\"ticker\":{\"id\":\"2306\",\"type\":\"BasicTicker\"}},\"id\":\"2309\",\"type\":\"Grid\"},{\"attributes\":{},\"id\":\"2470\",\"type\":\"UnionRenderers\"},{\"attributes\":{},\"id\":\"2467\",\"type\":\"BasicTickFormatter\"},{\"attributes\":{\"line_alpha\":0.1,\"line_color\":\"#1f77b4\",\"x\":{\"field\":\"x\"},\"y\":{\"field\":\"y\"}},\"id\":\"2362\",\"type\":\"Line\"},{\"attributes\":{},\"id\":\"2303\",\"type\":\"LinearScale\"},{\"attributes\":{\"bottom_units\":\"screen\",\"fill_alpha\":{\"value\":0.5},\"fill_color\":{\"value\":\"lightgrey\"},\"left_units\":\"screen\",\"level\":\"overlay\",\"line_alpha\":{\"value\":1.0},\"line_color\":{\"value\":\"black\"},\"line_dash\":[4,4],\"line_width\":{\"value\":2},\"render_mode\":\"css\",\"right_units\":\"screen\",\"top_units\":\"screen\"},\"id\":\"2471\",\"type\":\"BoxAnnotation\"},{\"attributes\":{\"callback\":null},\"id\":\"2329\",\"type\":\"DataRange1d\"},{\"attributes\":{\"bottom_units\":\"screen\",\"fill_alpha\":{\"value\":0.5},\"fill_color\":{\"value\":\"lightgrey\"},\"left_units\":\"screen\",\"level\":\"overlay\",\"line_alpha\":{\"value\":1.0},\"line_color\":{\"value\":\"black\"},\"line_dash\":[4,4],\"line_width\":{\"value\":2},\"render_mode\":\"css\",\"right_units\":\"screen\",\"top_units\":\"screen\"},\"id\":\"2472\",\"type\":\"BoxAnnotation\"},{\"attributes\":{\"text\":\"\"},\"id\":\"2460\",\"type\":\"Title\"}],\"root_ids\":[\"2370\"]},\"title\":\"Bokeh Application\",\"version\":\"1.1.0\"}};\n",
       "  var render_items = [{\"docid\":\"f9f8a2b7-ac54-4917-b5bd-a0eef50294c1\",\"roots\":{\"2370\":\"473be1c0-33ac-4f3e-9312-71bb104f9670\"}}];\n",
       "  root.Bokeh.embed.embed_items_notebook(docs_json, render_items);\n",
       "\n",
       "  }\n",
       "  if (root.Bokeh !== undefined) {\n",
       "    embed_document(root);\n",
       "  } else {\n",
       "    var attempts = 0;\n",
       "    var timer = setInterval(function(root) {\n",
       "      if (root.Bokeh !== undefined) {\n",
       "        embed_document(root);\n",
       "        clearInterval(timer);\n",
       "      }\n",
       "      attempts++;\n",
       "      if (attempts > 100) {\n",
       "        console.log(\"Bokeh: ERROR: Unable to run BokehJS code because BokehJS library is missing\");\n",
       "        clearInterval(timer);\n",
       "      }\n",
       "    }, 10, root)\n",
       "  }\n",
       "})(window);"
      ],
      "application/vnd.bokehjs_exec.v0+json": ""
     },
     "metadata": {
      "application/vnd.bokehjs_exec.v0+json": {
       "id": "2370"
      }
     },
     "output_type": "display_data"
    }
   ],
   "source": [
    "p1 = figure(width=500, height=250)\n",
    "p2 = figure(width=500, height=250)\n",
    "\n",
    "p1.line('x', 'y', source=source)\n",
    "p2.scatter('x', 'y', source=source)\n",
    "\n",
    "fig = column(p1, p2)\n",
    "\n",
    "show(fig)"
   ]
  },
  {
   "cell_type": "code",
   "execution_count": null,
   "metadata": {},
   "outputs": [],
   "source": []
  }
 ],
 "metadata": {
  "kernelspec": {
   "display_name": "py37",
   "language": "python",
   "name": "py37"
  },
  "language_info": {
   "codemirror_mode": {
    "name": "ipython",
    "version": 3
   },
   "file_extension": ".py",
   "mimetype": "text/x-python",
   "name": "python",
   "nbconvert_exporter": "python",
   "pygments_lexer": "ipython3",
   "version": "3.7.3"
  }
 },
 "nbformat": 4,
 "nbformat_minor": 2
}
