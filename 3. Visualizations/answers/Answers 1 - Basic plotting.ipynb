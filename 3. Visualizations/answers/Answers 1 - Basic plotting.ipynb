{
 "cells": [
  {
   "cell_type": "markdown",
   "metadata": {},
   "source": [
    "# Exercise 1 - Basic plotting"
   ]
  },
  {
   "cell_type": "markdown",
   "metadata": {},
   "source": [
    "Python has a few different packages for basic plotting. The most commonly used one is [matplotlib](https://matplotlib.org/). With this package you can make a large variety of plots, from a simple timeseries plot to a 3D plot. In this exercise we will start with the very basics of making a plot. "
   ]
  },
  {
   "cell_type": "markdown",
   "metadata": {},
   "source": [
    "## Basics of matplotlib figure\n",
    "To create a plot you first need a figure to put the data in. This can be set up using a [figure](https://matplotlib.org/api/_as_gen/matplotlib.pyplot.figure.html) from [matplotlib pyplot](https://matplotlib.org/users/pyplot_tutorial.html). Consider this figure as a canvas to make plots on. There are a few configurations to adjust the figure, such as size (keyword = figsize) and background color (facecolor). On this figure you can create your own plot. A very simple example is shown below where a timeseries with three data points are plotted ((1,3), (2, 2) and (3, 3))."
   ]
  },
  {
   "cell_type": "code",
   "execution_count": 1,
   "metadata": {},
   "outputs": [
    {
     "data": {
      "text/plain": [
       "[<matplotlib.lines.Line2D at 0x28c845d2d30>]"
      ]
     },
     "execution_count": 1,
     "metadata": {},
     "output_type": "execute_result"
    }
   ],
   "source": [
    "import matplotlib.pyplot as plt\n",
    "fig = plt.figure()\n",
    "\n",
    "x = [1, 2, 3]\n",
    "y = [3, 2, 3]\n",
    "plt.plot(x, y)"
   ]
  },
  {
   "cell_type": "markdown",
   "metadata": {},
   "source": [
    "That's how easy you can make a plot. However because of the order of the arguments for this function, we can make it even easier. Because in this case the x values are a range from 1 to 3, we only need to supply the y data to make this function work properly.\n"
   ]
  },
  {
   "cell_type": "code",
   "execution_count": 2,
   "metadata": {},
   "outputs": [
    {
     "data": {
      "text/plain": [
       "[<matplotlib.lines.Line2D at 0x28c847accf8>]"
      ]
     },
     "execution_count": 2,
     "metadata": {},
     "output_type": "execute_result"
    },
    {
     "data": {
      "image/png": "[encoded data removed]",
      "text/plain": [
       "<Figure size 432x288 with 1 Axes>"
      ]
     },
     "metadata": {
      "needs_background": "light"
     },
     "output_type": "display_data"
    }
   ],
   "source": [
    "fig = plt.figure()\n",
    "plt.plot(y)"
   ]
  },
  {
   "cell_type": "markdown",
   "metadata": {},
   "source": [
    "When the plot function only receives 1 argument it automatically makes a range for the x axis to plot the y values to. This was a simple timeseries. However sometimes you have data points that need to be plotted. That can be done with the same function, however some adjusments for styling are needed. To see what are all the options of the plot function you can type 'plt.plot?'"
   ]
  },
  {
   "cell_type": "code",
   "execution_count": 3,
   "metadata": {},
   "outputs": [],
   "source": [
    "plt.plot?"
   ]
  },
  {
   "cell_type": "markdown",
   "metadata": {},
   "source": [
    "You can plot multiple plots on to the same figure, with different styling. Notice that the plot function automatically styles the plots for you in a specific order if you don't give any styling options. This you might have noticed from the first two examples, where both lines are blue. Each time you start a new figure, the order of the plots styling is reset. Furthermore it is important to always define a new figure before plotting. Otherwise you might be ending up changing a figure defined in another cell. \n",
    "\n",
    "Next is a bit more complex figure with three different plots, demonstrating the basics of plotting."
   ]
  },
  {
   "cell_type": "code",
   "execution_count": 5,
   "metadata": {},
   "outputs": [
    {
     "data": {
      "text/plain": [
       "Text(0.5, 0.98, 'and this is the suptitle')"
      ]
     },
     "execution_count": 5,
     "metadata": {},
     "output_type": "execute_result"
    },
    {
     "data": {
      "image/png": "[encoded data removed]",
      "text/plain": [
       "<Figure size 432x288 with 1 Axes>"
      ]
     },
     "metadata": {
      "needs_background": "light"
     },
     "output_type": "display_data"
    }
   ],
   "source": [
    "plt.figure()\n",
    "# Make the line for the mouth -> we only use values for the y axis\n",
    "plt.plot([1.5, 1, 1, 1, 1, 1.5])\n",
    "# Make the eyes, when using only 1 data point, you need to set a marker, otherwise you won't see the plot appear\n",
    "plt.plot([1], [3], 'x', ms=\"20\")\n",
    "# The plot function will automatically give a different color a new plot added to a figure. But we can set the color ourselfs\n",
    "plt.plot([4], [3], 'o', color=\"red\", ms=\"20\")\n",
    "\n",
    "# We can adjust the axes to get the plots better in view\n",
    "plt.ylim(0, 4)\n",
    "plt.xlim(-1, 6)\n",
    "\n",
    "# Setting some additional information to the plot\n",
    "plt.xlabel('X label')\n",
    "plt.ylabel('Y label')\n",
    "plt.title('This is the title')\n",
    "plt.suptitle('and this is the suptitle')"
   ]
  },
  {
   "cell_type": "markdown",
   "metadata": {},
   "source": [
    "## Exercise 1.1 Creating a timeseries"
   ]
  },
  {
   "cell_type": "markdown",
   "metadata": {},
   "source": [
    "Using pandas, read in a csv file and create a timeseries of earthquakes from 1970 to 2014\n",
    "\n",
    "The data can be found here: \n",
    "https://data.humdata.org/dataset/catalog-of-earthquakes1970-2014/resource/10ac8776-5141-494b-b3cd-bf7764b2f964\n",
    "\n",
    "Plot the magnitude values per earthquake as a function of the number of earthquakes (we are not going in to date time axes just yet, this will be considered in exercise 2). And style it to your liking. Consider things like changing the figure size, in order to have a "
   ]
  },
  {
   "cell_type": "code",
   "execution_count": 21,
   "metadata": {},
   "outputs": [
    {
     "data": {
      "text/html": [
       "<div>\n",
       "<style scoped>\n",
       "    .dataframe tbody tr th:only-of-type {\n",
       "        vertical-align: middle;\n",
       "    }\n",
       "\n",
       "    .dataframe tbody tr th {\n",
       "        vertical-align: top;\n",
       "    }\n",
       "\n",
       "    .dataframe thead th {\n",
       "        text-align: right;\n",
       "    }\n",
       "</style>\n",
       "<table border=\"1\" class=\"dataframe\">\n",
       "  <thead>\n",
       "    <tr style=\"text-align: right;\">\n",
       "      <th></th>\n",
       "      <th>DateTime</th>\n",
       "      <th>Latitude</th>\n",
       "      <th>Longitude</th>\n",
       "      <th>Depth</th>\n",
       "      <th>Magnitude</th>\n",
       "      <th>MagType</th>\n",
       "      <th>NbStations</th>\n",
       "      <th>Gap</th>\n",
       "      <th>Distance</th>\n",
       "      <th>RMS</th>\n",
       "      <th>Source</th>\n",
       "      <th>EventID</th>\n",
       "    </tr>\n",
       "  </thead>\n",
       "  <tbody>\n",
       "    <tr>\n",
       "      <th>0</th>\n",
       "      <td>1970/01/04 17:00:40.20</td>\n",
       "      <td>24.139</td>\n",
       "      <td>102.503</td>\n",
       "      <td>31.0</td>\n",
       "      <td>7.5</td>\n",
       "      <td>Ms</td>\n",
       "      <td>90.0</td>\n",
       "      <td>NaN</td>\n",
       "      <td>NaN</td>\n",
       "      <td>0.0</td>\n",
       "      <td>NEI</td>\n",
       "      <td>1.970010e+09</td>\n",
       "    </tr>\n",
       "    <tr>\n",
       "      <th>1</th>\n",
       "      <td>1970/01/06 05:35:51.80</td>\n",
       "      <td>-9.628</td>\n",
       "      <td>151.458</td>\n",
       "      <td>8.0</td>\n",
       "      <td>6.2</td>\n",
       "      <td>Ms</td>\n",
       "      <td>85.0</td>\n",
       "      <td>NaN</td>\n",
       "      <td>NaN</td>\n",
       "      <td>0.0</td>\n",
       "      <td>NEI</td>\n",
       "      <td>1.970011e+09</td>\n",
       "    </tr>\n",
       "    <tr>\n",
       "      <th>2</th>\n",
       "      <td>1970/01/08 17:12:39.10</td>\n",
       "      <td>-34.741</td>\n",
       "      <td>178.568</td>\n",
       "      <td>179.0</td>\n",
       "      <td>6.1</td>\n",
       "      <td>Mb</td>\n",
       "      <td>59.0</td>\n",
       "      <td>NaN</td>\n",
       "      <td>NaN</td>\n",
       "      <td>0.0</td>\n",
       "      <td>NEI</td>\n",
       "      <td>1.970011e+09</td>\n",
       "    </tr>\n",
       "    <tr>\n",
       "      <th>3</th>\n",
       "      <td>1970/01/10 12:07:08.60</td>\n",
       "      <td>6.825</td>\n",
       "      <td>126.737</td>\n",
       "      <td>73.0</td>\n",
       "      <td>6.1</td>\n",
       "      <td>Mb</td>\n",
       "      <td>91.0</td>\n",
       "      <td>NaN</td>\n",
       "      <td>NaN</td>\n",
       "      <td>0.0</td>\n",
       "      <td>NEI</td>\n",
       "      <td>1.970011e+09</td>\n",
       "    </tr>\n",
       "    <tr>\n",
       "      <th>4</th>\n",
       "      <td>1970/01/16 08:05:39.00</td>\n",
       "      <td>60.280</td>\n",
       "      <td>-152.660</td>\n",
       "      <td>85.0</td>\n",
       "      <td>6.0</td>\n",
       "      <td>ML</td>\n",
       "      <td>0.0</td>\n",
       "      <td>NaN</td>\n",
       "      <td>NaN</td>\n",
       "      <td>NaN</td>\n",
       "      <td>AK</td>\n",
       "      <td>NaN</td>\n",
       "    </tr>\n",
       "  </tbody>\n",
       "</table>\n",
       "</div>"
      ],
      "text/plain": [
       "                 DateTime  Latitude  Longitude  Depth  Magnitude MagType  \\\n",
       "0  1970/01/04 17:00:40.20    24.139    102.503   31.0        7.5      Ms   \n",
       "1  1970/01/06 05:35:51.80    -9.628    151.458    8.0        6.2      Ms   \n",
       "2  1970/01/08 17:12:39.10   -34.741    178.568  179.0        6.1      Mb   \n",
       "3  1970/01/10 12:07:08.60     6.825    126.737   73.0        6.1      Mb   \n",
       "4  1970/01/16 08:05:39.00    60.280   -152.660   85.0        6.0      ML   \n",
       "\n",
       "   NbStations  Gap  Distance  RMS Source       EventID  \n",
       "0        90.0  NaN       NaN  0.0    NEI  1.970010e+09  \n",
       "1        85.0  NaN       NaN  0.0    NEI  1.970011e+09  \n",
       "2        59.0  NaN       NaN  0.0    NEI  1.970011e+09  \n",
       "3        91.0  NaN       NaN  0.0    NEI  1.970011e+09  \n",
       "4         0.0  NaN       NaN  NaN     AK           NaN  "
      ]
     },
     "execution_count": 21,
     "metadata": {},
     "output_type": "execute_result"
    }
   ],
   "source": [
    "import pandas as pd\n",
    "\n",
    "data = pd.read_csv('../data/earthquakes1970-2014.csv')\n",
    "data.head()"
   ]
  },
  {
   "cell_type": "code",
   "execution_count": 7,
   "metadata": {},
   "outputs": [
    {
     "data": {
      "text/plain": [
       "[<matplotlib.lines.Line2D at 0x28c8568c320>]"
      ]
     },
     "execution_count": 7,
     "metadata": {},
     "output_type": "execute_result"
    },
    {
     "data": {
      "image/png": "[encoded data removed]",
      "text/plain": [
       "<Figure size 432x288 with 1 Axes>"
      ]
     },
     "metadata": {
      "needs_background": "light"
     },
     "output_type": "display_data"
    }
   ],
   "source": [
    "y = data.Magnitude.values\n",
    "plt.figure()\n",
    "plt.plot(y)"
   ]
  },
  {
   "cell_type": "markdown",
   "metadata": {},
   "source": [
    "## Exercise 1.2 Drawing a threshold\n",
    "On the Richter magnitude scale from 7 up an earthquake is considered as \"heavy\". Using the same data as in Exercise 1.1, recreate te plot and draw all points lower than 7 in yellow and all earthquakes heavier than 7 with red. Create a horizontal line on the graph indicating this threshhold."
   ]
  },
  {
   "cell_type": "code",
   "execution_count": 14,
   "metadata": {},
   "outputs": [
    {
     "data": {
      "text/plain": [
       "[<matplotlib.lines.Line2D at 0x28c88627b00>]"
      ]
     },
     "execution_count": 14,
     "metadata": {},
     "output_type": "execute_result"
    },
    {
     "data": {
      "image/png": "[encoded data removed]",
      "text/plain": [
       "<Figure size 432x288 with 1 Axes>"
      ]
     },
     "metadata": {
      "needs_background": "light"
     },
     "output_type": "display_data"
    }
   ],
   "source": [
    "import numpy as np\n",
    "plt.figure()\n",
    "x = np.arange(len(y))\n",
    "plt.plot(x[y>3], y[y>3], 'y.')\n",
    "plt.plot(x[y>7], y[y>7], 'r.')\n",
    "plt.plot(x[[0, -1]], [7, 7])"
   ]
  },
  {
   "cell_type": "markdown",
   "metadata": {},
   "source": [
    "There is an easier way to plot a horizontal line than the plot function. Matplotlibs pyplot has the function [axhline](https://matplotlib.org/api/_as_gen/matplotlib.pyplot.axhline.html)  and [axvline](https://matplotlib.org/api/_as_gen/matplotlib.pyplot.axvline.html) (horizontal and vertical lines) for this specific goal. These are just two other functions that can be used to plot on a matplotlib figure. There are many more to make life easier. "
   ]
  },
  {
   "cell_type": "code",
   "execution_count": 20,
   "metadata": {},
   "outputs": [
    {
     "data": {
      "text/plain": [
       "<matplotlib.lines.Line2D at 0x28c886df080>"
      ]
     },
     "execution_count": 20,
     "metadata": {},
     "output_type": "execute_result"
    },
    {
     "data": {
      "image/png": "[encoded data removed]",
      "text/plain": [
       "<Figure size 432x288 with 1 Axes>"
      ]
     },
     "metadata": {
      "needs_background": "light"
     },
     "output_type": "display_data"
    }
   ],
   "source": [
    "plt.figure()\n",
    "plt.axvline(2)\n",
    "plt.axhline(3)"
   ]
  },
  {
   "cell_type": "markdown",
   "metadata": {},
   "source": [
    "A simple example is the hist function. We are going to reuse the data from the earthquakes. Those timeseries were a bit messy, but with a histogram plot we can gain some more information from the data. "
   ]
  },
  {
   "cell_type": "code",
   "execution_count": 43,
   "metadata": {},
   "outputs": [
    {
     "name": "stdout",
     "output_type": "stream",
     "text": [
      "[4.771e+03 5.020e+02 2.900e+01 2.000e+00]\n"
     ]
    },
    {
     "data": {
      "image/png": "[encoded data removed]",
      "text/plain": [
       "<Figure size 432x288 with 1 Axes>"
      ]
     },
     "metadata": {
      "needs_background": "light"
     },
     "output_type": "display_data"
    }
   ],
   "source": [
    "y = data.Magnitude.values\n",
    "plt.figure()\n",
    "plt.hist(y, np.arange(6, 11))\n",
    "plt.title('Earthquakes 1970-2014')\n",
    "plt.xlabel('Richter magnitude scale')\n",
    "plt.ylabel('Number of earthquakes')\n",
    "print(hist)"
   ]
  },
  {
   "cell_type": "markdown",
   "metadata": {},
   "source": [
    "## Exercise 1.3  Create a \n",
    "Using the values of the histogram plot, create a [pie](https://matplotlib.org/3.1.0/api/_as_gen/matplotlib.pyplot.pie.html) chart. This means you need to search the website to see how to get the values from the hist plot and how to use them in a pie chart. \n",
    "The wedges of the pie should contain the amount of  data inside different categories on the Richter scale. (6-6.9, 7-7.9, 8-8.9 and 9-9.9). In this way more information can be displayed on the graph that could be useful."
   ]
  },
  {
   "cell_type": "code",
   "execution_count": 44,
   "metadata": {},
   "outputs": [
    {
     "data": {
      "text/plain": [
       "([<matplotlib.patches.Wedge at 0x28c8eb043c8>,\n",
       "  <matplotlib.patches.Wedge at 0x28c8eb11cc0>,\n",
       "  <matplotlib.patches.Wedge at 0x28c8ead5550>,\n",
       "  <matplotlib.patches.Wedge at 0x28c8ead5898>],\n",
       " [Text(-1.0456374364785552, 0.34152942982202206, ''),\n",
       "  Text(1.0391905207452257, -0.36067029485843033, ''),\n",
       "  Text(1.099789877044585, -0.02149944999893736, ''),\n",
       "  Text(1.0999992280632316, -0.0013031731638535233, '')])"
      ]
     },
     "execution_count": 44,
     "metadata": {},
     "output_type": "execute_result"
    },
    {
     "data": {
      "image/png": "[encoded data removed]",
      "text/plain": [
       "<Figure size 432x288 with 1 Axes>"
      ]
     },
     "metadata": {},
     "output_type": "display_data"
    }
   ],
   "source": [
    "hist = plt.hist(y, np.arange(6, 11))\n",
    "plt.pie(hist[0])"
   ]
  },
  {
   "cell_type": "code",
   "execution_count": null,
   "metadata": {},
   "outputs": [],
   "source": [
    "plt.boxplot(y)"
   ]
  },
  {
   "cell_type": "code",
   "execution_count": null,
   "metadata": {},
   "outputs": [],
   "source": [
    "plt.imshow(x, y)"
   ]
  },
  {
   "cell_type": "code",
   "execution_count": null,
   "metadata": {},
   "outputs": [],
   "source": [
    "- different plots - boxplots imshow piechart histograms\n",
    "- matplotlib legend!\n",
    "- subplots\n",
    "- matplotlib interactive -> saving/zooming\n",
    "- imshow \n",
    "- contour"
   ]
  }
 ],
 "metadata": {
  "kernelspec": {
   "display_name": "Python 3",
   "language": "python",
   "name": "python3"
  },
  "language_info": {
   "codemirror_mode": {
    "name": "ipython",
    "version": 3
   },
   "file_extension": ".py",
   "mimetype": "text/x-python",
   "name": "python",
   "nbconvert_exporter": "python",
   "pygments_lexer": "ipython3",
   "version": "3.7.3"
  }
 },
 "nbformat": 4,
 "nbformat_minor": 2
}
