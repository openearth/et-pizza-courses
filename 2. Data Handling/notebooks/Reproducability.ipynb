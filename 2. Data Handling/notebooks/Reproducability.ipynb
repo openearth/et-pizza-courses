{
 "cells": [
  {
   "cell_type": "markdown",
   "metadata": {},
   "source": [
    "## Python Pizza Course 2019\n",
    "# Reproducability and readability\n",
    "\n",
    "\n",
    "## Introduction\n",
    "One of the core ideas of the Python language is its readability. Its creator believed that *Code is read more often than it is written*.\n",
    "\n",
    "You should fully assume that the same goes for your code. You yourself will read it again and again, maybe soon, maybe in a few months. Often, you'll share it with others, or others will find it.\n",
    "\n",
    "    Can they read, understand and run your code?\n",
    "\n",
    "In a research institute as Deltares, this is of added importance. Scientific research should be reproducable, so this will apply to your code as well.\n",
    "\n",
    "\n"
   ]
  },
  {
   "cell_type": "markdown",
   "metadata": {},
   "source": [
    "## Environments\n",
    "Different Python scripts or libraries often require different versions of packages. An example, Library A requires `GDAL==1.00` while Library B requires `GDAL>2.0`. If this happens you need a way to switch between the two GDAL versions, just as you sometimes need to switch between Python 2 and 3.\n",
    "\n",
    "The easiest way to switch between packages is to use __environments__. An environment is in essence a folder of Python packages. Anaconda, the Python package manager we're using, can easily switch between these.\n",
    "\n",
    "Use `conda env list` to list your environments. You probably will find only one, named `base`. The `*` indicates the active environment. All commands you execute (`conda install` or `python`) come from this `base` environment. We'll use the `!` command unique to a Jupyter notebook to execute a `cmd` command. Otherwise, please switch to a new `cmd` window."
   ]
  },
  {
   "cell_type": "code",
   "execution_count": 1,
   "metadata": {},
   "outputs": [
    {
     "name": "stdout",
     "output_type": "stream",
     "text": [
      "# conda environments:\r\n",
      "#\r\n",
      "                         /Users/epta/.julia/conda/3\r\n",
      "base                     /Users/epta/anaconda2\r\n",
      "three                 *  /Users/epta/anaconda2/envs/three\r\n",
      "\r\n"
     ]
    }
   ],
   "source": [
    "!conda env list"
   ]
  },
  {
   "cell_type": "markdown",
   "metadata": {},
   "source": [
    "If you have a project that requires a different version of a package or Python than you've got installed, you should create a new environment. For example, you can create a Python 3.5 environment with numpy installed: `conda create -n <env_name> python=3.5 numpy`."
   ]
  },
  {
   "cell_type": "code",
   "execution_count": 2,
   "metadata": {},
   "outputs": [
    {
     "name": "stdout",
     "output_type": "stream",
     "text": [
      "Collecting package metadata: done\n",
      "Solving environment: done\n",
      "\n",
      "## Package Plan ##\n",
      "\n",
      "  environment location: /Users/epta/anaconda2/envs/py27_numpy\n",
      "\n",
      "  added / updated specs:\n",
      "    - numpy\n",
      "    - python=2.7\n",
      "\n",
      "\n",
      "The following packages will be downloaded:\n",
      "\n",
      "    package                    |            build\n",
      "    ---------------------------|-----------------\n",
      "    numpy-1.16.4               |   py27h6b0580a_0         4.1 MB  conda-forge\n",
      "    openssl-1.1.1b             |       h01d97ff_2         3.5 MB  conda-forge\n",
      "    pip-19.1.1                 |           py27_0         1.8 MB  conda-forge\n",
      "    python-2.7.15              |    h932b40d_1008        12.1 MB  conda-forge\n",
      "    setuptools-41.0.1          |           py27_0         622 KB  conda-forge\n",
      "    tk-8.6.9                   |    h2573ce8_1002         3.2 MB  conda-forge\n",
      "    wheel-0.33.4               |           py27_0          34 KB  conda-forge\n",
      "    ------------------------------------------------------------\n",
      "                                           Total:        25.4 MB\n",
      "\n",
      "The following NEW packages will be INSTALLED:\n",
      "\n",
      "  ca-certificates    conda-forge/osx-64::ca-certificates-2019.3.9-hecc5488_0\n",
      "  certifi            conda-forge/osx-64::certifi-2019.3.9-py27_0\n",
      "  libblas            conda-forge/osx-64::libblas-3.8.0-7_openblas\n",
      "  libcblas           conda-forge/osx-64::libcblas-3.8.0-7_openblas\n",
      "  libcxx             conda-forge/osx-64::libcxx-8.0.0-2\n",
      "  libcxxabi          conda-forge/osx-64::libcxxabi-8.0.0-2\n",
      "  libffi             conda-forge/osx-64::libffi-3.2.1-h6de7cb9_1006\n",
      "  libgfortran        conda-forge/osx-64::libgfortran-3.0.1-0\n",
      "  liblapack          conda-forge/osx-64::liblapack-3.8.0-7_openblas\n",
      "  ncurses            conda-forge/osx-64::ncurses-6.1-h0a44026_1002\n",
      "  numpy              conda-forge/osx-64::numpy-1.16.4-py27h6b0580a_0\n",
      "  openblas           conda-forge/osx-64::openblas-0.3.5-h436c29b_1001\n",
      "  openssl            conda-forge/osx-64::openssl-1.1.1b-h01d97ff_2\n",
      "  pip                conda-forge/osx-64::pip-19.1.1-py27_0\n",
      "  python             conda-forge/osx-64::python-2.7.15-h932b40d_1008\n",
      "  readline           conda-forge/osx-64::readline-7.0-hcfe32e1_1001\n",
      "  setuptools         conda-forge/osx-64::setuptools-41.0.1-py27_0\n",
      "  sqlite             conda-forge/osx-64::sqlite-3.28.0-h9721f7c_0\n",
      "  tk                 conda-forge/osx-64::tk-8.6.9-h2573ce8_1002\n",
      "  wheel              conda-forge/osx-64::wheel-0.33.4-py27_0\n",
      "  zlib               conda-forge/osx-64::zlib-1.2.11-h1de35cc_1004\n",
      "\n",
      "\n",
      "Proceed ([y]/n)? ^C\n",
      "\n",
      "CondaSystemExit: \n",
      "\n"
     ]
    }
   ],
   "source": [
    "!conda create -n py27_numpy python=2.7 numpy"
   ]
  },
  {
   "cell_type": "markdown",
   "metadata": {},
   "source": [
    "Now that we've created a new environment, we still need to switch to it, if we actually want to use it. This is called `activate`. You use the following command: `conda activate <env_name>`. You can also call `conda deactivate` to switch back to a default installation, or be explicit and call `conda activate base`."
   ]
  },
  {
   "cell_type": "code",
   "execution_count": 4,
   "metadata": {},
   "outputs": [
    {
     "name": "stdout",
     "output_type": "stream",
     "text": [
      "\r\n",
      "CommandNotFoundError: Your shell has not been properly configured to use 'conda activate'.\r\n",
      "To initialize your shell, run\r\n",
      "\r\n",
      "    $ conda init <SHELL_NAME>\r\n",
      "\r\n",
      "Currently supported shells are:\r\n",
      "  - bash\r\n",
      "  - fish\r\n",
      "  - tcsh\r\n",
      "  - xonsh\r\n",
      "  - zsh\r\n",
      "  - powershell\r\n",
      "\r\n",
      "See 'conda init --help' for more information and options.\r\n",
      "\r\n",
      "IMPORTANT: You may need to close and restart your shell after running 'conda init'.\r\n",
      "\r\n",
      "\r\n"
     ]
    }
   ],
   "source": [
    "!conda activate base"
   ]
  },
  {
   "cell_type": "markdown",
   "metadata": {},
   "source": [
    "## Exporting environments\n",
    "To make it easier for others to run your code, you can define the packages you've used in a file. This can be done in both anaconda or pip. The resulting file should be distributed with your code.\n",
    "\n",
    "#### Export conda environment\n",
    "This uses the following command at the windows command prompt:\n",
    "`conda env export > environment.yml`\n",
    "\n",
    "You can use this `environment.yml` again to install these packages. This can be done in Anaconda Navigator, or again on the commandline:\n",
    "\n",
    "`conda create <env_name> --file environment.yml`\n",
    "\n",
    "#### Export pip environment\n",
    "For those who use pip, you can execute `pip freeze > requirements.txt`"
   ]
  },
  {
   "cell_type": "code",
   "execution_count": 6,
   "metadata": {},
   "outputs": [
    {
     "name": "stdout",
     "output_type": "stream",
     "text": [
      "Conda method\n",
      "\n"
     ]
    }
   ],
   "source": [
    "print(\"Conda method\")\n",
    "!conda env export > environment.yml\n",
    "print(open(\"environment.yml\").read())"
   ]
  },
  {
   "cell_type": "code",
   "execution_count": 7,
   "metadata": {},
   "outputs": [
    {
     "name": "stdout",
     "output_type": "stream",
     "text": [
      "Pip method\n",
      "affine==2.2.2\n",
      "ansible==2.8.1\n",
      "appdirs==1.4.3\n",
      "appnope==0.1.0\n",
      "asn1crypto==0.24.0\n",
      "attrs==19.1.0\n",
      "Babel==2.7.0\n",
      "backcall==0.1.0\n",
      "bcrypt==3.1.6\n",
      "bleach==3.1.0\n",
      "boto==2.49.0\n",
      "certifi==2019.3.9\n",
      "cffi==1.12.3\n",
      "chardet==3.0.4\n",
      "Click==7.0\n",
      "click-plugins==1.1.1\n",
      "cligj==0.5.0\n",
      "cryptography==2.5\n",
      "cycler==0.10.0\n",
      "debtcollector==1.21.0\n",
      "decorator==4.4.0\n",
      "defusedxml==0.5.0\n",
      "dogpile.cache==0.7.1\n",
      "entrypoints==0.3\n",
      "extras==1.0.0\n",
      "fixtures==3.0.0\n",
      "GDAL==2.4.0\n",
      "geographiclib==1.49\n",
      "httplib2==0.13.0\n",
      "idna==2.8\n",
      "ipykernel==5.1.1\n",
      "ipython==7.5.0\n",
      "ipython-genutils==0.2.0\n",
      "iso8601==0.1.12\n",
      "jedi==0.13.3\n",
      "Jinja2==2.10.1\n",
      "jmespath==0.9.4\n",
      "jsonpatch==1.23\n",
      "jsonpointer==2.0\n",
      "jsonschema==3.0.1\n",
      "jupyter-client==5.2.4\n",
      "jupyter-core==4.4.0\n",
      "keystoneauth1==3.14.0\n",
      "kiwisolver==1.1.0\n",
      "kml2geojson==4.0.2\n",
      "lxml==4.3.3\n",
      "MarkupSafe==1.1.1\n",
      "matplotlib==3.1.0\n",
      "mistune==0.8.4\n",
      "monotonic==1.5\n",
      "munch==2.3.2\n",
      "nb-conda-kernels==2.2.2\n",
      "nbconvert==5.5.0\n",
      "nbformat==4.4.0\n",
      "netaddr==0.7.19\n",
      "netifaces==0.10.7\n",
      "notebook==5.7.8\n",
      "ntlm-auth==1.3.0\n",
      "numpy==1.16.4\n",
      "os-client-config==1.29.0\n",
      "os-service-types==1.6.0\n",
      "oslo.i18n==3.23.1\n",
      "oslo.serialization==2.29.1\n",
      "oslo.utils==3.41.0\n",
      "pandas==0.24.2\n",
      "pandocfilters==1.4.2\n",
      "paramiko==2.4.2\n",
      "parso==0.4.0\n",
      "patsy==0.5.1\n",
      "pbr==5.2.1\n",
      "pexpect==4.7.0\n",
      "pickleshare==0.7.5\n",
      "pip-tools==3.8.0\n",
      "prettytable==0.7.2\n",
      "prometheus-client==0.7.0\n",
      "prompt-toolkit==2.0.9\n",
      "ptyprocess==0.6.0\n",
      "pyasn1==0.4.5\n",
      "pycparser==2.19\n",
      "pycrypto==2.6.1\n",
      "Pygments==2.4.2\n",
      "PyNaCl==1.3.0\n",
      "pyOpenSSL==19.0.0\n",
      "pyparsing==2.4.0\n",
      "pyproj==1.9.6\n",
      "pyrsistent==0.15.2\n",
      "PySocks==1.7.0\n",
      "python-dateutil==2.8.0\n",
      "python-ironicclient==2.7.0\n",
      "pytz==2019.1\n",
      "pywinrm==0.3.0\n",
      "PyYAML==5.1.1\n",
      "pyzmq==18.0.1\n",
      "rasterio==1.0.22\n",
      "requests==2.22.0\n",
      "requests-ntlm==1.1.0\n",
      "requestsexceptions==1.4.0\n",
      "Rtree==0.8.3\n",
      "scipy==1.3.0\n",
      "seaborn==0.9.0\n",
      "Send2Trash==1.5.0\n",
      "shade==1.31.0\n",
      "simplejson==3.16.0\n",
      "six==1.12.0\n",
      "snuggs==1.4.6\n",
      "statsmodels==0.9.0\n",
      "stevedore==1.30.1\n",
      "terminado==0.8.2\n",
      "testpath==0.4.2\n",
      "testtools==2.3.0\n",
      "tornado==6.0.2\n",
      "tqdm==4.32.1\n",
      "traitlets==4.3.2\n",
      "urllib3==1.24.3\n",
      "wcwidth==0.1.7\n",
      "webencodings==0.5.1\n",
      "wrapt==1.11.1\n",
      "xmltodict==0.12.0\n",
      "\n"
     ]
    }
   ],
   "source": [
    "print(\"Pip method\")\n",
    "!pip freeze > requirements.txt\n",
    "print(open(\"requirements.txt\").read())\n"
   ]
  },
  {
   "cell_type": "markdown",
   "metadata": {},
   "source": [
    "## Readability\n",
    "Apart from being able to run code, if you want inspect or change it, you need to understand the code. Therefore there are things as __style guides__, common agreements about how to write code, just like there are agreements about the styling of papers and reports. Below are two versions of the same function with very different writing styles."
   ]
  },
  {
   "cell_type": "code",
   "execution_count": null,
   "metadata": {},
   "outputs": [],
   "source": [
    "def SumD(a):\n",
    "    T = 0\n",
    "    for (k,V) in a.items():\n",
    "        if isinstance(V,(int,float)): T+=V\n",
    "    return T\n",
    "print(SumD({'a':1, 'b':None}))"
   ]
  },
  {
   "cell_type": "code",
   "execution_count": null,
   "metadata": {},
   "outputs": [],
   "source": [
    "def sum_values_in_dict(dic):\n",
    "    \"\"\"Sum all values in given dictionairy `dic`.\"\"\"\n",
    "    total = 0\n",
    "    for (key, value) in dic.items():\n",
    "        if isinstance(value, (int, float)):  # only add numbers\n",
    "            total += value\n",
    "        else:\n",
    "            print(\"Can't add non number {} of {}\".format(value, type(value)))\n",
    "    return total\n",
    "\n",
    "print(sum_values_in_dict({'a':1, 'b':None}))"
   ]
  },
  {
   "cell_type": "markdown",
   "metadata": {},
   "source": [
    "I hope that you will agree that the second version `sum_values_in_dict` is better to read and understand, while having the exact same functionality. The second version uses some simple rules:\n",
    "- Always create a docstring to document your function\n",
    "- Written out variable names are better than single characters (`key` vs `k` and `sum_values_in_dict` vs `SumD`)\n",
    "- Use whitespace between commas `(int, float)` and use newlines after `:`\n",
    "- Add comments to clarify your intent\n",
    "- Finish `if` statements with an `else` where helpful\n",
    "- Use lowercase for functions and variable names\n",
    "- Use four spaces as indentation (Jupyter does this for you already)"
   ]
  },
  {
   "cell_type": "markdown",
   "metadata": {},
   "source": [
    "### README.md\n",
    "One last very helpful thing to do is create a `README.md` file. This file is a text document about the code that should be put next to the code itself. Anyone finding your code will look for an explanation about it first, before trying to understand the code itself. A README often contains:\n",
    "- A short explanation about the code (what, why)\n",
    "- Prerequisites for installation\n",
    "- Examples for running the code\n",
    "\n",
    "It can contain much more, such as references to documentation, licenses, other files, acknowledgements etc. A good `README` is essential for any project. On Github, Gitlab and others, this file is automatically parsed and put on display. "
   ]
  },
  {
   "cell_type": "markdown",
   "metadata": {},
   "source": [
    "## Further reading\n",
    "Environments:\n",
    "- https://docs.conda.io/projects/conda/en/latest/user-guide/tasks/manage-environments.html\n",
    "\n",
    "Style guide:\n",
    "- https://pep8.org/#introduction\n",
    "\n",
    "Readme:\n",
    "- https://github.com/mapbox/rasterio\n"
   ]
  },
  {
   "cell_type": "code",
   "execution_count": null,
   "metadata": {},
   "outputs": [],
   "source": []
  }
 ],
 "metadata": {
  "kernelspec": {
   "display_name": "Python [conda env:three] *",
   "language": "python",
   "name": "conda-env-three-py"
  },
  "language_info": {
   "codemirror_mode": {
    "name": "ipython",
    "version": 3
   },
   "file_extension": ".py",
   "mimetype": "text/x-python",
   "name": "python",
   "nbconvert_exporter": "python",
   "pygments_lexer": "ipython3",
   "version": "3.7.0"
  }
 },
 "nbformat": 4,
 "nbformat_minor": 2
}
