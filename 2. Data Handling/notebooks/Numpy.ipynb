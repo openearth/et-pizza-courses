{
 "cells": [
  {
   "cell_type": "markdown",
   "metadata": {},
   "source": [
    "## Python Pizza Course 2019\n",
    "# Numpy\n",
    "\n",
    "\n",
    "## Introduction\n",
    "Python was intented as a generic programming language, so there's no inbuilt supports for multidimensional arrays. However, as already introduced by Part #2, the library `numpy` has been built for doing just that.\n",
    "\n",
    "Many of the operations in later modules will involve numpy arrays. Rasters, NetCDFs and other formats are often read in as such arrays. Therefore, we'll introduce the most common `numpy` operations here."
   ]
  },
  {
   "cell_type": "markdown",
   "metadata": {},
   "source": [
    "## Arrays\n",
    "Numpy arrays are easier to use and faster to calculate on than the equivalent in Python. You can start with a list of numbers in Python and create an array from it."
   ]
  },
  {
   "cell_type": "code",
   "execution_count": 43,
   "metadata": {},
   "outputs": [
    {
     "name": "stdout",
     "output_type": "stream",
     "text": [
      "[1 2 3]\n"
     ]
    },
    {
     "data": {
      "text/plain": [
       "1"
      ]
     },
     "execution_count": 43,
     "metadata": {},
     "output_type": "execute_result"
    }
   ],
   "source": [
    "import numpy as np # less typing\n",
    "p_array = [1,2,3]\n",
    "n_array = np.array([1,2,3])\n",
    "print(n_array)"
   ]
  },
  {
   "cell_type": "markdown",
   "metadata": {},
   "source": [
    "The same goes for multidimensional arrays, which would be a list of lists in Python."
   ]
  },
  {
   "cell_type": "code",
   "execution_count": 8,
   "metadata": {},
   "outputs": [
    {
     "name": "stdout",
     "output_type": "stream",
     "text": [
      "[[1. 2. 3.]\n",
      " [4. 5. 6.]]\n"
     ]
    }
   ],
   "source": [
    "p_array = [[1,2,3], [4,5,6]]\n",
    "n_array = np.array(p_array, dtype=np.float64)\n",
    "print(n_array)"
   ]
  },
  {
   "cell_type": "markdown",
   "metadata": {},
   "source": [
    "If you want to know about the `numpy` array, you can use the following functions to check its type, shape, size and dimensions."
   ]
  },
  {
   "cell_type": "code",
   "execution_count": 9,
   "metadata": {},
   "outputs": [
    {
     "name": "stdout",
     "output_type": "stream",
     "text": [
      "float64\n",
      "(2, 3)\n",
      "6\n",
      "2\n"
     ]
    }
   ],
   "source": [
    "print(n_array.dtype)\n",
    "print(np.shape(n_array))  # rows, columns\n",
    "print(np.size(n_array))\n",
    "print(np.ndim(n_array))"
   ]
  },
  {
   "cell_type": "markdown",
   "metadata": {},
   "source": [
    "You can also resize the array, either to flatten it to a vector (1 dimensional) or to actually resize it back from a vector to a matrix (2 dimensional)."
   ]
  },
  {
   "cell_type": "code",
   "execution_count": 10,
   "metadata": {},
   "outputs": [
    {
     "name": "stdout",
     "output_type": "stream",
     "text": [
      "[1. 2. 3. 4. 5. 6.]\n",
      "(6,)\n"
     ]
    }
   ],
   "source": [
    "vector = n_array.flatten()\n",
    "print(vector)\n",
    "print(vector.shape)  # can also be found as attribute"
   ]
  },
  {
   "cell_type": "code",
   "execution_count": 19,
   "metadata": {},
   "outputs": [
    {
     "name": "stdout",
     "output_type": "stream",
     "text": [
      "[[1. 2. 3.]\n",
      " [4. 5. 6.]]\n",
      "(2, 3)\n"
     ]
    },
    {
     "data": {
      "text/plain": [
       "(0,)"
      ]
     },
     "execution_count": 19,
     "metadata": {},
     "output_type": "execute_result"
    }
   ],
   "source": [
    "matrix = np.reshape(vector, (2,3))  # determine shape in rows, columns\n",
    "print(matrix)\n",
    "print(np.shape(matrix))\n",
    "matrix"
   ]
  },
  {
   "cell_type": "markdown",
   "metadata": {},
   "source": [
    "We can also create arrays via other methods. We can use a range of numbers, or an array with the same number everywhere."
   ]
  },
  {
   "cell_type": "code",
   "execution_count": 20,
   "metadata": {},
   "outputs": [
    {
     "data": {
      "text/plain": [
       "array([ 0,  1,  2,  3,  4,  5,  6,  7,  8,  9, 10, 11, 12, 13, 14, 15, 16,\n",
       "       17, 18, 19, 20, 21, 22, 23, 24, 25, 26, 27, 28, 29, 30, 31, 32, 33,\n",
       "       34, 35, 36, 37, 38, 39, 40, 41, 42, 43, 44, 45, 46, 47, 48, 49, 50,\n",
       "       51, 52, 53, 54, 55, 56, 57, 58, 59, 60, 61, 62, 63, 64, 65, 66, 67,\n",
       "       68, 69, 70, 71, 72, 73, 74, 75, 76, 77, 78, 79, 80, 81, 82, 83, 84,\n",
       "       85, 86, 87, 88, 89, 90, 91, 92, 93, 94, 95, 96, 97, 98, 99])"
      ]
     },
     "execution_count": 20,
     "metadata": {},
     "output_type": "execute_result"
    }
   ],
   "source": [
    "np.arange(0,100)"
   ]
  },
  {
   "cell_type": "code",
   "execution_count": 21,
   "metadata": {},
   "outputs": [
    {
     "data": {
      "text/plain": [
       "array([[ 1.28822975e-231,  1.28822975e-231,  2.21528004e-314,\n",
       "         2.21530211e-314,  2.21530213e-314,  8.75332703e-251,\n",
       "         0.00000000e+000,  3.95252517e-323,  3.66792210e-270,\n",
       "         2.04199002e-212,  2.16916452e-314,  2.16724161e-314,\n",
       "         3.46643323e+282,  2.16916462e-314,  2.16724161e-314,\n",
       "         1.90939388e+193,  2.16916465e-314,  2.16724114e-314,\n",
       "        -5.89441892e-215,  2.16916468e-314,  2.16724161e-314],\n",
       "       [-7.44244941e-181,  2.16916649e-314,  2.16729105e-314,\n",
       "         3.75314712e-265,  2.16916471e-314,  2.19200087e-314,\n",
       "         2.40569274e+237,  2.16783151e-314,  2.19200447e-314,\n",
       "         3.19858447e-279,  2.16793256e-314,  2.19330766e-314,\n",
       "         4.31912939e+296,  2.19200968e-314,  2.16724114e-314,\n",
       "         1.41840350e-275,  2.19200629e-314,  2.16724114e-314,\n",
       "        -3.63623861e+152,  2.19200971e-314,  2.16724114e-314],\n",
       "       [-3.73326441e-241,  2.19200632e-314,  2.16724161e-314,\n",
       "        -2.95155520e+018,  2.19200636e-314,  2.16724161e-314,\n",
       "         1.85173643e+092,  2.16916474e-314,  2.16724161e-314,\n",
       "        -4.96601043e-179,  2.19200974e-314,  2.16729105e-314,\n",
       "        -1.89359820e-166,  2.19200977e-314,  2.16724161e-314,\n",
       "        -4.65983691e+259,  0.00000000e+000,  0.00000000e+000,\n",
       "         0.00000000e+000,  4.94065646e-324,  2.17647493e-314],\n",
       "       [ 0.00000000e+000,  0.00000000e+000,  0.00000000e+000,\n",
       "         0.00000000e+000,  0.00000000e+000,  0.00000000e+000,\n",
       "         0.00000000e+000,  0.00000000e+000,  0.00000000e+000,\n",
       "         1.28822975e-231,  1.28822975e-231,  2.16852462e-314,\n",
       "         2.21323061e-314,  2.16729105e-314,  2.16744153e-314,\n",
       "         2.21563314e-314,  2.16724161e-314,  2.16724161e-314,\n",
       "        -2.08009076e-058,  1.28822975e-231,  1.28822975e-231],\n",
       "       [ 2.16599905e-314,  1.48219694e-323,  8.89318163e-323,\n",
       "         8.75333369e-251,  6.57901864e-246,              nan,\n",
       "         3.66792221e-270,  2.04199002e-212,  2.16916452e-314,\n",
       "         2.16724161e-314,  3.46643323e+282,  2.16916462e-314,\n",
       "         2.16724161e-314,  1.90939388e+193,  2.16916465e-314,\n",
       "         2.16724114e-314, -5.89441892e-215,  2.16916468e-314,\n",
       "         2.16724161e-314, -7.44244941e-181,  2.16916649e-314]])"
      ]
     },
     "execution_count": 21,
     "metadata": {},
     "output_type": "execute_result"
    }
   ],
   "source": [
    "np.empty((5,21)) # filled with random memory values"
   ]
  },
  {
   "cell_type": "markdown",
   "metadata": {},
   "source": [
    "For some numbers, a function already exists, such as ones (`np.ones`) and zeros (`np.zeros`):"
   ]
  },
  {
   "cell_type": "code",
   "execution_count": 25,
   "metadata": {},
   "outputs": [
    {
     "data": {
      "text/plain": [
       "array([[0., 0., 0., 0., 0., 0., 0., 0., 0., 0., 0., 0., 0., 0., 0., 0.,\n",
       "        0., 0., 0., 0.],\n",
       "       [0., 0., 0., 0., 0., 0., 0., 0., 0., 0., 0., 0., 0., 0., 0., 0.,\n",
       "        0., 0., 0., 0.],\n",
       "       [0., 0., 0., 0., 0., 0., 0., 0., 0., 0., 0., 0., 0., 0., 0., 0.,\n",
       "        0., 0., 0., 0.],\n",
       "       [0., 0., 0., 0., 0., 0., 0., 0., 0., 0., 0., 0., 0., 0., 0., 0.,\n",
       "        0., 0., 0., 0.],\n",
       "       [0., 0., 0., 0., 0., 0., 0., 0., 0., 0., 0., 0., 0., 0., 0., 0.,\n",
       "        0., 0., 0., 0.]])"
      ]
     },
     "execution_count": 25,
     "metadata": {},
     "output_type": "execute_result"
    }
   ],
   "source": [
    "np.zeros((5,20))"
   ]
  },
  {
   "cell_type": "markdown",
   "metadata": {},
   "source": [
    "If you're unsure about the arguments, you can always use the `help` function, or go online and use the documentation of `numpy` @ https://docs.scipy.org/doc/numpy/reference/index.html"
   ]
  },
  {
   "cell_type": "code",
   "execution_count": 26,
   "metadata": {},
   "outputs": [
    {
     "name": "stdout",
     "output_type": "stream",
     "text": [
      "Help on built-in function arange in module numpy:\n",
      "\n",
      "arange(...)\n",
      "    arange([start,] stop[, step,], dtype=None)\n",
      "    \n",
      "    Return evenly spaced values within a given interval.\n",
      "    \n",
      "    Values are generated within the half-open interval ``[start, stop)``\n",
      "    (in other words, the interval including `start` but excluding `stop`).\n",
      "    For integer arguments the function is equivalent to the Python built-in\n",
      "    `range` function, but returns an ndarray rather than a list.\n",
      "    \n",
      "    When using a non-integer step, such as 0.1, the results will often not\n",
      "    be consistent.  It is better to use `numpy.linspace` for these cases.\n",
      "    \n",
      "    Parameters\n",
      "    ----------\n",
      "    start : number, optional\n",
      "        Start of interval.  The interval includes this value.  The default\n",
      "        start value is 0.\n",
      "    stop : number\n",
      "        End of interval.  The interval does not include this value, except\n",
      "        in some cases where `step` is not an integer and floating point\n",
      "        round-off affects the length of `out`.\n",
      "    step : number, optional\n",
      "        Spacing between values.  For any output `out`, this is the distance\n",
      "        between two adjacent values, ``out[i+1] - out[i]``.  The default\n",
      "        step size is 1.  If `step` is specified as a position argument,\n",
      "        `start` must also be given.\n",
      "    dtype : dtype\n",
      "        The type of the output array.  If `dtype` is not given, infer the data\n",
      "        type from the other input arguments.\n",
      "    \n",
      "    Returns\n",
      "    -------\n",
      "    arange : ndarray\n",
      "        Array of evenly spaced values.\n",
      "    \n",
      "        For floating point arguments, the length of the result is\n",
      "        ``ceil((stop - start)/step)``.  Because of floating point overflow,\n",
      "        this rule may result in the last element of `out` being greater\n",
      "        than `stop`.\n",
      "    \n",
      "    See Also\n",
      "    --------\n",
      "    linspace : Evenly spaced numbers with careful handling of endpoints.\n",
      "    ogrid: Arrays of evenly spaced numbers in N-dimensions.\n",
      "    mgrid: Grid-shaped arrays of evenly spaced numbers in N-dimensions.\n",
      "    \n",
      "    Examples\n",
      "    --------\n",
      "    >>> np.arange(3)\n",
      "    array([0, 1, 2])\n",
      "    >>> np.arange(3.0)\n",
      "    array([ 0.,  1.,  2.])\n",
      "    >>> np.arange(3,7)\n",
      "    array([3, 4, 5, 6])\n",
      "    >>> np.arange(3,7,2)\n",
      "    array([3, 5])\n",
      "\n",
      "Object `np.arange # Jupyter method` not found.\n"
     ]
    }
   ],
   "source": [
    "help(np.arange) # Python method\n",
    "?np.arange # Jupyter method"
   ]
  },
  {
   "cell_type": "markdown",
   "metadata": {},
   "source": [
    "## Indexing\n",
    "Now that we know how to create an array and determine its basic attributes, we can try to access some of the data in an array. Let's first try to access one cell in an vector. This works just like indexing a list."
   ]
  },
  {
   "cell_type": "code",
   "execution_count": 27,
   "metadata": {},
   "outputs": [
    {
     "name": "stdout",
     "output_type": "stream",
     "text": [
      "1\n",
      "1\n"
     ]
    }
   ],
   "source": [
    "vector = [1,2,3]\n",
    "print(vector[0])\n",
    "print(np.array(vector)[0])"
   ]
  },
  {
   "cell_type": "markdown",
   "metadata": {},
   "source": [
    "You can also use the other notations from lists, such as `-1` for the last element and `:` for all elements."
   ]
  },
  {
   "cell_type": "code",
   "execution_count": 28,
   "metadata": {},
   "outputs": [
    {
     "name": "stdout",
     "output_type": "stream",
     "text": [
      "3\n",
      "3\n",
      "[1, 2, 3]\n",
      "[1 2 3]\n"
     ]
    }
   ],
   "source": [
    "print(vector[-1])\n",
    "print(np.array(vector)[-1])\n",
    "\n",
    "print(vector[:])\n",
    "print(np.array(vector)[:])\n"
   ]
  },
  {
   "cell_type": "markdown",
   "metadata": {},
   "source": [
    "The same works for multiple dimensions, such as matrices, but now you need to give the location in two dimensions. It is better to use `[row, column]` than `[row][column]` as the latter creates a temporary object, which is wasteful and thus slower."
   ]
  },
  {
   "cell_type": "code",
   "execution_count": 29,
   "metadata": {},
   "outputs": [
    {
     "name": "stdout",
     "output_type": "stream",
     "text": [
      "1\n",
      "1\n",
      "1\n",
      "[1 2 3]\n",
      "[3 6]\n"
     ]
    }
   ],
   "source": [
    "vector = [[1,2,3],[4,5,6]]\n",
    "print(vector[0][0])\n",
    "print(np.array(vector)[0][0])\n",
    "\n",
    "print(np.array(vector)[0, 0])  # better\n",
    "\n",
    "print(np.array(vector)[0, :])  # first row, all columns\n",
    "print(np.array(vector)[:, -1])  # all rows, last column\n"
   ]
  },
  {
   "cell_type": "markdown",
   "metadata": {},
   "source": [
    "#### Indexing with arrays\n",
    "Getting single elements from an array is useful, but getting multiple elements at the same time is even more useful, as we'll see soon. You can achieve this by indexing arrays with arrays."
   ]
  },
  {
   "cell_type": "code",
   "execution_count": 30,
   "metadata": {},
   "outputs": [
    {
     "data": {
      "text/plain": [
       "array([ 0,  1, 50, 99])"
      ]
     },
     "execution_count": 30,
     "metadata": {},
     "output_type": "execute_result"
    }
   ],
   "source": [
    "vector = np.arange(0,100)\n",
    "index = np.array([0,1,50,99])  # first, second, 51th and last elements\n",
    "vector[index]"
   ]
  },
  {
   "cell_type": "markdown",
   "metadata": {},
   "source": [
    "The same works in multiple dimensions, although you now need two indexes, one for each dimensions. These indices need to be of the same length as they describe the same elements."
   ]
  },
  {
   "cell_type": "code",
   "execution_count": 32,
   "metadata": {},
   "outputs": [
    {
     "data": {
      "text/plain": [
       "array([[ 0,  1,  2,  3,  4,  5,  6,  7,  8,  9, 10, 11, 12, 13, 14, 15,\n",
       "        16, 17, 18, 19],\n",
       "       [20, 21, 22, 23, 24, 25, 26, 27, 28, 29, 30, 31, 32, 33, 34, 35,\n",
       "        36, 37, 38, 39],\n",
       "       [40, 41, 42, 43, 44, 45, 46, 47, 48, 49, 50, 51, 52, 53, 54, 55,\n",
       "        56, 57, 58, 59],\n",
       "       [60, 61, 62, 63, 64, 65, 66, 67, 68, 69, 70, 71, 72, 73, 74, 75,\n",
       "        76, 77, 78, 79],\n",
       "       [80, 81, 82, 83, 84, 85, 86, 87, 88, 89, 90, 91, 92, 93, 94, 95,\n",
       "        96, 97, 98, 99]])"
      ]
     },
     "execution_count": 32,
     "metadata": {},
     "output_type": "execute_result"
    }
   ],
   "source": [
    "vector = np.arange(0,100).reshape((5,20))\n",
    "index_rows = np.array([0,1,4])  # first, second, and last rows\n",
    "index_columns = np.array([0,1,19])  # first, second, and last columns\n",
    "\n",
    "vector[index_rows, index_columns]"
   ]
  },
  {
   "cell_type": "markdown",
   "metadata": {},
   "source": [
    "#### Logical indexing\n",
    "Two dimensional indexing is only useful if you already know the exact position of the elements you're interested in. Often you're interested in these values because they have something in common. Let's say you want to get all values greater than 5 in the array. With logical (using logic) indexing, this can be quickly achieved.\n",
    "\n",
    "Remember logical operators from the previous courses? These operations return `True` or `False`, also commonly represented by `1` and `0` (useful for calculations)."
   ]
  },
  {
   "cell_type": "code",
   "execution_count": 33,
   "metadata": {},
   "outputs": [
    {
     "data": {
      "text/plain": [
       "True"
      ]
     },
     "execution_count": 33,
     "metadata": {},
     "output_type": "execute_result"
    }
   ],
   "source": [
    "25 > 5"
   ]
  },
  {
   "cell_type": "code",
   "execution_count": 35,
   "metadata": {},
   "outputs": [
    {
     "data": {
      "text/plain": [
       "array([ True,  True,  True,  True,  True, False, False, False, False,\n",
       "       False, False, False, False, False, False, False, False, False,\n",
       "       False, False, False, False, False, False, False, False, False,\n",
       "       False, False, False, False, False, False, False, False, False,\n",
       "       False, False, False, False, False, False, False, False, False,\n",
       "       False, False, False, False, False])"
      ]
     },
     "execution_count": 35,
     "metadata": {},
     "output_type": "execute_result"
    }
   ],
   "source": [
    "np.arange(0,50) < 5"
   ]
  },
  {
   "cell_type": "code",
   "execution_count": 36,
   "metadata": {},
   "outputs": [
    {
     "data": {
      "text/plain": [
       "44"
      ]
     },
     "execution_count": 36,
     "metadata": {},
     "output_type": "execute_result"
    }
   ],
   "source": [
    "sum(np.arange(0,50) > 5)"
   ]
  },
  {
   "cell_type": "markdown",
   "metadata": {},
   "source": [
    "This `Boolean` array can be used for indexing as well, which can create some really powerful indexing methods."
   ]
  },
  {
   "cell_type": "code",
   "execution_count": 38,
   "metadata": {},
   "outputs": [
    {
     "data": {
      "text/plain": [
       "array([ 0,  1,  2,  3,  4,  5,  6,  7,  8,  9, 10, 11, 12, 13, 14, 15, 16,\n",
       "       17, 18, 19, 20, 21, 22, 23, 24, 25, 26, 27, 28, 29, 30, 31, 32, 33,\n",
       "       34, 35, 36, 37, 38, 39, 40, 41, 42, 43, 44, 45, 46, 47, 48, 49])"
      ]
     },
     "execution_count": 38,
     "metadata": {},
     "output_type": "execute_result"
    }
   ],
   "source": [
    "vector = np.arange(0,50)\n",
    "vector[vector > 5]"
   ]
  },
  {
   "cell_type": "code",
   "execution_count": 45,
   "metadata": {},
   "outputs": [
    {
     "data": {
      "text/plain": [
       "array([[ 0,  1,  2,  3,  4],\n",
       "       [ 5,  6,  7,  8,  9],\n",
       "       [10, 11, 12, 13, 14],\n",
       "       [15, 16, 17, 18, 19],\n",
       "       [20, 21, 22, 23, 24],\n",
       "       [25, 26, 27, 28, 29],\n",
       "       [30, 31, 32, 33, 34],\n",
       "       [35, 36, 37, 38, 39],\n",
       "       [40, 41, 42, 43, 44],\n",
       "       [45, 46, 47, 48, 49]])"
      ]
     },
     "execution_count": 45,
     "metadata": {},
     "output_type": "execute_result"
    }
   ],
   "source": [
    "matrix = vector.reshape((10,5))\n",
    "matrix[matrix>5]  # also works in multiple dimensions\n",
    "matrix"
   ]
  },
  {
   "cell_type": "markdown",
   "metadata": {},
   "source": [
    "You can also directly replace values with indexing."
   ]
  },
  {
   "cell_type": "code",
   "execution_count": 46,
   "metadata": {},
   "outputs": [
    {
     "data": {
      "text/plain": [
       "array([[0, 1, 2, 3, 4],\n",
       "       [5, 0, 0, 0, 0],\n",
       "       [0, 0, 0, 0, 0],\n",
       "       [0, 0, 0, 0, 0],\n",
       "       [0, 0, 0, 0, 0],\n",
       "       [0, 0, 0, 0, 0],\n",
       "       [0, 0, 0, 0, 0],\n",
       "       [0, 0, 0, 0, 0],\n",
       "       [0, 0, 0, 0, 0],\n",
       "       [0, 0, 0, 0, 0]])"
      ]
     },
     "execution_count": 46,
     "metadata": {},
     "output_type": "execute_result"
    }
   ],
   "source": [
    "matrix[matrix > 5] = 0\n",
    "matrix"
   ]
  },
  {
   "cell_type": "markdown",
   "metadata": {},
   "source": [
    "## Copies and views\n",
    "When editing parts of an array using above indexes, take care of copies vs views. Editing a view on an array, will edit the original array, but editing the copy will not."
   ]
  },
  {
   "cell_type": "code",
   "execution_count": 48,
   "metadata": {},
   "outputs": [
    {
     "data": {
      "text/plain": [
       "array([-1, -1, -1, -1, -1, -1, -1, -1, -1, -1, 10, 11, 12, 13, 14, 15, 16,\n",
       "       17, 18, 19, 20, 21, 22, 23, 24])"
      ]
     },
     "execution_count": 48,
     "metadata": {},
     "output_type": "execute_result"
    }
   ],
   "source": [
    "a = np.arange(25)\n",
    "\n",
    "# Editing the view (using a slice) modifies the original array\n",
    "randomname = a[0:10]\n",
    "randomname[:] = -1\n",
    "a"
   ]
  },
  {
   "cell_type": "code",
   "execution_count": 49,
   "metadata": {},
   "outputs": [
    {
     "data": {
      "text/plain": [
       "array([-5, -5, -5, -5, -5, -1, -1, -1, -1, -1])"
      ]
     },
     "execution_count": 49,
     "metadata": {},
     "output_type": "execute_result"
    }
   ],
   "source": [
    "# Editing the original array will show up in the view\n",
    "a[0:5] = -5\n",
    "randomname"
   ]
  },
  {
   "cell_type": "markdown",
   "metadata": {},
   "source": [
    "Only slices (`:`) and explicitely calling `.view()` on an array will create views. Using other indexing methods won't."
   ]
  },
  {
   "cell_type": "code",
   "execution_count": 50,
   "metadata": {},
   "outputs": [
    {
     "data": {
      "text/plain": [
       "array([-5, -5, -5, -5, -5, -1, -1, -1, -1, -1, 10, 11, 12, 13, 14, 15, 16,\n",
       "       17, 18, 19, 20, 21, 22, 23, 24])"
      ]
     },
     "execution_count": 50,
     "metadata": {},
     "output_type": "execute_result"
    }
   ],
   "source": [
    "# Indexing with an array won't create a view, but a copy, which won't update the original array.\n",
    "copy = a[[15,-2,-1]]\n",
    "copy[:] = 9999\n",
    "a"
   ]
  },
  {
   "cell_type": "markdown",
   "metadata": {},
   "source": [
    "Note that the above only applies when creating variables of which reference a part of an array. Direct indexing will still work for editing. When you want to create a copy, you can also always "
   ]
  },
  {
   "cell_type": "markdown",
   "metadata": {},
   "source": [
    "## Broadcasting\n",
    "You know what happens when you execute `2*2` and probably also for `[1,2] + 1`. But what happens when you do `[1,2]*[1,2]`? Or `[1,2]*[1,2,3]`?\n",
    "These behaviours on arrays are known as broadcasting."
   ]
  },
  {
   "cell_type": "code",
   "execution_count": 51,
   "metadata": {},
   "outputs": [
    {
     "name": "stdout",
     "output_type": "stream",
     "text": [
      "Addition\n",
      "[2 4 6]\n",
      "Multiplication\n",
      "[1 4 9]\n"
     ]
    }
   ],
   "source": [
    "# Same sized arrays\n",
    "a = np.array([1,2,3])\n",
    "b = np.array([1,2,3])\n",
    "\n",
    "print(\"Addition\")\n",
    "print(a + b)\n",
    "print(\"Multiplication\")\n",
    "print(a * b)"
   ]
  },
  {
   "cell_type": "markdown",
   "metadata": {},
   "source": [
    "As you can see, broadcasting works on an element by element basis. But what happens on different sizes?"
   ]
  },
  {
   "cell_type": "code",
   "execution_count": 52,
   "metadata": {},
   "outputs": [
    {
     "data": {
      "text/plain": [
       "array([[1, 2, 3],\n",
       "       [2, 4, 6],\n",
       "       [3, 6, 9]])"
      ]
     },
     "execution_count": 52,
     "metadata": {},
     "output_type": "execute_result"
    }
   ],
   "source": [
    "a = np.array([1,2,3])\n",
    "b = np.array([1,2,3]).reshape(3,1)  # column vector\n",
    "\n",
    "a * b"
   ]
  },
  {
   "cell_type": "markdown",
   "metadata": {},
   "source": [
    "Numpy can broadcast your arrays when the dimensions (starting at the trailing dimensions, working forward) either match in size or one of them is one. The number of dimensions don't have to match, as the smaller array will be repeated to match.\n",
    "\n",
    "Some examples of sizes when you broadcast C = A * B\n",
    "\n",
    "| _ | d  | d  |\n",
    "|---|---|---|\n",
    "| A | 3 | 1 |\n",
    "| B | 1 | 1 |\n",
    "| C | 3 | 1 |\n",
    "\n",
    "\n",
    "| _ | d | d | d |   |\n",
    "|---|---|---|---|---|\n",
    "| A | 1 | 3 | 1 |   |\n",
    "| B | _ | 1 | 1 |   |\n",
    "| C | 1 | 3 | 1 |   |\n"
   ]
  },
  {
   "cell_type": "code",
   "execution_count": 54,
   "metadata": {},
   "outputs": [
    {
     "name": "stdout",
     "output_type": "stream",
     "text": [
      "Shape of a\n",
      "(5, 1, 1)\n",
      "Shape of b\n",
      "(2, 2, 1)\n"
     ]
    },
    {
     "ename": "ValueError",
     "evalue": "operands could not be broadcast together with shapes (5,1,1) (2,2,1) ",
     "output_type": "error",
     "traceback": [
      "\u001b[0;31m---------------------------------------------------------------------------\u001b[0m",
      "\u001b[0;31mValueError\u001b[0m                                Traceback (most recent call last)",
      "\u001b[0;32m<ipython-input-54-c4b03e3fa98d>\u001b[0m in \u001b[0;36m<module>\u001b[0;34m\u001b[0m\n\u001b[1;32m      7\u001b[0m \u001b[0mprint\u001b[0m\u001b[0;34m(\u001b[0m\u001b[0mb\u001b[0m\u001b[0;34m.\u001b[0m\u001b[0mshape\u001b[0m\u001b[0;34m)\u001b[0m\u001b[0;34m\u001b[0m\u001b[0m\n\u001b[1;32m      8\u001b[0m \u001b[0;34m\u001b[0m\u001b[0m\n\u001b[0;32m----> 9\u001b[0;31m \u001b[0mc\u001b[0m \u001b[0;34m=\u001b[0m \u001b[0ma\u001b[0m\u001b[0;34m*\u001b[0m\u001b[0mb\u001b[0m\u001b[0;34m\u001b[0m\u001b[0m\n\u001b[0m\u001b[1;32m     10\u001b[0m \u001b[0mprint\u001b[0m\u001b[0;34m(\u001b[0m\u001b[0;34m\"Shape of c\"\u001b[0m\u001b[0;34m)\u001b[0m\u001b[0;34m\u001b[0m\u001b[0m\n\u001b[1;32m     11\u001b[0m \u001b[0mprint\u001b[0m\u001b[0;34m(\u001b[0m\u001b[0mc\u001b[0m\u001b[0;34m.\u001b[0m\u001b[0mshape\u001b[0m\u001b[0;34m)\u001b[0m\u001b[0;34m\u001b[0m\u001b[0m\n",
      "\u001b[0;31mValueError\u001b[0m: operands could not be broadcast together with shapes (5,1,1) (2,2,1) "
     ]
    }
   ],
   "source": [
    "a = np.random.rand(5,1,1)\n",
    "b = np.random.rand(2,2,1)  # can be expanded to (1,2,1)\n",
    "\n",
    "print(\"Shape of a\")\n",
    "print(a.shape)\n",
    "print(\"Shape of b\")\n",
    "print(b.shape)\n",
    "\n",
    "c = a*b\n",
    "print(\"Shape of c\")\n",
    "print(c.shape)"
   ]
  },
  {
   "cell_type": "markdown",
   "metadata": {},
   "source": [
    "For more documentation on broadcasting, see: https://docs.scipy.org/doc/numpy/user/basics.broadcasting.html"
   ]
  },
  {
   "cell_type": "markdown",
   "metadata": {},
   "source": [
    "## Common methods\n",
    "Numpy has way more functionality than the above, which is why you should keep its documentation at hand. Many calculus operations are available and there are often multiple ways to do the same thing."
   ]
  },
  {
   "cell_type": "markdown",
   "metadata": {},
   "source": [
    "## Excercise\n",
    "What is the sum of all numbers above 427 in a 200x200 matrix of all numbers from 1 up and to 40000? And what about below 42? And what if you combine them?"
   ]
  },
  {
   "cell_type": "code",
   "execution_count": null,
   "metadata": {},
   "outputs": [],
   "source": []
  },
  {
   "cell_type": "markdown",
   "metadata": {},
   "source": [
    "## Further reading\n",
    "https://docs.scipy.org/doc/numpy/reference/arrays.indexing.html\n"
   ]
  },
  {
   "cell_type": "code",
   "execution_count": null,
   "metadata": {},
   "outputs": [],
   "source": []
  }
 ],
 "metadata": {
  "@webio": {
   "lastCommId": null,
   "lastKernelId": null
  },
  "kernelspec": {
   "display_name": "Python [conda env:three] *",
   "language": "python",
   "name": "conda-env-three-py"
  },
  "language_info": {
   "codemirror_mode": {
    "name": "ipython",
    "version": 3
   },
   "file_extension": ".py",
   "mimetype": "text/x-python",
   "name": "python",
   "nbconvert_exporter": "python",
   "pygments_lexer": "ipython3",
   "version": "3.7.0"
  }
 },
 "nbformat": 4,
 "nbformat_minor": 2
}
