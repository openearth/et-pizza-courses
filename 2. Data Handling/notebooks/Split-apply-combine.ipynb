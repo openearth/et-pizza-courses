{
 "cells": [
  {
   "cell_type": "markdown",
   "metadata": {},
   "source": [
    "# Getting started in Pandas and GeoPandas"
   ]
  },
  {
   "cell_type": "markdown",
   "metadata": {},
   "source": [
    "This notebook shows the basics of [Pandas](https://pandas.pydata.org/index.html), a key Python package that is used to read, write, modify and analyze tabular data. The [DataFrame](https://pandas.pydata.org/pandas-docs/stable/reference/api/pandas.DataFrame.html) type represents the tables in memory. At the end we also quickly show [GeoPandas](http://geopandas.org/), which combines Pandas and [Shapely](https://shapely.readthedocs.io/en/latest/), to allow also spatial joins and other kinds of geometric operations. So use Pandas to read a CSV file, and use GeoPandas to read a Shapefile.\n",
    "\n",
    "First we will learn how to read in a CSV file, then how to retrieve parts of a DataFrame, followed by the [split-apply-combine](https://pandas.pydata.org/pandas-docs/stable/user_guide/groupby.html) method of data processing. At the end we show GeoPandas."
   ]
  },
  {
   "cell_type": "code",
   "execution_count": 1,
   "metadata": {},
   "outputs": [],
   "source": [
    "import pandas as pd\n",
    "import pathlib\n",
    "import geopandas as gpd"
   ]
  },
  {
   "cell_type": "code",
   "execution_count": 2,
   "metadata": {},
   "outputs": [],
   "source": [
    "%matplotlib inline"
   ]
  },
  {
   "cell_type": "markdown",
   "metadata": {},
   "source": [
    "## Reading a CSV into Pandas"
   ]
  },
  {
   "cell_type": "markdown",
   "metadata": {},
   "source": [
    "In this first example we will explore a CSV file, which contains information on worldwide reservoirs. First we can check it in a text editor to see the format. Since it is quite well formed, we can also load this directly in Excel.\n",
    "\n",
    "First we use the standard library [pathlib](https://docs.python.org/3/library/pathlib.html) to represent the paths. This is more powerful than using things, as it allows you to do common path operations more easily."
   ]
  },
  {
   "cell_type": "code",
   "execution_count": 3,
   "metadata": {},
   "outputs": [],
   "source": [
    "datadir = pathlib.Path(\"data\")\n",
    "reservoir_path = datadir / \"reservoir.csv\""
   ]
  },
  {
   "cell_type": "markdown",
   "metadata": {},
   "source": [
    "To read a CSV file to a `pandas.DataFrame`, use [pandas.read_csv](https://pandas.pydata.org/pandas-docs/stable/reference/api/pandas.read_csv.html). It should allow you, by using it's many optional keyword arguments, to read pretty much any CSV file found in practice."
   ]
  },
  {
   "cell_type": "code",
   "execution_count": 4,
   "metadata": {},
   "outputs": [
    {
     "data": {
      "text/html": [
       "<div>\n",
       "<style scoped>\n",
       "    .dataframe tbody tr th:only-of-type {\n",
       "        vertical-align: middle;\n",
       "    }\n",
       "\n",
       "    .dataframe tbody tr th {\n",
       "        vertical-align: top;\n",
       "    }\n",
       "\n",
       "    .dataframe thead th {\n",
       "        text-align: right;\n",
       "    }\n",
       "</style>\n",
       "<table border=\"1\" class=\"dataframe\">\n",
       "  <thead>\n",
       "    <tr style=\"text-align: right;\">\n",
       "      <th></th>\n",
       "      <th>Grand_ID</th>\n",
       "      <th>Status Active Yes/No</th>\n",
       "      <th>Max Level (m), HL</th>\n",
       "      <th>Max Surface Area (ha), HL</th>\n",
       "      <th>Max Surface Area (ha), JRC</th>\n",
       "      <th>Min Surface Area (ha), JRC</th>\n",
       "      <th>Normal Surface Area (ha), JRC</th>\n",
       "      <th>Count frequency Normal Area</th>\n",
       "      <th>Max Capacity (Mcm), HL</th>\n",
       "      <th>Min Capacity (Mcm), GR</th>\n",
       "      <th>Normal Capacity (Mcm), GR</th>\n",
       "      <th>Main Use, GR</th>\n",
       "      <th>Water Province</th>\n",
       "      <th>HydroLakes_ID</th>\n",
       "      <th>Dam height [m]</th>\n",
       "    </tr>\n",
       "  </thead>\n",
       "  <tbody>\n",
       "    <tr>\n",
       "      <td>0</td>\n",
       "      <td>0</td>\n",
       "      <td>NaN</td>\n",
       "      <td>13.4</td>\n",
       "      <td>51925</td>\n",
       "      <td>-99.000000</td>\n",
       "      <td>-99.0000</td>\n",
       "      <td>-99.00000</td>\n",
       "      <td>-99</td>\n",
       "      <td>6940.0</td>\n",
       "      <td>-99.0</td>\n",
       "      <td>-99.0</td>\n",
       "      <td>hydroelectricity</td>\n",
       "      <td>651</td>\n",
       "      <td>624</td>\n",
       "      <td>-99</td>\n",
       "    </tr>\n",
       "    <tr>\n",
       "      <td>1</td>\n",
       "      <td>1</td>\n",
       "      <td>NaN</td>\n",
       "      <td>32.3</td>\n",
       "      <td>412</td>\n",
       "      <td>395.066024</td>\n",
       "      <td>0.1449</td>\n",
       "      <td>18.09585</td>\n",
       "      <td>25</td>\n",
       "      <td>133.2</td>\n",
       "      <td>-99.0</td>\n",
       "      <td>-99.0</td>\n",
       "      <td>Hydroelectricity</td>\n",
       "      <td>1124</td>\n",
       "      <td>70379</td>\n",
       "      <td>59</td>\n",
       "    </tr>\n",
       "    <tr>\n",
       "      <td>2</td>\n",
       "      <td>2</td>\n",
       "      <td>NaN</td>\n",
       "      <td>57.9</td>\n",
       "      <td>9811</td>\n",
       "      <td>9725.462114</td>\n",
       "      <td>0.2075</td>\n",
       "      <td>9283.40450</td>\n",
       "      <td>55</td>\n",
       "      <td>5684.2</td>\n",
       "      <td>-99.0</td>\n",
       "      <td>264.8</td>\n",
       "      <td>Hydroelectricity</td>\n",
       "      <td>1122</td>\n",
       "      <td>3615</td>\n",
       "      <td>11</td>\n",
       "    </tr>\n",
       "    <tr>\n",
       "      <td>3</td>\n",
       "      <td>3</td>\n",
       "      <td>NaN</td>\n",
       "      <td>36.8</td>\n",
       "      <td>487</td>\n",
       "      <td>470.603354</td>\n",
       "      <td>0.0950</td>\n",
       "      <td>449.21570</td>\n",
       "      <td>76</td>\n",
       "      <td>179.1</td>\n",
       "      <td>-99.0</td>\n",
       "      <td>-99.0</td>\n",
       "      <td>Hydroelectricity</td>\n",
       "      <td>1124</td>\n",
       "      <td>72464</td>\n",
       "      <td>44</td>\n",
       "    </tr>\n",
       "    <tr>\n",
       "      <td>4</td>\n",
       "      <td>4</td>\n",
       "      <td>NaN</td>\n",
       "      <td>28.0</td>\n",
       "      <td>414</td>\n",
       "      <td>411.097963</td>\n",
       "      <td>0.0491</td>\n",
       "      <td>392.41310</td>\n",
       "      <td>67</td>\n",
       "      <td>115.9</td>\n",
       "      <td>-99.0</td>\n",
       "      <td>-99.0</td>\n",
       "      <td>Hydroelectricity</td>\n",
       "      <td>1124</td>\n",
       "      <td>72710</td>\n",
       "      <td>64</td>\n",
       "    </tr>\n",
       "  </tbody>\n",
       "</table>\n",
       "</div>"
      ],
      "text/plain": [
       "   Grand_ID  Status Active Yes/No  Max Level (m), HL  \\\n",
       "0         0                   NaN               13.4   \n",
       "1         1                   NaN               32.3   \n",
       "2         2                   NaN               57.9   \n",
       "3         3                   NaN               36.8   \n",
       "4         4                   NaN               28.0   \n",
       "\n",
       "   Max Surface Area (ha), HL  Max Surface Area (ha), JRC  \\\n",
       "0                      51925                  -99.000000   \n",
       "1                        412                  395.066024   \n",
       "2                       9811                 9725.462114   \n",
       "3                        487                  470.603354   \n",
       "4                        414                  411.097963   \n",
       "\n",
       "   Min Surface Area (ha), JRC  Normal Surface Area (ha), JRC  \\\n",
       "0                    -99.0000                      -99.00000   \n",
       "1                      0.1449                       18.09585   \n",
       "2                      0.2075                     9283.40450   \n",
       "3                      0.0950                      449.21570   \n",
       "4                      0.0491                      392.41310   \n",
       "\n",
       "   Count frequency Normal Area  Max Capacity (Mcm), HL  \\\n",
       "0                          -99                  6940.0   \n",
       "1                           25                   133.2   \n",
       "2                           55                  5684.2   \n",
       "3                           76                   179.1   \n",
       "4                           67                   115.9   \n",
       "\n",
       "   Min Capacity (Mcm), GR  Normal Capacity (Mcm), GR      Main Use, GR  \\\n",
       "0                   -99.0                      -99.0  hydroelectricity   \n",
       "1                   -99.0                      -99.0  Hydroelectricity   \n",
       "2                   -99.0                      264.8  Hydroelectricity   \n",
       "3                   -99.0                      -99.0  Hydroelectricity   \n",
       "4                   -99.0                      -99.0  Hydroelectricity   \n",
       "\n",
       "   Water Province  HydroLakes_ID  Dam height [m]  \n",
       "0             651            624             -99  \n",
       "1            1124          70379              59  \n",
       "2            1122           3615              11  \n",
       "3            1124          72464              44  \n",
       "4            1124          72710              64  "
      ]
     },
     "execution_count": 4,
     "metadata": {},
     "output_type": "execute_result"
    }
   ],
   "source": [
    "# read the file with default arguments, and use .head() to show only the first 5 rows\n",
    "df_rv = pd.read_csv(reservoir_path)\n",
    "df_rv.head()"
   ]
  },
  {
   "cell_type": "markdown",
   "metadata": {},
   "source": [
    "We can easily check the unique values in a column like so:"
   ]
  },
  {
   "cell_type": "code",
   "execution_count": 5,
   "metadata": {},
   "outputs": [
    {
     "data": {
      "text/plain": [
       "array(['hydroelectricity', 'Hydroelectricity', nan, 'Water supply',\n",
       "       'Other', 'Recreation', 'Irrigation', 'Flood control', 'Fisheries',\n",
       "       'Navigation'], dtype=object)"
      ]
     },
     "execution_count": 5,
     "metadata": {},
     "output_type": "execute_result"
    }
   ],
   "source": [
    "df_rv[\"Main Use, GR\"].unique()"
   ]
  },
  {
   "cell_type": "markdown",
   "metadata": {},
   "source": [
    "Above we can see that apparently -99 is used to represent missing data, and that in \"Main Use, GR\" the capitalisation is not consistent. We can lowercase this column to fix this. This can be done by specifying the keyword `converters`, and giving a dictionary that maps column names to functions that we want to apply to each element. The function for lowercasing is:"
   ]
  },
  {
   "cell_type": "code",
   "execution_count": 6,
   "metadata": {},
   "outputs": [
    {
     "data": {
      "text/plain": [
       "<method 'lower' of 'str' objects>"
      ]
     },
     "execution_count": 6,
     "metadata": {},
     "output_type": "execute_result"
    }
   ],
   "source": [
    "str.lower"
   ]
  },
  {
   "cell_type": "code",
   "execution_count": 7,
   "metadata": {},
   "outputs": [
    {
     "data": {
      "text/plain": [
       "'hydro'"
      ]
     },
     "execution_count": 7,
     "metadata": {},
     "output_type": "execute_result"
    }
   ],
   "source": [
    "\"HyDrO\".lower()"
   ]
  },
  {
   "cell_type": "markdown",
   "metadata": {},
   "source": [
    "With these extra keyword arguments to `pandas.read_csv`, we get a `pandas.DataFrame` object that is ready for further analysis."
   ]
  },
  {
   "cell_type": "code",
   "execution_count": 8,
   "metadata": {},
   "outputs": [
    {
     "data": {
      "text/html": [
       "<div>\n",
       "<style scoped>\n",
       "    .dataframe tbody tr th:only-of-type {\n",
       "        vertical-align: middle;\n",
       "    }\n",
       "\n",
       "    .dataframe tbody tr th {\n",
       "        vertical-align: top;\n",
       "    }\n",
       "\n",
       "    .dataframe thead th {\n",
       "        text-align: right;\n",
       "    }\n",
       "</style>\n",
       "<table border=\"1\" class=\"dataframe\">\n",
       "  <thead>\n",
       "    <tr style=\"text-align: right;\">\n",
       "      <th></th>\n",
       "      <th>Grand_ID</th>\n",
       "      <th>Status Active Yes/No</th>\n",
       "      <th>Max Level (m), HL</th>\n",
       "      <th>Max Surface Area (ha), HL</th>\n",
       "      <th>Max Surface Area (ha), JRC</th>\n",
       "      <th>Min Surface Area (ha), JRC</th>\n",
       "      <th>Normal Surface Area (ha), JRC</th>\n",
       "      <th>Count frequency Normal Area</th>\n",
       "      <th>Max Capacity (Mcm), HL</th>\n",
       "      <th>Min Capacity (Mcm), GR</th>\n",
       "      <th>Normal Capacity (Mcm), GR</th>\n",
       "      <th>Main Use, GR</th>\n",
       "      <th>Water Province</th>\n",
       "      <th>HydroLakes_ID</th>\n",
       "      <th>Dam height [m]</th>\n",
       "    </tr>\n",
       "  </thead>\n",
       "  <tbody>\n",
       "    <tr>\n",
       "      <td>0</td>\n",
       "      <td>0</td>\n",
       "      <td>NaN</td>\n",
       "      <td>13.4</td>\n",
       "      <td>51925</td>\n",
       "      <td>NaN</td>\n",
       "      <td>NaN</td>\n",
       "      <td>NaN</td>\n",
       "      <td>NaN</td>\n",
       "      <td>6940.0</td>\n",
       "      <td>NaN</td>\n",
       "      <td>NaN</td>\n",
       "      <td>hydroelectricity</td>\n",
       "      <td>651</td>\n",
       "      <td>624</td>\n",
       "      <td>NaN</td>\n",
       "    </tr>\n",
       "    <tr>\n",
       "      <td>1</td>\n",
       "      <td>1</td>\n",
       "      <td>NaN</td>\n",
       "      <td>32.3</td>\n",
       "      <td>412</td>\n",
       "      <td>395.066024</td>\n",
       "      <td>0.1449</td>\n",
       "      <td>18.09585</td>\n",
       "      <td>25.0</td>\n",
       "      <td>133.2</td>\n",
       "      <td>NaN</td>\n",
       "      <td>NaN</td>\n",
       "      <td>hydroelectricity</td>\n",
       "      <td>1124</td>\n",
       "      <td>70379</td>\n",
       "      <td>59.0</td>\n",
       "    </tr>\n",
       "    <tr>\n",
       "      <td>2</td>\n",
       "      <td>2</td>\n",
       "      <td>NaN</td>\n",
       "      <td>57.9</td>\n",
       "      <td>9811</td>\n",
       "      <td>9725.462114</td>\n",
       "      <td>0.2075</td>\n",
       "      <td>9283.40450</td>\n",
       "      <td>55.0</td>\n",
       "      <td>5684.2</td>\n",
       "      <td>NaN</td>\n",
       "      <td>264.8</td>\n",
       "      <td>hydroelectricity</td>\n",
       "      <td>1122</td>\n",
       "      <td>3615</td>\n",
       "      <td>11.0</td>\n",
       "    </tr>\n",
       "    <tr>\n",
       "      <td>3</td>\n",
       "      <td>3</td>\n",
       "      <td>NaN</td>\n",
       "      <td>36.8</td>\n",
       "      <td>487</td>\n",
       "      <td>470.603354</td>\n",
       "      <td>0.0950</td>\n",
       "      <td>449.21570</td>\n",
       "      <td>76.0</td>\n",
       "      <td>179.1</td>\n",
       "      <td>NaN</td>\n",
       "      <td>NaN</td>\n",
       "      <td>hydroelectricity</td>\n",
       "      <td>1124</td>\n",
       "      <td>72464</td>\n",
       "      <td>44.0</td>\n",
       "    </tr>\n",
       "    <tr>\n",
       "      <td>4</td>\n",
       "      <td>4</td>\n",
       "      <td>NaN</td>\n",
       "      <td>28.0</td>\n",
       "      <td>414</td>\n",
       "      <td>411.097963</td>\n",
       "      <td>0.0491</td>\n",
       "      <td>392.41310</td>\n",
       "      <td>67.0</td>\n",
       "      <td>115.9</td>\n",
       "      <td>NaN</td>\n",
       "      <td>NaN</td>\n",
       "      <td>hydroelectricity</td>\n",
       "      <td>1124</td>\n",
       "      <td>72710</td>\n",
       "      <td>64.0</td>\n",
       "    </tr>\n",
       "  </tbody>\n",
       "</table>\n",
       "</div>"
      ],
      "text/plain": [
       "   Grand_ID  Status Active Yes/No  Max Level (m), HL  \\\n",
       "0         0                   NaN               13.4   \n",
       "1         1                   NaN               32.3   \n",
       "2         2                   NaN               57.9   \n",
       "3         3                   NaN               36.8   \n",
       "4         4                   NaN               28.0   \n",
       "\n",
       "   Max Surface Area (ha), HL  Max Surface Area (ha), JRC  \\\n",
       "0                      51925                         NaN   \n",
       "1                        412                  395.066024   \n",
       "2                       9811                 9725.462114   \n",
       "3                        487                  470.603354   \n",
       "4                        414                  411.097963   \n",
       "\n",
       "   Min Surface Area (ha), JRC  Normal Surface Area (ha), JRC  \\\n",
       "0                         NaN                            NaN   \n",
       "1                      0.1449                       18.09585   \n",
       "2                      0.2075                     9283.40450   \n",
       "3                      0.0950                      449.21570   \n",
       "4                      0.0491                      392.41310   \n",
       "\n",
       "   Count frequency Normal Area  Max Capacity (Mcm), HL  \\\n",
       "0                          NaN                  6940.0   \n",
       "1                         25.0                   133.2   \n",
       "2                         55.0                  5684.2   \n",
       "3                         76.0                   179.1   \n",
       "4                         67.0                   115.9   \n",
       "\n",
       "   Min Capacity (Mcm), GR  Normal Capacity (Mcm), GR      Main Use, GR  \\\n",
       "0                     NaN                        NaN  hydroelectricity   \n",
       "1                     NaN                        NaN  hydroelectricity   \n",
       "2                     NaN                      264.8  hydroelectricity   \n",
       "3                     NaN                        NaN  hydroelectricity   \n",
       "4                     NaN                        NaN  hydroelectricity   \n",
       "\n",
       "   Water Province  HydroLakes_ID  Dam height [m]  \n",
       "0             651            624             NaN  \n",
       "1            1124          70379            59.0  \n",
       "2            1122           3615            11.0  \n",
       "3            1124          72464            44.0  \n",
       "4            1124          72710            64.0  "
      ]
     },
     "execution_count": 8,
     "metadata": {},
     "output_type": "execute_result"
    }
   ],
   "source": [
    "df = pd.read_csv(reservoir_path, na_values=-99,\n",
    "                 converters={\"Main Use, GR\": str.lower})\n",
    "df.head()"
   ]
  },
  {
   "cell_type": "markdown",
   "metadata": {},
   "source": [
    "To select a subset of both the rows and the columns, we can use the [loc](https://pandas.pydata.org/pandas-docs/stable/reference/api/pandas.DataFrame.loc.html) method. The syntax is as follows: `df.loc[rows, cols]`,  where `rows` and `cols` are one of the allowed inputs listed in the docs. In this case we use a boolean array to only select the rows which are `True`, and a list of column names to select only two columns."
   ]
  },
  {
   "cell_type": "code",
   "execution_count": 9,
   "metadata": {},
   "outputs": [
    {
     "data": {
      "text/html": [
       "<div>\n",
       "<style scoped>\n",
       "    .dataframe tbody tr th:only-of-type {\n",
       "        vertical-align: middle;\n",
       "    }\n",
       "\n",
       "    .dataframe tbody tr th {\n",
       "        vertical-align: top;\n",
       "    }\n",
       "\n",
       "    .dataframe thead th {\n",
       "        text-align: right;\n",
       "    }\n",
       "</style>\n",
       "<table border=\"1\" class=\"dataframe\">\n",
       "  <thead>\n",
       "    <tr style=\"text-align: right;\">\n",
       "      <th></th>\n",
       "      <th>Grand_ID</th>\n",
       "      <th>Dam height [m]</th>\n",
       "    </tr>\n",
       "  </thead>\n",
       "  <tbody>\n",
       "    <tr>\n",
       "      <td>1</td>\n",
       "      <td>1</td>\n",
       "      <td>59.0</td>\n",
       "    </tr>\n",
       "    <tr>\n",
       "      <td>3</td>\n",
       "      <td>3</td>\n",
       "      <td>44.0</td>\n",
       "    </tr>\n",
       "    <tr>\n",
       "      <td>4</td>\n",
       "      <td>4</td>\n",
       "      <td>64.0</td>\n",
       "    </tr>\n",
       "    <tr>\n",
       "      <td>6</td>\n",
       "      <td>6</td>\n",
       "      <td>183.0</td>\n",
       "    </tr>\n",
       "    <tr>\n",
       "      <td>7</td>\n",
       "      <td>7</td>\n",
       "      <td>61.0</td>\n",
       "    </tr>\n",
       "    <tr>\n",
       "      <td>...</td>\n",
       "      <td>...</td>\n",
       "      <td>...</td>\n",
       "    </tr>\n",
       "    <tr>\n",
       "      <td>6790</td>\n",
       "      <td>6818</td>\n",
       "      <td>23.0</td>\n",
       "    </tr>\n",
       "    <tr>\n",
       "      <td>6793</td>\n",
       "      <td>6821</td>\n",
       "      <td>24.0</td>\n",
       "    </tr>\n",
       "    <tr>\n",
       "      <td>6794</td>\n",
       "      <td>6822</td>\n",
       "      <td>36.0</td>\n",
       "    </tr>\n",
       "    <tr>\n",
       "      <td>6795</td>\n",
       "      <td>6823</td>\n",
       "      <td>50.0</td>\n",
       "    </tr>\n",
       "    <tr>\n",
       "      <td>6796</td>\n",
       "      <td>6824</td>\n",
       "      <td>27.0</td>\n",
       "    </tr>\n",
       "  </tbody>\n",
       "</table>\n",
       "<p>4872 rows × 2 columns</p>\n",
       "</div>"
      ],
      "text/plain": [
       "      Grand_ID  Dam height [m]\n",
       "1            1            59.0\n",
       "3            3            44.0\n",
       "4            4            64.0\n",
       "6            6           183.0\n",
       "7            7            61.0\n",
       "...        ...             ...\n",
       "6790      6818            23.0\n",
       "6793      6821            24.0\n",
       "6794      6822            36.0\n",
       "6795      6823            50.0\n",
       "6796      6824            27.0\n",
       "\n",
       "[4872 rows x 2 columns]"
      ]
     },
     "execution_count": 9,
     "metadata": {},
     "output_type": "execute_result"
    }
   ],
   "source": [
    "df.loc[df[\"Dam height [m]\"] > 20, [\"Grand_ID\", \"Dam height [m]\"]]"
   ]
  },
  {
   "cell_type": "markdown",
   "metadata": {},
   "source": [
    "To write our DataFrame to a new CSV file, you can use the [DataFrame.to_csv](https://pandas.pydata.org/pandas-docs/stable/reference/api/pandas.DataFrame.to_csv.html) method. Here we set `index` to `False` to prevent adding an extra column with the row index, which here is just the the integer sequence starting at 1."
   ]
  },
  {
   "cell_type": "code",
   "execution_count": 10,
   "metadata": {},
   "outputs": [],
   "source": [
    "df.to_csv(datadir / \"reservoir_out.csv\", index=False)"
   ]
  },
  {
   "cell_type": "markdown",
   "metadata": {},
   "source": [
    "## Split-apply-combine"
   ]
  },
  {
   "cell_type": "markdown",
   "metadata": {},
   "source": [
    "Split-apply-combine, done in pandas and xarray through the use of the `groupby` function, is a powerful method to analyze a dataset, by reducing it to meaningful groups, and applying a function to each group independently, and combining the results back into a single data structure.\n",
    "\n",
    "If you are familiar with Excel's pivot tables, they can be compared to them.\n",
    "\n",
    "Specific documentation for `groupby` in pandas and xarray can be found here:\n",
    "- https://pandas.pydata.org/pandas-docs/stable/user_guide/groupby.html\n",
    "- http://xarray.pydata.org/en/stable/groupby.html\n",
    "\n",
    "Doing a groupby gives an iterator over the groups that is not directly useful."
   ]
  },
  {
   "cell_type": "code",
   "execution_count": 11,
   "metadata": {},
   "outputs": [
    {
     "data": {
      "text/plain": [
       "<pandas.core.groupby.generic.DataFrameGroupBy object at 0x0000017EE7DB0C50>"
      ]
     },
     "execution_count": 11,
     "metadata": {},
     "output_type": "execute_result"
    }
   ],
   "source": [
    "df.groupby(\"Main Use, GR\")"
   ]
  },
  {
   "cell_type": "markdown",
   "metadata": {},
   "source": [
    "We can iterate over the groups, and we get both the name and a dataframe of just that group back:"
   ]
  },
  {
   "cell_type": "code",
   "execution_count": 12,
   "metadata": {},
   "outputs": [
    {
     "name": "stdout",
     "output_type": "stream",
     "text": [
      "\n",
      "fisheries\n",
      "flood control\n",
      "hydroelectricity\n",
      "irrigation\n",
      "navigation\n",
      "other\n",
      "recreation\n",
      "water supply\n"
     ]
    }
   ],
   "source": [
    "for use, group in df.groupby(\"Main Use, GR\"):\n",
    "    print(use)"
   ]
  },
  {
   "cell_type": "markdown",
   "metadata": {},
   "source": [
    "In this case we can take the last group from the previous cell, and calculate the sum. This will attempt to take the sum of all columns, which for many of them, such as IDs and strings, will not make much sense."
   ]
  },
  {
   "cell_type": "code",
   "execution_count": 13,
   "metadata": {},
   "outputs": [
    {
     "data": {
      "text/plain": [
       "Grand_ID                                                                   2453438\n",
       "Status Active Yes/No                                                             0\n",
       "Max Level (m), HL                                                            17626\n",
       "Max Surface Area (ha), HL                                                   765331\n",
       "Max Surface Area (ha), JRC                                                  392473\n",
       "Min Surface Area (ha), JRC                                                 583.122\n",
       "Normal Surface Area (ha), JRC                                               355913\n",
       "Count frequency Normal Area                                                  54535\n",
       "Max Capacity (Mcm), HL                                                      165323\n",
       "Min Capacity (Mcm), GR                                                       22425\n",
       "Normal Capacity (Mcm), GR                                                   115795\n",
       "Main Use, GR                     water supplywater supplywater supplywater supp...\n",
       "Water Province                                                              661894\n",
       "HydroLakes_ID                                                            294410219\n",
       "Dam height [m]                                                               31712\n",
       "dtype: object"
      ]
     },
     "execution_count": 13,
     "metadata": {},
     "output_type": "execute_result"
    }
   ],
   "source": [
    "group.sum()"
   ]
  },
  {
   "cell_type": "markdown",
   "metadata": {},
   "source": [
    "Making a box plot of the max capacity, we see that there are some very large outliers:"
   ]
  },
  {
   "cell_type": "code",
   "execution_count": 14,
   "metadata": {},
   "outputs": [
    {
     "data": {
      "text/plain": [
       "<matplotlib.axes._subplots.AxesSubplot at 0x17ee7b80710>"
      ]
     },
     "execution_count": 14,
     "metadata": {},
     "output_type": "execute_result"
    },
    {
     "data": {
      "image/png": "[encoded data removed]",
      "text/plain": [
       "<Figure size 432x288 with 1 Axes>"
      ]
     },
     "metadata": {
      "needs_background": "light"
     },
     "output_type": "display_data"
    }
   ],
   "source": [
    "group[[\"Max Capacity (Mcm), HL\"]].boxplot()"
   ]
  },
  {
   "cell_type": "markdown",
   "metadata": {},
   "source": [
    "The value of the largest one can be retrieved with the max method."
   ]
  },
  {
   "cell_type": "code",
   "execution_count": 15,
   "metadata": {},
   "outputs": [
    {
     "data": {
      "text/plain": [
       "36700.0"
      ]
     },
     "execution_count": 15,
     "metadata": {},
     "output_type": "execute_result"
    }
   ],
   "source": [
    "group[\"Max Capacity (Mcm), HL\"].max()"
   ]
  },
  {
   "cell_type": "markdown",
   "metadata": {},
   "source": [
    "If we want to find the use type with on average the highest capacities, we can do all this in one line:"
   ]
  },
  {
   "cell_type": "code",
   "execution_count": 16,
   "metadata": {},
   "outputs": [
    {
     "data": {
      "text/plain": [
       "<matplotlib.axes._subplots.AxesSubplot at 0x17ee7d630b8>"
      ]
     },
     "execution_count": 16,
     "metadata": {},
     "output_type": "execute_result"
    },
    {
     "data": {
      "image/png": "[encoded data removed]",
      "text/plain": [
       "<Figure size 432x288 with 1 Axes>"
      ]
     },
     "metadata": {
      "needs_background": "light"
     },
     "output_type": "display_data"
    }
   ],
   "source": [
    "df.groupby(\"Main Use, GR\").mean()[\"Max Capacity (Mcm), HL\"].plot.bar()"
   ]
  },
  {
   "cell_type": "markdown",
   "metadata": {},
   "source": [
    "When doing analysis like this it is important to keep into account how many data points we have per group. We can easily check that like so. Note that the brackets allow us to divide the expression over multiple lines, which can help readability."
   ]
  },
  {
   "cell_type": "code",
   "execution_count": 17,
   "metadata": {},
   "outputs": [
    {
     "data": {
      "text/plain": [
       "<matplotlib.axes._subplots.AxesSubplot at 0x17ee85336a0>"
      ]
     },
     "execution_count": 17,
     "metadata": {},
     "output_type": "execute_result"
    },
    {
     "data": {
      "image/png": "[encoded data removed]",
      "text/plain": [
       "<Figure size 432x288 with 1 Axes>"
      ]
     },
     "metadata": {
      "needs_background": "light"
     },
     "output_type": "display_data"
    }
   ],
   "source": [
    "(df.groupby(\"Main Use, GR\")[\"Grand_ID\"]\n",
    " .count()\n",
    " .plot.bar()\n",
    ")"
   ]
  },
  {
   "cell_type": "markdown",
   "metadata": {},
   "source": [
    "### Exercise\n",
    "\n",
    "- Which type of dam has on average the highest dam height?"
   ]
  },
  {
   "cell_type": "code",
   "execution_count": 18,
   "metadata": {},
   "outputs": [
    {
     "data": {
      "text/plain": [
       "<matplotlib.axes._subplots.AxesSubplot at 0x17ee95864a8>"
      ]
     },
     "execution_count": 18,
     "metadata": {},
     "output_type": "execute_result"
    },
    {
     "data": {
      "image/png": "[encoded data removed]",
      "text/plain": [
       "<Figure size 432x288 with 1 Axes>"
      ]
     },
     "metadata": {
      "needs_background": "light"
     },
     "output_type": "display_data"
    }
   ],
   "source": [
    "(df.groupby(\"Main Use, GR\")[\"Dam height [m]\"]\n",
    " .mean()\n",
    " .plot.bar()\n",
    ")"
   ]
  },
  {
   "cell_type": "markdown",
   "metadata": {},
   "source": [
    "- Investigate the relation between dam height and maximum capacity"
   ]
  },
  {
   "cell_type": "code",
   "execution_count": 19,
   "metadata": {},
   "outputs": [
    {
     "data": {
      "text/plain": [
       "<matplotlib.axes._subplots.AxesSubplot at 0x17ee95fe630>"
      ]
     },
     "execution_count": 19,
     "metadata": {},
     "output_type": "execute_result"
    },
    {
     "data": {
      "image/png": "[encoded data removed]",
      "text/plain": [
       "<Figure size 432x288 with 1 Axes>"
      ]
     },
     "metadata": {
      "needs_background": "light"
     },
     "output_type": "display_data"
    }
   ],
   "source": [
    "(df.plot.scatter(x=\"Dam height [m]\",\n",
    "  y=\"Max Capacity (Mcm), HL\",\n",
    "  ylim=(0.0, 1e4)\n",
    " ))"
   ]
  },
  {
   "cell_type": "markdown",
   "metadata": {},
   "source": [
    "# GeoPandas\n",
    "\n",
    "To work geospatial vector data like points and polygons with associated metadata, look into using GeoPandas, http://geopandas.org/.\n",
    "\n",
    "Below we briefly show how it can used. We load a dataset with polygons and data of all countries that is included with geopandas. Note that it appears exactly like a `pandas.DataFrame` would, except this is a `geopandas.GeoDataFrame`, with special handling of the `geometry` column."
   ]
  },
  {
   "cell_type": "code",
   "execution_count": 20,
   "metadata": {},
   "outputs": [
    {
     "data": {
      "text/html": [
       "<div>\n",
       "<style scoped>\n",
       "    .dataframe tbody tr th:only-of-type {\n",
       "        vertical-align: middle;\n",
       "    }\n",
       "\n",
       "    .dataframe tbody tr th {\n",
       "        vertical-align: top;\n",
       "    }\n",
       "\n",
       "    .dataframe thead th {\n",
       "        text-align: right;\n",
       "    }\n",
       "</style>\n",
       "<table border=\"1\" class=\"dataframe\">\n",
       "  <thead>\n",
       "    <tr style=\"text-align: right;\">\n",
       "      <th></th>\n",
       "      <th>pop_est</th>\n",
       "      <th>continent</th>\n",
       "      <th>name</th>\n",
       "      <th>iso_a3</th>\n",
       "      <th>gdp_md_est</th>\n",
       "      <th>geometry</th>\n",
       "    </tr>\n",
       "  </thead>\n",
       "  <tbody>\n",
       "    <tr>\n",
       "      <td>0</td>\n",
       "      <td>920938</td>\n",
       "      <td>Oceania</td>\n",
       "      <td>Fiji</td>\n",
       "      <td>FJI</td>\n",
       "      <td>8374.0</td>\n",
       "      <td>(POLYGON ((180 -16.06713266364245, 180 -16.555...</td>\n",
       "    </tr>\n",
       "    <tr>\n",
       "      <td>1</td>\n",
       "      <td>53950935</td>\n",
       "      <td>Africa</td>\n",
       "      <td>Tanzania</td>\n",
       "      <td>TZA</td>\n",
       "      <td>150600.0</td>\n",
       "      <td>POLYGON ((33.90371119710453 -0.950000000000000...</td>\n",
       "    </tr>\n",
       "    <tr>\n",
       "      <td>2</td>\n",
       "      <td>603253</td>\n",
       "      <td>Africa</td>\n",
       "      <td>W. Sahara</td>\n",
       "      <td>ESH</td>\n",
       "      <td>906.5</td>\n",
       "      <td>POLYGON ((-8.665589565454809 27.65642588959236...</td>\n",
       "    </tr>\n",
       "    <tr>\n",
       "      <td>3</td>\n",
       "      <td>35623680</td>\n",
       "      <td>North America</td>\n",
       "      <td>Canada</td>\n",
       "      <td>CAN</td>\n",
       "      <td>1674000.0</td>\n",
       "      <td>(POLYGON ((-122.84 49.00000000000011, -122.974...</td>\n",
       "    </tr>\n",
       "    <tr>\n",
       "      <td>4</td>\n",
       "      <td>326625791</td>\n",
       "      <td>North America</td>\n",
       "      <td>United States of America</td>\n",
       "      <td>USA</td>\n",
       "      <td>18560000.0</td>\n",
       "      <td>(POLYGON ((-122.84 49.00000000000011, -120 49....</td>\n",
       "    </tr>\n",
       "    <tr>\n",
       "      <td>...</td>\n",
       "      <td>...</td>\n",
       "      <td>...</td>\n",
       "      <td>...</td>\n",
       "      <td>...</td>\n",
       "      <td>...</td>\n",
       "      <td>...</td>\n",
       "    </tr>\n",
       "    <tr>\n",
       "      <td>172</td>\n",
       "      <td>7111024</td>\n",
       "      <td>Europe</td>\n",
       "      <td>Serbia</td>\n",
       "      <td>SRB</td>\n",
       "      <td>101800.0</td>\n",
       "      <td>POLYGON ((18.82982479287395 45.90887235802528,...</td>\n",
       "    </tr>\n",
       "    <tr>\n",
       "      <td>173</td>\n",
       "      <td>642550</td>\n",
       "      <td>Europe</td>\n",
       "      <td>Montenegro</td>\n",
       "      <td>MNE</td>\n",
       "      <td>10610.0</td>\n",
       "      <td>POLYGON ((20.07070000000004 42.58863000000008,...</td>\n",
       "    </tr>\n",
       "    <tr>\n",
       "      <td>174</td>\n",
       "      <td>1895250</td>\n",
       "      <td>Europe</td>\n",
       "      <td>Kosovo</td>\n",
       "      <td>-99</td>\n",
       "      <td>18490.0</td>\n",
       "      <td>POLYGON ((20.59024654668023 41.85540891928363,...</td>\n",
       "    </tr>\n",
       "    <tr>\n",
       "      <td>175</td>\n",
       "      <td>1218208</td>\n",
       "      <td>North America</td>\n",
       "      <td>Trinidad and Tobago</td>\n",
       "      <td>TTO</td>\n",
       "      <td>43570.0</td>\n",
       "      <td>POLYGON ((-61.68000000000001 10.76, -61.105 10...</td>\n",
       "    </tr>\n",
       "    <tr>\n",
       "      <td>176</td>\n",
       "      <td>13026129</td>\n",
       "      <td>Africa</td>\n",
       "      <td>S. Sudan</td>\n",
       "      <td>SSD</td>\n",
       "      <td>20880.0</td>\n",
       "      <td>POLYGON ((30.83385242171543 3.509171604222463,...</td>\n",
       "    </tr>\n",
       "  </tbody>\n",
       "</table>\n",
       "<p>177 rows × 6 columns</p>\n",
       "</div>"
      ],
      "text/plain": [
       "       pop_est      continent                      name iso_a3  gdp_md_est  \\\n",
       "0       920938        Oceania                      Fiji    FJI      8374.0   \n",
       "1     53950935         Africa                  Tanzania    TZA    150600.0   \n",
       "2       603253         Africa                 W. Sahara    ESH       906.5   \n",
       "3     35623680  North America                    Canada    CAN   1674000.0   \n",
       "4    326625791  North America  United States of America    USA  18560000.0   \n",
       "..         ...            ...                       ...    ...         ...   \n",
       "172    7111024         Europe                    Serbia    SRB    101800.0   \n",
       "173     642550         Europe                Montenegro    MNE     10610.0   \n",
       "174    1895250         Europe                    Kosovo    -99     18490.0   \n",
       "175    1218208  North America       Trinidad and Tobago    TTO     43570.0   \n",
       "176   13026129         Africa                  S. Sudan    SSD     20880.0   \n",
       "\n",
       "                                              geometry  \n",
       "0    (POLYGON ((180 -16.06713266364245, 180 -16.555...  \n",
       "1    POLYGON ((33.90371119710453 -0.950000000000000...  \n",
       "2    POLYGON ((-8.665589565454809 27.65642588959236...  \n",
       "3    (POLYGON ((-122.84 49.00000000000011, -122.974...  \n",
       "4    (POLYGON ((-122.84 49.00000000000011, -120 49....  \n",
       "..                                                 ...  \n",
       "172  POLYGON ((18.82982479287395 45.90887235802528,...  \n",
       "173  POLYGON ((20.07070000000004 42.58863000000008,...  \n",
       "174  POLYGON ((20.59024654668023 41.85540891928363,...  \n",
       "175  POLYGON ((-61.68000000000001 10.76, -61.105 10...  \n",
       "176  POLYGON ((30.83385242171543 3.509171604222463,...  \n",
       "\n",
       "[177 rows x 6 columns]"
      ]
     },
     "execution_count": 20,
     "metadata": {},
     "output_type": "execute_result"
    }
   ],
   "source": [
    "countries = gpd.read_file(gpd.datasets.get_path('naturalearth_lowres'))\n",
    "countries"
   ]
  },
  {
   "cell_type": "markdown",
   "metadata": {},
   "source": [
    "It also has geospatial plotting support, see http://geopandas.org/mapping.html for more information."
   ]
  },
  {
   "cell_type": "code",
   "execution_count": 21,
   "metadata": {},
   "outputs": [
    {
     "data": {
      "text/plain": [
       "<matplotlib.axes._subplots.AxesSubplot at 0x17ee9678a20>"
      ]
     },
     "execution_count": 21,
     "metadata": {},
     "output_type": "execute_result"
    },
    {
     "data": {
      "image/png": "[encoded data removed]",
      "text/plain": [
       "<Figure size 432x288 with 1 Axes>"
      ]
     },
     "metadata": {
      "needs_background": "light"
     },
     "output_type": "display_data"
    }
   ],
   "source": [
    "countries.plot()"
   ]
  },
  {
   "cell_type": "markdown",
   "metadata": {},
   "source": [
    "To dissolve the geometries of the countries, we can directly dissolve based on the value of the continent column:"
   ]
  },
  {
   "cell_type": "code",
   "execution_count": 22,
   "metadata": {},
   "outputs": [
    {
     "data": {
      "text/html": [
       "<div>\n",
       "<style scoped>\n",
       "    .dataframe tbody tr th:only-of-type {\n",
       "        vertical-align: middle;\n",
       "    }\n",
       "\n",
       "    .dataframe tbody tr th {\n",
       "        vertical-align: top;\n",
       "    }\n",
       "\n",
       "    .dataframe thead th {\n",
       "        text-align: right;\n",
       "    }\n",
       "</style>\n",
       "<table border=\"1\" class=\"dataframe\">\n",
       "  <thead>\n",
       "    <tr style=\"text-align: right;\">\n",
       "      <th></th>\n",
       "      <th>geometry</th>\n",
       "      <th>pop_est</th>\n",
       "      <th>name</th>\n",
       "      <th>iso_a3</th>\n",
       "      <th>gdp_md_est</th>\n",
       "    </tr>\n",
       "    <tr>\n",
       "      <th>continent</th>\n",
       "      <th></th>\n",
       "      <th></th>\n",
       "      <th></th>\n",
       "      <th></th>\n",
       "      <th></th>\n",
       "    </tr>\n",
       "  </thead>\n",
       "  <tbody>\n",
       "    <tr>\n",
       "      <td>Africa</td>\n",
       "      <td>(POLYGON ((49.54351891459575 -12.4698328589405...</td>\n",
       "      <td>53950935</td>\n",
       "      <td>Tanzania</td>\n",
       "      <td>TZA</td>\n",
       "      <td>150600.0</td>\n",
       "    </tr>\n",
       "    <tr>\n",
       "      <td>Antarctica</td>\n",
       "      <td>(POLYGON ((-163.7128956777287 -78.595667413241...</td>\n",
       "      <td>4050</td>\n",
       "      <td>Antarctica</td>\n",
       "      <td>ATA</td>\n",
       "      <td>810.0</td>\n",
       "    </tr>\n",
       "    <tr>\n",
       "      <td>Asia</td>\n",
       "      <td>(POLYGON ((120.2950142762069 -10.2586499976035...</td>\n",
       "      <td>18556698</td>\n",
       "      <td>Kazakhstan</td>\n",
       "      <td>KAZ</td>\n",
       "      <td>460700.0</td>\n",
       "    </tr>\n",
       "    <tr>\n",
       "      <td>Europe</td>\n",
       "      <td>(POLYGON ((-51.65779741067889 4.15623240805302...</td>\n",
       "      <td>142257519</td>\n",
       "      <td>Russia</td>\n",
       "      <td>RUS</td>\n",
       "      <td>3745000.0</td>\n",
       "    </tr>\n",
       "    <tr>\n",
       "      <td>North America</td>\n",
       "      <td>(POLYGON ((-61.68000000000001 10.76, -61.105 1...</td>\n",
       "      <td>35623680</td>\n",
       "      <td>Canada</td>\n",
       "      <td>CAN</td>\n",
       "      <td>1674000.0</td>\n",
       "    </tr>\n",
       "    <tr>\n",
       "      <td>Oceania</td>\n",
       "      <td>(POLYGON ((169.6678145693731 -43.5553256162263...</td>\n",
       "      <td>920938</td>\n",
       "      <td>Fiji</td>\n",
       "      <td>FJI</td>\n",
       "      <td>8374.0</td>\n",
       "    </tr>\n",
       "    <tr>\n",
       "      <td>Seven seas (open ocean)</td>\n",
       "      <td>POLYGON ((68.935 -48.62500000000001, 69.58 -48...</td>\n",
       "      <td>140</td>\n",
       "      <td>Fr. S. Antarctic Lands</td>\n",
       "      <td>ATF</td>\n",
       "      <td>16.0</td>\n",
       "    </tr>\n",
       "    <tr>\n",
       "      <td>South America</td>\n",
       "      <td>(POLYGON ((-66.95992000000001 -54.896810000000...</td>\n",
       "      <td>44293293</td>\n",
       "      <td>Argentina</td>\n",
       "      <td>ARG</td>\n",
       "      <td>879400.0</td>\n",
       "    </tr>\n",
       "  </tbody>\n",
       "</table>\n",
       "</div>"
      ],
      "text/plain": [
       "                                                                  geometry  \\\n",
       "continent                                                                    \n",
       "Africa                   (POLYGON ((49.54351891459575 -12.4698328589405...   \n",
       "Antarctica               (POLYGON ((-163.7128956777287 -78.595667413241...   \n",
       "Asia                     (POLYGON ((120.2950142762069 -10.2586499976035...   \n",
       "Europe                   (POLYGON ((-51.65779741067889 4.15623240805302...   \n",
       "North America            (POLYGON ((-61.68000000000001 10.76, -61.105 1...   \n",
       "Oceania                  (POLYGON ((169.6678145693731 -43.5553256162263...   \n",
       "Seven seas (open ocean)  POLYGON ((68.935 -48.62500000000001, 69.58 -48...   \n",
       "South America            (POLYGON ((-66.95992000000001 -54.896810000000...   \n",
       "\n",
       "                           pop_est                    name iso_a3  gdp_md_est  \n",
       "continent                                                                      \n",
       "Africa                    53950935                Tanzania    TZA    150600.0  \n",
       "Antarctica                    4050              Antarctica    ATA       810.0  \n",
       "Asia                      18556698              Kazakhstan    KAZ    460700.0  \n",
       "Europe                   142257519                  Russia    RUS   3745000.0  \n",
       "North America             35623680                  Canada    CAN   1674000.0  \n",
       "Oceania                     920938                    Fiji    FJI      8374.0  \n",
       "Seven seas (open ocean)        140  Fr. S. Antarctic Lands    ATF        16.0  \n",
       "South America             44293293               Argentina    ARG    879400.0  "
      ]
     },
     "execution_count": 22,
     "metadata": {},
     "output_type": "execute_result"
    }
   ],
   "source": [
    "continents = countries.dissolve(by='continent')\n",
    "continents"
   ]
  },
  {
   "cell_type": "code",
   "execution_count": null,
   "metadata": {},
   "outputs": [],
   "source": []
  }
 ],
 "metadata": {
  "@webio": {
   "lastCommId": null,
   "lastKernelId": null
  },
  "kernelspec": {
   "display_name": "Python 3",
   "language": "python",
   "name": "python3"
  },
  "language_info": {
   "codemirror_mode": {
    "name": "ipython",
    "version": 3
   },
   "file_extension": ".py",
   "mimetype": "text/x-python",
   "name": "python",
   "nbconvert_exporter": "python",
   "pygments_lexer": "ipython3",
   "version": "3.7.3"
  }
 },
 "nbformat": 4,
 "nbformat_minor": 2
}
